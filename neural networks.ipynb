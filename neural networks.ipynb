{
  "nbformat": 4,
  "nbformat_minor": 0,
  "metadata": {
    "colab": {
      "provenance": []
    },
    "kernelspec": {
      "name": "python3",
      "display_name": "Python 3"
    },
    "language_info": {
      "name": "python"
    }
  },
  "cells": [
    {
      "cell_type": "markdown",
      "source": [
        "* Name:Shubham Sahu\n",
        "* Roll Number:12041430\n",
        "* References Used to Complete the Assignment\n",
        "    * a.\n",
        "    * b. \n",
        "    * c. \n",
        "\n",
        "...\n"
      ],
      "metadata": {
        "id": "T9u8qfYcZ7J9"
      }
    },
    {
      "cell_type": "markdown",
      "source": [
        "#0\n",
        "# DATA importing and cleaning\n"
      ],
      "metadata": {
        "id": "WeHf2FdPbRmP"
      }
    },
    {
      "cell_type": "code",
      "execution_count": null,
      "metadata": {
        "colab": {
          "base_uri": "https://localhost:8080/",
          "height": 90
        },
        "id": "V_JnTy17Z3GV",
        "outputId": "92c9f092-f91c-46f2-9ce7-eb7fa297e463"
      },
      "outputs": [
        {
          "output_type": "display_data",
          "data": {
            "text/plain": [
              "<IPython.core.display.HTML object>"
            ],
            "text/html": [
              "\n",
              "     <input type=\"file\" id=\"files-0b22bd03-d5bb-4897-a672-75852a8d837d\" name=\"files[]\" multiple disabled\n",
              "        style=\"border:none\" />\n",
              "     <output id=\"result-0b22bd03-d5bb-4897-a672-75852a8d837d\">\n",
              "      Upload widget is only available when the cell has been executed in the\n",
              "      current browser session. Please rerun this cell to enable.\n",
              "      </output>\n",
              "      <script>// Copyright 2017 Google LLC\n",
              "//\n",
              "// Licensed under the Apache License, Version 2.0 (the \"License\");\n",
              "// you may not use this file except in compliance with the License.\n",
              "// You may obtain a copy of the License at\n",
              "//\n",
              "//      http://www.apache.org/licenses/LICENSE-2.0\n",
              "//\n",
              "// Unless required by applicable law or agreed to in writing, software\n",
              "// distributed under the License is distributed on an \"AS IS\" BASIS,\n",
              "// WITHOUT WARRANTIES OR CONDITIONS OF ANY KIND, either express or implied.\n",
              "// See the License for the specific language governing permissions and\n",
              "// limitations under the License.\n",
              "\n",
              "/**\n",
              " * @fileoverview Helpers for google.colab Python module.\n",
              " */\n",
              "(function(scope) {\n",
              "function span(text, styleAttributes = {}) {\n",
              "  const element = document.createElement('span');\n",
              "  element.textContent = text;\n",
              "  for (const key of Object.keys(styleAttributes)) {\n",
              "    element.style[key] = styleAttributes[key];\n",
              "  }\n",
              "  return element;\n",
              "}\n",
              "\n",
              "// Max number of bytes which will be uploaded at a time.\n",
              "const MAX_PAYLOAD_SIZE = 100 * 1024;\n",
              "\n",
              "function _uploadFiles(inputId, outputId) {\n",
              "  const steps = uploadFilesStep(inputId, outputId);\n",
              "  const outputElement = document.getElementById(outputId);\n",
              "  // Cache steps on the outputElement to make it available for the next call\n",
              "  // to uploadFilesContinue from Python.\n",
              "  outputElement.steps = steps;\n",
              "\n",
              "  return _uploadFilesContinue(outputId);\n",
              "}\n",
              "\n",
              "// This is roughly an async generator (not supported in the browser yet),\n",
              "// where there are multiple asynchronous steps and the Python side is going\n",
              "// to poll for completion of each step.\n",
              "// This uses a Promise to block the python side on completion of each step,\n",
              "// then passes the result of the previous step as the input to the next step.\n",
              "function _uploadFilesContinue(outputId) {\n",
              "  const outputElement = document.getElementById(outputId);\n",
              "  const steps = outputElement.steps;\n",
              "\n",
              "  const next = steps.next(outputElement.lastPromiseValue);\n",
              "  return Promise.resolve(next.value.promise).then((value) => {\n",
              "    // Cache the last promise value to make it available to the next\n",
              "    // step of the generator.\n",
              "    outputElement.lastPromiseValue = value;\n",
              "    return next.value.response;\n",
              "  });\n",
              "}\n",
              "\n",
              "/**\n",
              " * Generator function which is called between each async step of the upload\n",
              " * process.\n",
              " * @param {string} inputId Element ID of the input file picker element.\n",
              " * @param {string} outputId Element ID of the output display.\n",
              " * @return {!Iterable<!Object>} Iterable of next steps.\n",
              " */\n",
              "function* uploadFilesStep(inputId, outputId) {\n",
              "  const inputElement = document.getElementById(inputId);\n",
              "  inputElement.disabled = false;\n",
              "\n",
              "  const outputElement = document.getElementById(outputId);\n",
              "  outputElement.innerHTML = '';\n",
              "\n",
              "  const pickedPromise = new Promise((resolve) => {\n",
              "    inputElement.addEventListener('change', (e) => {\n",
              "      resolve(e.target.files);\n",
              "    });\n",
              "  });\n",
              "\n",
              "  const cancel = document.createElement('button');\n",
              "  inputElement.parentElement.appendChild(cancel);\n",
              "  cancel.textContent = 'Cancel upload';\n",
              "  const cancelPromise = new Promise((resolve) => {\n",
              "    cancel.onclick = () => {\n",
              "      resolve(null);\n",
              "    };\n",
              "  });\n",
              "\n",
              "  // Wait for the user to pick the files.\n",
              "  const files = yield {\n",
              "    promise: Promise.race([pickedPromise, cancelPromise]),\n",
              "    response: {\n",
              "      action: 'starting',\n",
              "    }\n",
              "  };\n",
              "\n",
              "  cancel.remove();\n",
              "\n",
              "  // Disable the input element since further picks are not allowed.\n",
              "  inputElement.disabled = true;\n",
              "\n",
              "  if (!files) {\n",
              "    return {\n",
              "      response: {\n",
              "        action: 'complete',\n",
              "      }\n",
              "    };\n",
              "  }\n",
              "\n",
              "  for (const file of files) {\n",
              "    const li = document.createElement('li');\n",
              "    li.append(span(file.name, {fontWeight: 'bold'}));\n",
              "    li.append(span(\n",
              "        `(${file.type || 'n/a'}) - ${file.size} bytes, ` +\n",
              "        `last modified: ${\n",
              "            file.lastModifiedDate ? file.lastModifiedDate.toLocaleDateString() :\n",
              "                                    'n/a'} - `));\n",
              "    const percent = span('0% done');\n",
              "    li.appendChild(percent);\n",
              "\n",
              "    outputElement.appendChild(li);\n",
              "\n",
              "    const fileDataPromise = new Promise((resolve) => {\n",
              "      const reader = new FileReader();\n",
              "      reader.onload = (e) => {\n",
              "        resolve(e.target.result);\n",
              "      };\n",
              "      reader.readAsArrayBuffer(file);\n",
              "    });\n",
              "    // Wait for the data to be ready.\n",
              "    let fileData = yield {\n",
              "      promise: fileDataPromise,\n",
              "      response: {\n",
              "        action: 'continue',\n",
              "      }\n",
              "    };\n",
              "\n",
              "    // Use a chunked sending to avoid message size limits. See b/62115660.\n",
              "    let position = 0;\n",
              "    do {\n",
              "      const length = Math.min(fileData.byteLength - position, MAX_PAYLOAD_SIZE);\n",
              "      const chunk = new Uint8Array(fileData, position, length);\n",
              "      position += length;\n",
              "\n",
              "      const base64 = btoa(String.fromCharCode.apply(null, chunk));\n",
              "      yield {\n",
              "        response: {\n",
              "          action: 'append',\n",
              "          file: file.name,\n",
              "          data: base64,\n",
              "        },\n",
              "      };\n",
              "\n",
              "      let percentDone = fileData.byteLength === 0 ?\n",
              "          100 :\n",
              "          Math.round((position / fileData.byteLength) * 100);\n",
              "      percent.textContent = `${percentDone}% done`;\n",
              "\n",
              "    } while (position < fileData.byteLength);\n",
              "  }\n",
              "\n",
              "  // All done.\n",
              "  yield {\n",
              "    response: {\n",
              "      action: 'complete',\n",
              "    }\n",
              "  };\n",
              "}\n",
              "\n",
              "scope.google = scope.google || {};\n",
              "scope.google.colab = scope.google.colab || {};\n",
              "scope.google.colab._files = {\n",
              "  _uploadFiles,\n",
              "  _uploadFilesContinue,\n",
              "};\n",
              "})(self);\n",
              "</script> "
            ]
          },
          "metadata": {}
        },
        {
          "output_type": "stream",
          "name": "stdout",
          "text": [
            "Saving kaggle.json to kaggle (5).json\n"
          ]
        },
        {
          "output_type": "execute_result",
          "data": {
            "text/plain": [
              "{'kaggle.json': b'{\"username\":\"imsubhm\",\"key\":\"e56ae5c832ea2b1bfd810c033e449f74\"}'}"
            ]
          },
          "metadata": {},
          "execution_count": 148
        }
      ],
      "source": [
        "!pip install -q kaggle\n",
        "from google.colab import files\n",
        "files.upload()"
      ]
    },
    {
      "cell_type": "code",
      "source": [
        "!mkdir ~/.kaggle\n",
        "!cp kaggle.json ~/.kaggle/\n",
        "!chmod 600 ~/.kaggle/kaggle.json\n",
        "!kaggle competitions doywnload -c new-york-city-taxi-fare-prediction\n",
        "!unzip new-york-city-taxi-fare-prediction"
      ],
      "metadata": {
        "colab": {
          "base_uri": "https://localhost:8080/"
        },
        "id": "oQ8FnEGPaMsi",
        "outputId": "602f0236-fc81-4ed2-aef1-272be3dcc5e3"
      },
      "execution_count": null,
      "outputs": [
        {
          "output_type": "stream",
          "name": "stdout",
          "text": [
            "mkdir: cannot create directory ‘/root/.kaggle’: File exists\n",
            "usage: kaggle competitions [-h]\n",
            "                           {list,files,download,submit,submissions,leaderboard}\n",
            "                           ...\n",
            "kaggle competitions: error: argument command: invalid choice: 'doywnload' (choose from 'list', 'files', 'download', 'submit', 'submissions', 'leaderboard')\n",
            "Archive:  new-york-city-taxi-fare-prediction.zip\n",
            "replace GCP-Coupons-Instructions.rtf? [y]es, [n]o, [A]ll, [N]one, [r]ename: y\n",
            "  inflating: GCP-Coupons-Instructions.rtf  \n",
            "replace sample_submission.csv? [y]es, [n]o, [A]ll, [N]one, [r]ename: y\n",
            "  inflating: sample_submission.csv   \n",
            "replace test.csv? [y]es, [n]o, [A]ll, [N]one, [r]ename: y\n",
            "  inflating: test.csv                \n",
            "replace train.csv? [y]es, [n]o, [A]ll, [N]one, [r]ename: y\n",
            "  inflating: train.csv               \n"
          ]
        }
      ]
    },
    {
      "cell_type": "code",
      "source": [
        "import numpy as np \n",
        "import pandas as pd\n",
        "import sklearn\n",
        "import seaborn as sns\n",
        "import matplotlib.pyplot as plt\n",
        "import statsmodels.api as sm\n",
        "from sklearn.base import BaseEstimator, TransformerMixin\n",
        "import tensorflow as tf\n",
        "import io\n",
        "import os\n",
        "from sklearn.preprocessing import StandardScaler\n",
        "from sklearn.model_selection import train_test_split, GridSearchCV, cross_validate, KFold\n",
        "from sklearn.metrics import mean_absolute_error, mean_squared_error, mean_absolute_percentage_error\n",
        "import scipy.stats as st\n",
        "from tensorflow import keras\n",
        "import keras_tuner as kt\n",
        "from sklearn.model_selection import RandomizedSearchCV\n",
        "from scipy.stats import reciprocal\n",
        "from keras_tuner.tuners import RandomSearch"
      ],
      "metadata": {
        "id": "RmL1WsEJah_z"
      },
      "execution_count": null,
      "outputs": []
    },
    {
      "cell_type": "code",
      "source": [
        "train = pd.read_csv(\"/content/train.csv\", nrows = 1000000)\n",
        "test = pd.read_csv(\"/content/test.csv\")"
      ],
      "metadata": {
        "id": "x5Fe0YRuaxNo"
      },
      "execution_count": null,
      "outputs": []
    },
    {
      "cell_type": "code",
      "source": [
        "#drop the missing values\n",
        "train.dropna(axis=0, subset=['dropoff_longitude', 'dropoff_latitude'], inplace=True)\n",
        "train = train.reset_index(drop=True)"
      ],
      "metadata": {
        "id": "JYbyiR0iei5A"
      },
      "execution_count": null,
      "outputs": []
    },
    {
      "cell_type": "code",
      "source": [
        "train = train.drop(train[train['passenger_count']<=0].index, axis=0)\n",
        "train = train.drop(train[train['passenger_count']>=7].index, axis=0)"
      ],
      "metadata": {
        "id": "SLRVC4kpei2L"
      },
      "execution_count": null,
      "outputs": []
    },
    {
      "cell_type": "code",
      "source": [
        "train = train.drop(train[train['pickup_latitude']<-90].index, axis=0)\n",
        "train = train.drop(train[train['pickup_latitude']>90].index, axis=0)\n",
        "\n",
        "train = train.drop(train[train['dropoff_latitude']<-90].index, axis=0)\n",
        "train = train.drop(train[train['dropoff_latitude']>90].index, axis=0)"
      ],
      "metadata": {
        "id": "-VjrANjZd2kZ"
      },
      "execution_count": null,
      "outputs": []
    },
    {
      "cell_type": "code",
      "source": [
        "train = train.drop(train[train['pickup_longitude']<-180].index, axis=0)\n",
        "train = train.drop(train[train['pickup_longitude']>180].index, axis=0)\n",
        "\n",
        "train = train.drop(train[train['dropoff_longitude']<-180].index, axis=0)\n",
        "train = train.drop(train[train['dropoff_longitude']>180].index, axis=0)"
      ],
      "metadata": {
        "id": "uv7CuhHUd2b3"
      },
      "execution_count": null,
      "outputs": []
    },
    {
      "cell_type": "code",
      "source": [
        "test = test.drop(test[test['pickup_latitude']<-90].index, axis=0)\n",
        "test = test.drop(test[test['pickup_latitude']>90].index, axis=0)\n",
        "\n",
        "test = test.drop(test[test['dropoff_latitude']<-90].index, axis=0)\n",
        "test = test.drop(test[test['dropoff_latitude']>90].index, axis=0)"
      ],
      "metadata": {
        "id": "paet6_0c_eJQ"
      },
      "execution_count": null,
      "outputs": []
    },
    {
      "cell_type": "code",
      "source": [
        "test = test.drop(test[test['pickup_longitude']<-180].index, axis=0)\n",
        "test = test.drop(test[test['pickup_longitude']>180].index, axis=0)\n",
        "\n",
        "test = test.drop(test[test['dropoff_longitude']<-180].index, axis=0)\n",
        "test = test.drop(test[test['dropoff_longitude']>180].index, axis=0)"
      ],
      "metadata": {
        "id": "_Ad8i9tj_eGi"
      },
      "execution_count": null,
      "outputs": []
    },
    {
      "cell_type": "code",
      "source": [
        "train['key'] = pd.to_datetime(train['key'])\n",
        "train['pickup_datetime']  = pd.to_datetime(train['pickup_datetime'])"
      ],
      "metadata": {
        "id": "sjo6_hWa_eDZ"
      },
      "execution_count": null,
      "outputs": []
    },
    {
      "cell_type": "code",
      "source": [
        "train.head()"
      ],
      "metadata": {
        "colab": {
          "base_uri": "https://localhost:8080/",
          "height": 206
        },
        "id": "t1x1XBluJUhn",
        "outputId": "6dbd7641-da10-43cc-cbd7-7ed8906e3b54"
      },
      "execution_count": null,
      "outputs": [
        {
          "output_type": "execute_result",
          "data": {
            "text/plain": [
              "                            key  fare_amount           pickup_datetime  \\\n",
              "0 2009-06-15 17:26:21.000000100          4.5 2009-06-15 17:26:21+00:00   \n",
              "1 2010-01-05 16:52:16.000000200         16.9 2010-01-05 16:52:16+00:00   \n",
              "2 2011-08-18 00:35:00.000000490          5.7 2011-08-18 00:35:00+00:00   \n",
              "3 2012-04-21 04:30:42.000000100          7.7 2012-04-21 04:30:42+00:00   \n",
              "4 2010-03-09 07:51:00.000000135          5.3 2010-03-09 07:51:00+00:00   \n",
              "\n",
              "   pickup_longitude  pickup_latitude  dropoff_longitude  dropoff_latitude  \\\n",
              "0        -73.844311        40.721319         -73.841610         40.712278   \n",
              "1        -74.016048        40.711303         -73.979268         40.782004   \n",
              "2        -73.982738        40.761270         -73.991242         40.750562   \n",
              "3        -73.987130        40.733143         -73.991567         40.758092   \n",
              "4        -73.968095        40.768008         -73.956655         40.783762   \n",
              "\n",
              "   passenger_count  \n",
              "0                1  \n",
              "1                1  \n",
              "2                2  \n",
              "3                1  \n",
              "4                1  "
            ],
            "text/html": [
              "\n",
              "  <div id=\"df-9e77cc71-27d8-4d2a-92d0-5d5969149235\">\n",
              "    <div class=\"colab-df-container\">\n",
              "      <div>\n",
              "<style scoped>\n",
              "    .dataframe tbody tr th:only-of-type {\n",
              "        vertical-align: middle;\n",
              "    }\n",
              "\n",
              "    .dataframe tbody tr th {\n",
              "        vertical-align: top;\n",
              "    }\n",
              "\n",
              "    .dataframe thead th {\n",
              "        text-align: right;\n",
              "    }\n",
              "</style>\n",
              "<table border=\"1\" class=\"dataframe\">\n",
              "  <thead>\n",
              "    <tr style=\"text-align: right;\">\n",
              "      <th></th>\n",
              "      <th>key</th>\n",
              "      <th>fare_amount</th>\n",
              "      <th>pickup_datetime</th>\n",
              "      <th>pickup_longitude</th>\n",
              "      <th>pickup_latitude</th>\n",
              "      <th>dropoff_longitude</th>\n",
              "      <th>dropoff_latitude</th>\n",
              "      <th>passenger_count</th>\n",
              "    </tr>\n",
              "  </thead>\n",
              "  <tbody>\n",
              "    <tr>\n",
              "      <th>0</th>\n",
              "      <td>2009-06-15 17:26:21.000000100</td>\n",
              "      <td>4.5</td>\n",
              "      <td>2009-06-15 17:26:21+00:00</td>\n",
              "      <td>-73.844311</td>\n",
              "      <td>40.721319</td>\n",
              "      <td>-73.841610</td>\n",
              "      <td>40.712278</td>\n",
              "      <td>1</td>\n",
              "    </tr>\n",
              "    <tr>\n",
              "      <th>1</th>\n",
              "      <td>2010-01-05 16:52:16.000000200</td>\n",
              "      <td>16.9</td>\n",
              "      <td>2010-01-05 16:52:16+00:00</td>\n",
              "      <td>-74.016048</td>\n",
              "      <td>40.711303</td>\n",
              "      <td>-73.979268</td>\n",
              "      <td>40.782004</td>\n",
              "      <td>1</td>\n",
              "    </tr>\n",
              "    <tr>\n",
              "      <th>2</th>\n",
              "      <td>2011-08-18 00:35:00.000000490</td>\n",
              "      <td>5.7</td>\n",
              "      <td>2011-08-18 00:35:00+00:00</td>\n",
              "      <td>-73.982738</td>\n",
              "      <td>40.761270</td>\n",
              "      <td>-73.991242</td>\n",
              "      <td>40.750562</td>\n",
              "      <td>2</td>\n",
              "    </tr>\n",
              "    <tr>\n",
              "      <th>3</th>\n",
              "      <td>2012-04-21 04:30:42.000000100</td>\n",
              "      <td>7.7</td>\n",
              "      <td>2012-04-21 04:30:42+00:00</td>\n",
              "      <td>-73.987130</td>\n",
              "      <td>40.733143</td>\n",
              "      <td>-73.991567</td>\n",
              "      <td>40.758092</td>\n",
              "      <td>1</td>\n",
              "    </tr>\n",
              "    <tr>\n",
              "      <th>4</th>\n",
              "      <td>2010-03-09 07:51:00.000000135</td>\n",
              "      <td>5.3</td>\n",
              "      <td>2010-03-09 07:51:00+00:00</td>\n",
              "      <td>-73.968095</td>\n",
              "      <td>40.768008</td>\n",
              "      <td>-73.956655</td>\n",
              "      <td>40.783762</td>\n",
              "      <td>1</td>\n",
              "    </tr>\n",
              "  </tbody>\n",
              "</table>\n",
              "</div>\n",
              "      <button class=\"colab-df-convert\" onclick=\"convertToInteractive('df-9e77cc71-27d8-4d2a-92d0-5d5969149235')\"\n",
              "              title=\"Convert this dataframe to an interactive table.\"\n",
              "              style=\"display:none;\">\n",
              "        \n",
              "  <svg xmlns=\"http://www.w3.org/2000/svg\" height=\"24px\"viewBox=\"0 0 24 24\"\n",
              "       width=\"24px\">\n",
              "    <path d=\"M0 0h24v24H0V0z\" fill=\"none\"/>\n",
              "    <path d=\"M18.56 5.44l.94 2.06.94-2.06 2.06-.94-2.06-.94-.94-2.06-.94 2.06-2.06.94zm-11 1L8.5 8.5l.94-2.06 2.06-.94-2.06-.94L8.5 2.5l-.94 2.06-2.06.94zm10 10l.94 2.06.94-2.06 2.06-.94-2.06-.94-.94-2.06-.94 2.06-2.06.94z\"/><path d=\"M17.41 7.96l-1.37-1.37c-.4-.4-.92-.59-1.43-.59-.52 0-1.04.2-1.43.59L10.3 9.45l-7.72 7.72c-.78.78-.78 2.05 0 2.83L4 21.41c.39.39.9.59 1.41.59.51 0 1.02-.2 1.41-.59l7.78-7.78 2.81-2.81c.8-.78.8-2.07 0-2.86zM5.41 20L4 18.59l7.72-7.72 1.47 1.35L5.41 20z\"/>\n",
              "  </svg>\n",
              "      </button>\n",
              "      \n",
              "  <style>\n",
              "    .colab-df-container {\n",
              "      display:flex;\n",
              "      flex-wrap:wrap;\n",
              "      gap: 12px;\n",
              "    }\n",
              "\n",
              "    .colab-df-convert {\n",
              "      background-color: #E8F0FE;\n",
              "      border: none;\n",
              "      border-radius: 50%;\n",
              "      cursor: pointer;\n",
              "      display: none;\n",
              "      fill: #1967D2;\n",
              "      height: 32px;\n",
              "      padding: 0 0 0 0;\n",
              "      width: 32px;\n",
              "    }\n",
              "\n",
              "    .colab-df-convert:hover {\n",
              "      background-color: #E2EBFA;\n",
              "      box-shadow: 0px 1px 2px rgba(60, 64, 67, 0.3), 0px 1px 3px 1px rgba(60, 64, 67, 0.15);\n",
              "      fill: #174EA6;\n",
              "    }\n",
              "\n",
              "    [theme=dark] .colab-df-convert {\n",
              "      background-color: #3B4455;\n",
              "      fill: #D2E3FC;\n",
              "    }\n",
              "\n",
              "    [theme=dark] .colab-df-convert:hover {\n",
              "      background-color: #434B5C;\n",
              "      box-shadow: 0px 1px 3px 1px rgba(0, 0, 0, 0.15);\n",
              "      filter: drop-shadow(0px 1px 2px rgba(0, 0, 0, 0.3));\n",
              "      fill: #FFFFFF;\n",
              "    }\n",
              "  </style>\n",
              "\n",
              "      <script>\n",
              "        const buttonEl =\n",
              "          document.querySelector('#df-9e77cc71-27d8-4d2a-92d0-5d5969149235 button.colab-df-convert');\n",
              "        buttonEl.style.display =\n",
              "          google.colab.kernel.accessAllowed ? 'block' : 'none';\n",
              "\n",
              "        async function convertToInteractive(key) {\n",
              "          const element = document.querySelector('#df-9e77cc71-27d8-4d2a-92d0-5d5969149235');\n",
              "          const dataTable =\n",
              "            await google.colab.kernel.invokeFunction('convertToInteractive',\n",
              "                                                     [key], {});\n",
              "          if (!dataTable) return;\n",
              "\n",
              "          const docLinkHtml = 'Like what you see? Visit the ' +\n",
              "            '<a target=\"_blank\" href=https://colab.research.google.com/notebooks/data_table.ipynb>data table notebook</a>'\n",
              "            + ' to learn more about interactive tables.';\n",
              "          element.innerHTML = '';\n",
              "          dataTable['output_type'] = 'display_data';\n",
              "          await google.colab.output.renderOutput(dataTable, element);\n",
              "          const docLink = document.createElement('div');\n",
              "          docLink.innerHTML = docLinkHtml;\n",
              "          element.appendChild(docLink);\n",
              "        }\n",
              "      </script>\n",
              "    </div>\n",
              "  </div>\n",
              "  "
            ]
          },
          "metadata": {},
          "execution_count": 182
        }
      ]
    },
    {
      "cell_type": "code",
      "source": [
        "#Convert for test data\n",
        "test['key'] = pd.to_datetime(test['key'])\n",
        "test['pickup_datetime']  = pd.to_datetime(test['pickup_datetime'])"
      ],
      "metadata": {
        "id": "DrrIM7fl_eBU"
      },
      "execution_count": null,
      "outputs": []
    },
    {
      "cell_type": "code",
      "source": [
        "def select_outside_boundingbox(df, BB):\n",
        "    filter_df = df.loc[(df['pickup_longitude'] < BB[0]) | (df['pickup_longitude'] > BB[1]) | \\\n",
        "           (df['pickup_latitude'] < BB[2]) | (df['pickup_latitude'] > BB[3]) | \\\n",
        "           (df['dropoff_longitude'] < BB[0]) | (df['dropoff_longitude'] > BB[1]) | \\\n",
        "           (df['dropoff_latitude'] < BB[2]) | (df['dropoff_latitude'] > BB[3])]\n",
        "    return filter_df\n",
        "\n",
        "NYC_BB = (-74.5, -72.8, 40.5, 41.8)"
      ],
      "metadata": {
        "id": "ZGAKqtZA_d9_"
      },
      "execution_count": null,
      "outputs": []
    },
    {
      "cell_type": "code",
      "source": [
        "train_outliers = select_outside_boundingbox(train, NYC_BB)\n",
        "train_outliers"
      ],
      "metadata": {
        "colab": {
          "base_uri": "https://localhost:8080/",
          "height": 424
        },
        "id": "azJHn4co_d8g",
        "outputId": "d40616d4-7c70-4ac6-9587-a722f373e328"
      },
      "execution_count": null,
      "outputs": [
        {
          "output_type": "execute_result",
          "data": {
            "text/plain": [
              "                                 key  fare_amount           pickup_datetime  \\\n",
              "11     2012-12-24 11:24:00.000000980          5.5 2012-12-24 11:24:00+00:00   \n",
              "15     2013-11-23 12:57:00.000000190          5.0 2013-11-23 12:57:00+00:00   \n",
              "26     2011-02-07 20:01:00.000000114          6.5 2011-02-07 20:01:00+00:00   \n",
              "124    2013-01-17 17:22:00.000000430          8.0 2013-01-17 17:22:00+00:00   \n",
              "192    2010-09-05 17:08:00.000000920          3.7 2010-09-05 17:08:00+00:00   \n",
              "...                              ...          ...                       ...   \n",
              "999703 2013-06-07 20:40:21.000000300          8.0 2013-06-07 20:40:21+00:00   \n",
              "999713 2013-03-03 13:18:00.000000227          3.5 2013-03-03 13:18:00+00:00   \n",
              "999721 2014-05-04 23:27:00.000000103          9.0 2014-05-04 23:27:00+00:00   \n",
              "999878 2010-04-28 21:08:00.000000380          9.3 2010-04-28 21:08:00+00:00   \n",
              "999905 2014-05-12 02:34:05.000000100          8.0 2014-05-12 02:34:05+00:00   \n",
              "\n",
              "        pickup_longitude  pickup_latitude  dropoff_longitude  \\\n",
              "11                   0.0              0.0                0.0   \n",
              "15                   0.0              0.0                0.0   \n",
              "26                   0.0              0.0                0.0   \n",
              "124                  0.0              0.0                0.0   \n",
              "192                  0.0              0.0                0.0   \n",
              "...                  ...              ...                ...   \n",
              "999703               0.0              0.0                0.0   \n",
              "999713               0.0              0.0                0.0   \n",
              "999721               0.0              0.0                0.0   \n",
              "999878               0.0              0.0                0.0   \n",
              "999905               0.0              0.0                0.0   \n",
              "\n",
              "        dropoff_latitude  passenger_count  \n",
              "11                   0.0                3  \n",
              "15                   0.0                1  \n",
              "26                   0.0                1  \n",
              "124                  0.0                2  \n",
              "192                  0.0                5  \n",
              "...                  ...              ...  \n",
              "999703               0.0                2  \n",
              "999713               0.0                6  \n",
              "999721               0.0                6  \n",
              "999878               0.0                3  \n",
              "999905               0.0                2  \n",
              "\n",
              "[20824 rows x 8 columns]"
            ],
            "text/html": [
              "\n",
              "  <div id=\"df-35618736-1e0a-454e-ac59-0618e3b3bd8e\">\n",
              "    <div class=\"colab-df-container\">\n",
              "      <div>\n",
              "<style scoped>\n",
              "    .dataframe tbody tr th:only-of-type {\n",
              "        vertical-align: middle;\n",
              "    }\n",
              "\n",
              "    .dataframe tbody tr th {\n",
              "        vertical-align: top;\n",
              "    }\n",
              "\n",
              "    .dataframe thead th {\n",
              "        text-align: right;\n",
              "    }\n",
              "</style>\n",
              "<table border=\"1\" class=\"dataframe\">\n",
              "  <thead>\n",
              "    <tr style=\"text-align: right;\">\n",
              "      <th></th>\n",
              "      <th>key</th>\n",
              "      <th>fare_amount</th>\n",
              "      <th>pickup_datetime</th>\n",
              "      <th>pickup_longitude</th>\n",
              "      <th>pickup_latitude</th>\n",
              "      <th>dropoff_longitude</th>\n",
              "      <th>dropoff_latitude</th>\n",
              "      <th>passenger_count</th>\n",
              "    </tr>\n",
              "  </thead>\n",
              "  <tbody>\n",
              "    <tr>\n",
              "      <th>11</th>\n",
              "      <td>2012-12-24 11:24:00.000000980</td>\n",
              "      <td>5.5</td>\n",
              "      <td>2012-12-24 11:24:00+00:00</td>\n",
              "      <td>0.0</td>\n",
              "      <td>0.0</td>\n",
              "      <td>0.0</td>\n",
              "      <td>0.0</td>\n",
              "      <td>3</td>\n",
              "    </tr>\n",
              "    <tr>\n",
              "      <th>15</th>\n",
              "      <td>2013-11-23 12:57:00.000000190</td>\n",
              "      <td>5.0</td>\n",
              "      <td>2013-11-23 12:57:00+00:00</td>\n",
              "      <td>0.0</td>\n",
              "      <td>0.0</td>\n",
              "      <td>0.0</td>\n",
              "      <td>0.0</td>\n",
              "      <td>1</td>\n",
              "    </tr>\n",
              "    <tr>\n",
              "      <th>26</th>\n",
              "      <td>2011-02-07 20:01:00.000000114</td>\n",
              "      <td>6.5</td>\n",
              "      <td>2011-02-07 20:01:00+00:00</td>\n",
              "      <td>0.0</td>\n",
              "      <td>0.0</td>\n",
              "      <td>0.0</td>\n",
              "      <td>0.0</td>\n",
              "      <td>1</td>\n",
              "    </tr>\n",
              "    <tr>\n",
              "      <th>124</th>\n",
              "      <td>2013-01-17 17:22:00.000000430</td>\n",
              "      <td>8.0</td>\n",
              "      <td>2013-01-17 17:22:00+00:00</td>\n",
              "      <td>0.0</td>\n",
              "      <td>0.0</td>\n",
              "      <td>0.0</td>\n",
              "      <td>0.0</td>\n",
              "      <td>2</td>\n",
              "    </tr>\n",
              "    <tr>\n",
              "      <th>192</th>\n",
              "      <td>2010-09-05 17:08:00.000000920</td>\n",
              "      <td>3.7</td>\n",
              "      <td>2010-09-05 17:08:00+00:00</td>\n",
              "      <td>0.0</td>\n",
              "      <td>0.0</td>\n",
              "      <td>0.0</td>\n",
              "      <td>0.0</td>\n",
              "      <td>5</td>\n",
              "    </tr>\n",
              "    <tr>\n",
              "      <th>...</th>\n",
              "      <td>...</td>\n",
              "      <td>...</td>\n",
              "      <td>...</td>\n",
              "      <td>...</td>\n",
              "      <td>...</td>\n",
              "      <td>...</td>\n",
              "      <td>...</td>\n",
              "      <td>...</td>\n",
              "    </tr>\n",
              "    <tr>\n",
              "      <th>999703</th>\n",
              "      <td>2013-06-07 20:40:21.000000300</td>\n",
              "      <td>8.0</td>\n",
              "      <td>2013-06-07 20:40:21+00:00</td>\n",
              "      <td>0.0</td>\n",
              "      <td>0.0</td>\n",
              "      <td>0.0</td>\n",
              "      <td>0.0</td>\n",
              "      <td>2</td>\n",
              "    </tr>\n",
              "    <tr>\n",
              "      <th>999713</th>\n",
              "      <td>2013-03-03 13:18:00.000000227</td>\n",
              "      <td>3.5</td>\n",
              "      <td>2013-03-03 13:18:00+00:00</td>\n",
              "      <td>0.0</td>\n",
              "      <td>0.0</td>\n",
              "      <td>0.0</td>\n",
              "      <td>0.0</td>\n",
              "      <td>6</td>\n",
              "    </tr>\n",
              "    <tr>\n",
              "      <th>999721</th>\n",
              "      <td>2014-05-04 23:27:00.000000103</td>\n",
              "      <td>9.0</td>\n",
              "      <td>2014-05-04 23:27:00+00:00</td>\n",
              "      <td>0.0</td>\n",
              "      <td>0.0</td>\n",
              "      <td>0.0</td>\n",
              "      <td>0.0</td>\n",
              "      <td>6</td>\n",
              "    </tr>\n",
              "    <tr>\n",
              "      <th>999878</th>\n",
              "      <td>2010-04-28 21:08:00.000000380</td>\n",
              "      <td>9.3</td>\n",
              "      <td>2010-04-28 21:08:00+00:00</td>\n",
              "      <td>0.0</td>\n",
              "      <td>0.0</td>\n",
              "      <td>0.0</td>\n",
              "      <td>0.0</td>\n",
              "      <td>3</td>\n",
              "    </tr>\n",
              "    <tr>\n",
              "      <th>999905</th>\n",
              "      <td>2014-05-12 02:34:05.000000100</td>\n",
              "      <td>8.0</td>\n",
              "      <td>2014-05-12 02:34:05+00:00</td>\n",
              "      <td>0.0</td>\n",
              "      <td>0.0</td>\n",
              "      <td>0.0</td>\n",
              "      <td>0.0</td>\n",
              "      <td>2</td>\n",
              "    </tr>\n",
              "  </tbody>\n",
              "</table>\n",
              "<p>20824 rows × 8 columns</p>\n",
              "</div>\n",
              "      <button class=\"colab-df-convert\" onclick=\"convertToInteractive('df-35618736-1e0a-454e-ac59-0618e3b3bd8e')\"\n",
              "              title=\"Convert this dataframe to an interactive table.\"\n",
              "              style=\"display:none;\">\n",
              "        \n",
              "  <svg xmlns=\"http://www.w3.org/2000/svg\" height=\"24px\"viewBox=\"0 0 24 24\"\n",
              "       width=\"24px\">\n",
              "    <path d=\"M0 0h24v24H0V0z\" fill=\"none\"/>\n",
              "    <path d=\"M18.56 5.44l.94 2.06.94-2.06 2.06-.94-2.06-.94-.94-2.06-.94 2.06-2.06.94zm-11 1L8.5 8.5l.94-2.06 2.06-.94-2.06-.94L8.5 2.5l-.94 2.06-2.06.94zm10 10l.94 2.06.94-2.06 2.06-.94-2.06-.94-.94-2.06-.94 2.06-2.06.94z\"/><path d=\"M17.41 7.96l-1.37-1.37c-.4-.4-.92-.59-1.43-.59-.52 0-1.04.2-1.43.59L10.3 9.45l-7.72 7.72c-.78.78-.78 2.05 0 2.83L4 21.41c.39.39.9.59 1.41.59.51 0 1.02-.2 1.41-.59l7.78-7.78 2.81-2.81c.8-.78.8-2.07 0-2.86zM5.41 20L4 18.59l7.72-7.72 1.47 1.35L5.41 20z\"/>\n",
              "  </svg>\n",
              "      </button>\n",
              "      \n",
              "  <style>\n",
              "    .colab-df-container {\n",
              "      display:flex;\n",
              "      flex-wrap:wrap;\n",
              "      gap: 12px;\n",
              "    }\n",
              "\n",
              "    .colab-df-convert {\n",
              "      background-color: #E8F0FE;\n",
              "      border: none;\n",
              "      border-radius: 50%;\n",
              "      cursor: pointer;\n",
              "      display: none;\n",
              "      fill: #1967D2;\n",
              "      height: 32px;\n",
              "      padding: 0 0 0 0;\n",
              "      width: 32px;\n",
              "    }\n",
              "\n",
              "    .colab-df-convert:hover {\n",
              "      background-color: #E2EBFA;\n",
              "      box-shadow: 0px 1px 2px rgba(60, 64, 67, 0.3), 0px 1px 3px 1px rgba(60, 64, 67, 0.15);\n",
              "      fill: #174EA6;\n",
              "    }\n",
              "\n",
              "    [theme=dark] .colab-df-convert {\n",
              "      background-color: #3B4455;\n",
              "      fill: #D2E3FC;\n",
              "    }\n",
              "\n",
              "    [theme=dark] .colab-df-convert:hover {\n",
              "      background-color: #434B5C;\n",
              "      box-shadow: 0px 1px 3px 1px rgba(0, 0, 0, 0.15);\n",
              "      filter: drop-shadow(0px 1px 2px rgba(0, 0, 0, 0.3));\n",
              "      fill: #FFFFFF;\n",
              "    }\n",
              "  </style>\n",
              "\n",
              "      <script>\n",
              "        const buttonEl =\n",
              "          document.querySelector('#df-35618736-1e0a-454e-ac59-0618e3b3bd8e button.colab-df-convert');\n",
              "        buttonEl.style.display =\n",
              "          google.colab.kernel.accessAllowed ? 'block' : 'none';\n",
              "\n",
              "        async function convertToInteractive(key) {\n",
              "          const element = document.querySelector('#df-35618736-1e0a-454e-ac59-0618e3b3bd8e');\n",
              "          const dataTable =\n",
              "            await google.colab.kernel.invokeFunction('convertToInteractive',\n",
              "                                                     [key], {});\n",
              "          if (!dataTable) return;\n",
              "\n",
              "          const docLinkHtml = 'Like what you see? Visit the ' +\n",
              "            '<a target=\"_blank\" href=https://colab.research.google.com/notebooks/data_table.ipynb>data table notebook</a>'\n",
              "            + ' to learn more about interactive tables.';\n",
              "          element.innerHTML = '';\n",
              "          dataTable['output_type'] = 'display_data';\n",
              "          await google.colab.output.renderOutput(dataTable, element);\n",
              "          const docLink = document.createElement('div');\n",
              "          docLink.innerHTML = docLinkHtml;\n",
              "          element.appendChild(docLink);\n",
              "        }\n",
              "      </script>\n",
              "    </div>\n",
              "  </div>\n",
              "  "
            ]
          },
          "metadata": {},
          "execution_count": 185
        }
      ]
    },
    {
      "cell_type": "code",
      "source": [
        "train = train.drop(train_outliers.index, axis=0)"
      ],
      "metadata": {
        "id": "zXEQRprA_d6h"
      },
      "execution_count": null,
      "outputs": []
    },
    {
      "cell_type": "code",
      "source": [
        "test_outliers = select_outside_boundingbox(test, NYC_BB)\n",
        "test_outliers"
      ],
      "metadata": {
        "colab": {
          "base_uri": "https://localhost:8080/",
          "height": 49
        },
        "id": "9G5ZhI9d_d4e",
        "outputId": "ac83a12f-9a9d-4ea2-8428-965ee55f6058"
      },
      "execution_count": null,
      "outputs": [
        {
          "output_type": "execute_result",
          "data": {
            "text/plain": [
              "Empty DataFrame\n",
              "Columns: [key, pickup_datetime, pickup_longitude, pickup_latitude, dropoff_longitude, dropoff_latitude, passenger_count]\n",
              "Index: []"
            ],
            "text/html": [
              "\n",
              "  <div id=\"df-625386ae-4a37-4763-b5f3-e44252517378\">\n",
              "    <div class=\"colab-df-container\">\n",
              "      <div>\n",
              "<style scoped>\n",
              "    .dataframe tbody tr th:only-of-type {\n",
              "        vertical-align: middle;\n",
              "    }\n",
              "\n",
              "    .dataframe tbody tr th {\n",
              "        vertical-align: top;\n",
              "    }\n",
              "\n",
              "    .dataframe thead th {\n",
              "        text-align: right;\n",
              "    }\n",
              "</style>\n",
              "<table border=\"1\" class=\"dataframe\">\n",
              "  <thead>\n",
              "    <tr style=\"text-align: right;\">\n",
              "      <th></th>\n",
              "      <th>key</th>\n",
              "      <th>pickup_datetime</th>\n",
              "      <th>pickup_longitude</th>\n",
              "      <th>pickup_latitude</th>\n",
              "      <th>dropoff_longitude</th>\n",
              "      <th>dropoff_latitude</th>\n",
              "      <th>passenger_count</th>\n",
              "    </tr>\n",
              "  </thead>\n",
              "  <tbody>\n",
              "  </tbody>\n",
              "</table>\n",
              "</div>\n",
              "      <button class=\"colab-df-convert\" onclick=\"convertToInteractive('df-625386ae-4a37-4763-b5f3-e44252517378')\"\n",
              "              title=\"Convert this dataframe to an interactive table.\"\n",
              "              style=\"display:none;\">\n",
              "        \n",
              "  <svg xmlns=\"http://www.w3.org/2000/svg\" height=\"24px\"viewBox=\"0 0 24 24\"\n",
              "       width=\"24px\">\n",
              "    <path d=\"M0 0h24v24H0V0z\" fill=\"none\"/>\n",
              "    <path d=\"M18.56 5.44l.94 2.06.94-2.06 2.06-.94-2.06-.94-.94-2.06-.94 2.06-2.06.94zm-11 1L8.5 8.5l.94-2.06 2.06-.94-2.06-.94L8.5 2.5l-.94 2.06-2.06.94zm10 10l.94 2.06.94-2.06 2.06-.94-2.06-.94-.94-2.06-.94 2.06-2.06.94z\"/><path d=\"M17.41 7.96l-1.37-1.37c-.4-.4-.92-.59-1.43-.59-.52 0-1.04.2-1.43.59L10.3 9.45l-7.72 7.72c-.78.78-.78 2.05 0 2.83L4 21.41c.39.39.9.59 1.41.59.51 0 1.02-.2 1.41-.59l7.78-7.78 2.81-2.81c.8-.78.8-2.07 0-2.86zM5.41 20L4 18.59l7.72-7.72 1.47 1.35L5.41 20z\"/>\n",
              "  </svg>\n",
              "      </button>\n",
              "      \n",
              "  <style>\n",
              "    .colab-df-container {\n",
              "      display:flex;\n",
              "      flex-wrap:wrap;\n",
              "      gap: 12px;\n",
              "    }\n",
              "\n",
              "    .colab-df-convert {\n",
              "      background-color: #E8F0FE;\n",
              "      border: none;\n",
              "      border-radius: 50%;\n",
              "      cursor: pointer;\n",
              "      display: none;\n",
              "      fill: #1967D2;\n",
              "      height: 32px;\n",
              "      padding: 0 0 0 0;\n",
              "      width: 32px;\n",
              "    }\n",
              "\n",
              "    .colab-df-convert:hover {\n",
              "      background-color: #E2EBFA;\n",
              "      box-shadow: 0px 1px 2px rgba(60, 64, 67, 0.3), 0px 1px 3px 1px rgba(60, 64, 67, 0.15);\n",
              "      fill: #174EA6;\n",
              "    }\n",
              "\n",
              "    [theme=dark] .colab-df-convert {\n",
              "      background-color: #3B4455;\n",
              "      fill: #D2E3FC;\n",
              "    }\n",
              "\n",
              "    [theme=dark] .colab-df-convert:hover {\n",
              "      background-color: #434B5C;\n",
              "      box-shadow: 0px 1px 3px 1px rgba(0, 0, 0, 0.15);\n",
              "      filter: drop-shadow(0px 1px 2px rgba(0, 0, 0, 0.3));\n",
              "      fill: #FFFFFF;\n",
              "    }\n",
              "  </style>\n",
              "\n",
              "      <script>\n",
              "        const buttonEl =\n",
              "          document.querySelector('#df-625386ae-4a37-4763-b5f3-e44252517378 button.colab-df-convert');\n",
              "        buttonEl.style.display =\n",
              "          google.colab.kernel.accessAllowed ? 'block' : 'none';\n",
              "\n",
              "        async function convertToInteractive(key) {\n",
              "          const element = document.querySelector('#df-625386ae-4a37-4763-b5f3-e44252517378');\n",
              "          const dataTable =\n",
              "            await google.colab.kernel.invokeFunction('convertToInteractive',\n",
              "                                                     [key], {});\n",
              "          if (!dataTable) return;\n",
              "\n",
              "          const docLinkHtml = 'Like what you see? Visit the ' +\n",
              "            '<a target=\"_blank\" href=https://colab.research.google.com/notebooks/data_table.ipynb>data table notebook</a>'\n",
              "            + ' to learn more about interactive tables.';\n",
              "          element.innerHTML = '';\n",
              "          dataTable['output_type'] = 'display_data';\n",
              "          await google.colab.output.renderOutput(dataTable, element);\n",
              "          const docLink = document.createElement('div');\n",
              "          docLink.innerHTML = docLinkHtml;\n",
              "          element.appendChild(docLink);\n",
              "        }\n",
              "      </script>\n",
              "    </div>\n",
              "  </div>\n",
              "  "
            ]
          },
          "metadata": {},
          "execution_count": 187
        }
      ]
    },
    {
      "cell_type": "code",
      "source": [
        "data = [train,test]\n",
        "\n",
        "for i in data:\n",
        "    i[\"hour\"] = i.pickup_datetime.dt.hour\n",
        "    i[\"day_of_week\"] = i.pickup_datetime.dt.weekday\n",
        "    i[\"day_of_month\"] = i.pickup_datetime.dt.day\n",
        "    i[\"week\"] = i.pickup_datetime.dt.isocalendar().week\n",
        "    i[\"month\"] = i.pickup_datetime.dt.month\n",
        "    i[\"year\"] = i.pickup_datetime.dt.year"
      ],
      "metadata": {
        "id": "uXRcxKvad2ZB"
      },
      "execution_count": null,
      "outputs": []
    },
    {
      "cell_type": "code",
      "source": [
        "# Calculating the Distance between the pickup and dropoff locations\n",
        "data = [train, test]\n",
        "for i in data:\n",
        "    R = 6371  #radius of earth in kilometers\n",
        "    #R = 3959 #radius of earth in miles\n",
        "    phi1 = np.radians(i['pickup_latitude'])\n",
        "    phi2 = np.radians(i['dropoff_latitude'])\n",
        "\n",
        "    delta_phi = np.radians(i['dropoff_latitude']-i['pickup_latitude'])\n",
        "    delta_lambda = np.radians(i['dropoff_longitude']-i['pickup_longitude'])\n",
        "\n",
        "    #a = sin²((φB - φA)/2) + cos φA . cos φB . sin²((λB - λA)/2)\n",
        "    a = np.sin(delta_phi / 2.0) ** 2 + np.cos(phi1) * np.cos(phi2) * np.sin(delta_lambda / 2.0) ** 2\n",
        "\n",
        "    #c = 2 * atan2( √a, √(1−a) )\n",
        "    c = 2 * np.arctan2(np.sqrt(a), np.sqrt(1-a))\n",
        "\n",
        "    #d = R*c\n",
        "    d = (R * c) #in kilometers\n",
        "    i['H_Distance'] = d"
      ],
      "metadata": {
        "id": "miJajHf8_-ME"
      },
      "execution_count": null,
      "outputs": []
    },
    {
      "cell_type": "code",
      "source": [
        "# Lets filter the rows where both distance and fare are available\n",
        "filtered = train[(train['H_Distance'] > 0) & (train['fare_amount'] > 0)]\n",
        "# We need a column with fare_amount / H_Distance\n",
        "Average_Fare_Per_Km = (filtered['fare_amount'] / filtered['H_Distance']).mean()"
      ],
      "metadata": {
        "id": "SyiPfrWA_-Gz"
      },
      "execution_count": null,
      "outputs": []
    },
    {
      "cell_type": "code",
      "source": [
        "Average_Fare_Per_Km"
      ],
      "metadata": {
        "colab": {
          "base_uri": "https://localhost:8080/"
        },
        "id": "EMzmZ1NB_-EL",
        "outputId": "1e39ae71-5565-4e4c-dd0f-70ee8127f5d0"
      },
      "execution_count": null,
      "outputs": [
        {
          "output_type": "execute_result",
          "data": {
            "text/plain": [
              "87.11394133206247"
            ]
          },
          "metadata": {},
          "execution_count": 191
        }
      ]
    },
    {
      "cell_type": "code",
      "source": [
        "train.describe()"
      ],
      "metadata": {
        "colab": {
          "base_uri": "https://localhost:8080/",
          "height": 344
        },
        "id": "7dcu_TZv_-BR",
        "outputId": "d63e10f6-5c4f-49e4-9daf-591dfc1f9d48"
      },
      "execution_count": null,
      "outputs": [
        {
          "output_type": "execute_result",
          "data": {
            "text/plain": [
              "         fare_amount  pickup_longitude  pickup_latitude  dropoff_longitude  \\\n",
              "count  975570.000000     975570.000000    975570.000000      975570.000000   \n",
              "mean       11.338099        -73.975088        40.751112         -73.974206   \n",
              "std         9.725364          0.038576         0.029581           0.037753   \n",
              "min       -44.900000        -74.481853        40.500046         -74.475731   \n",
              "25%         6.000000        -73.992269        40.736580         -73.991570   \n",
              "50%         8.500000        -73.982082        40.753413         -73.980590   \n",
              "75%        12.500000        -73.968311        40.767580         -73.965316   \n",
              "max       500.000000        -72.856968        41.696852         -72.848088   \n",
              "\n",
              "       dropoff_latitude  passenger_count           hour    day_of_week  \\\n",
              "count     975570.000000    975570.000000  975570.000000  975570.000000   \n",
              "mean          40.751450         1.691039      13.509106       3.039572   \n",
              "std            0.032758         1.306167       6.511945       1.949821   \n",
              "min           40.500046         1.000000       0.000000       0.000000   \n",
              "25%           40.735592         1.000000       9.000000       1.000000   \n",
              "50%           40.753875         1.000000      14.000000       3.000000   \n",
              "75%           40.768419         2.000000      19.000000       5.000000   \n",
              "max           41.714633         6.000000      23.000000       6.000000   \n",
              "\n",
              "        day_of_month           week          month           year  \\\n",
              "count  975570.000000  975570.000000  975570.000000  975570.000000   \n",
              "mean       15.692332      25.470487       6.270817    2011.740062   \n",
              "std         8.682332      14.952007       3.437410       1.866355   \n",
              "min         1.000000       1.000000       1.000000    2009.000000   \n",
              "25%         8.000000      13.000000       3.000000    2010.000000   \n",
              "50%        16.000000      24.000000       6.000000    2012.000000   \n",
              "75%        23.000000      39.000000       9.000000    2013.000000   \n",
              "max        31.000000      53.000000      12.000000    2015.000000   \n",
              "\n",
              "          H_Distance  \n",
              "count  975570.000000  \n",
              "mean        3.329588  \n",
              "std         3.765211  \n",
              "min         0.000000  \n",
              "25%         1.253996  \n",
              "50%         2.153130  \n",
              "75%         3.918668  \n",
              "max       110.833077  "
            ],
            "text/html": [
              "\n",
              "  <div id=\"df-7dafd9d5-7b2e-4ccb-97ba-222f33b98021\">\n",
              "    <div class=\"colab-df-container\">\n",
              "      <div>\n",
              "<style scoped>\n",
              "    .dataframe tbody tr th:only-of-type {\n",
              "        vertical-align: middle;\n",
              "    }\n",
              "\n",
              "    .dataframe tbody tr th {\n",
              "        vertical-align: top;\n",
              "    }\n",
              "\n",
              "    .dataframe thead th {\n",
              "        text-align: right;\n",
              "    }\n",
              "</style>\n",
              "<table border=\"1\" class=\"dataframe\">\n",
              "  <thead>\n",
              "    <tr style=\"text-align: right;\">\n",
              "      <th></th>\n",
              "      <th>fare_amount</th>\n",
              "      <th>pickup_longitude</th>\n",
              "      <th>pickup_latitude</th>\n",
              "      <th>dropoff_longitude</th>\n",
              "      <th>dropoff_latitude</th>\n",
              "      <th>passenger_count</th>\n",
              "      <th>hour</th>\n",
              "      <th>day_of_week</th>\n",
              "      <th>day_of_month</th>\n",
              "      <th>week</th>\n",
              "      <th>month</th>\n",
              "      <th>year</th>\n",
              "      <th>H_Distance</th>\n",
              "    </tr>\n",
              "  </thead>\n",
              "  <tbody>\n",
              "    <tr>\n",
              "      <th>count</th>\n",
              "      <td>975570.000000</td>\n",
              "      <td>975570.000000</td>\n",
              "      <td>975570.000000</td>\n",
              "      <td>975570.000000</td>\n",
              "      <td>975570.000000</td>\n",
              "      <td>975570.000000</td>\n",
              "      <td>975570.000000</td>\n",
              "      <td>975570.000000</td>\n",
              "      <td>975570.000000</td>\n",
              "      <td>975570.000000</td>\n",
              "      <td>975570.000000</td>\n",
              "      <td>975570.000000</td>\n",
              "      <td>975570.000000</td>\n",
              "    </tr>\n",
              "    <tr>\n",
              "      <th>mean</th>\n",
              "      <td>11.338099</td>\n",
              "      <td>-73.975088</td>\n",
              "      <td>40.751112</td>\n",
              "      <td>-73.974206</td>\n",
              "      <td>40.751450</td>\n",
              "      <td>1.691039</td>\n",
              "      <td>13.509106</td>\n",
              "      <td>3.039572</td>\n",
              "      <td>15.692332</td>\n",
              "      <td>25.470487</td>\n",
              "      <td>6.270817</td>\n",
              "      <td>2011.740062</td>\n",
              "      <td>3.329588</td>\n",
              "    </tr>\n",
              "    <tr>\n",
              "      <th>std</th>\n",
              "      <td>9.725364</td>\n",
              "      <td>0.038576</td>\n",
              "      <td>0.029581</td>\n",
              "      <td>0.037753</td>\n",
              "      <td>0.032758</td>\n",
              "      <td>1.306167</td>\n",
              "      <td>6.511945</td>\n",
              "      <td>1.949821</td>\n",
              "      <td>8.682332</td>\n",
              "      <td>14.952007</td>\n",
              "      <td>3.437410</td>\n",
              "      <td>1.866355</td>\n",
              "      <td>3.765211</td>\n",
              "    </tr>\n",
              "    <tr>\n",
              "      <th>min</th>\n",
              "      <td>-44.900000</td>\n",
              "      <td>-74.481853</td>\n",
              "      <td>40.500046</td>\n",
              "      <td>-74.475731</td>\n",
              "      <td>40.500046</td>\n",
              "      <td>1.000000</td>\n",
              "      <td>0.000000</td>\n",
              "      <td>0.000000</td>\n",
              "      <td>1.000000</td>\n",
              "      <td>1.000000</td>\n",
              "      <td>1.000000</td>\n",
              "      <td>2009.000000</td>\n",
              "      <td>0.000000</td>\n",
              "    </tr>\n",
              "    <tr>\n",
              "      <th>25%</th>\n",
              "      <td>6.000000</td>\n",
              "      <td>-73.992269</td>\n",
              "      <td>40.736580</td>\n",
              "      <td>-73.991570</td>\n",
              "      <td>40.735592</td>\n",
              "      <td>1.000000</td>\n",
              "      <td>9.000000</td>\n",
              "      <td>1.000000</td>\n",
              "      <td>8.000000</td>\n",
              "      <td>13.000000</td>\n",
              "      <td>3.000000</td>\n",
              "      <td>2010.000000</td>\n",
              "      <td>1.253996</td>\n",
              "    </tr>\n",
              "    <tr>\n",
              "      <th>50%</th>\n",
              "      <td>8.500000</td>\n",
              "      <td>-73.982082</td>\n",
              "      <td>40.753413</td>\n",
              "      <td>-73.980590</td>\n",
              "      <td>40.753875</td>\n",
              "      <td>1.000000</td>\n",
              "      <td>14.000000</td>\n",
              "      <td>3.000000</td>\n",
              "      <td>16.000000</td>\n",
              "      <td>24.000000</td>\n",
              "      <td>6.000000</td>\n",
              "      <td>2012.000000</td>\n",
              "      <td>2.153130</td>\n",
              "    </tr>\n",
              "    <tr>\n",
              "      <th>75%</th>\n",
              "      <td>12.500000</td>\n",
              "      <td>-73.968311</td>\n",
              "      <td>40.767580</td>\n",
              "      <td>-73.965316</td>\n",
              "      <td>40.768419</td>\n",
              "      <td>2.000000</td>\n",
              "      <td>19.000000</td>\n",
              "      <td>5.000000</td>\n",
              "      <td>23.000000</td>\n",
              "      <td>39.000000</td>\n",
              "      <td>9.000000</td>\n",
              "      <td>2013.000000</td>\n",
              "      <td>3.918668</td>\n",
              "    </tr>\n",
              "    <tr>\n",
              "      <th>max</th>\n",
              "      <td>500.000000</td>\n",
              "      <td>-72.856968</td>\n",
              "      <td>41.696852</td>\n",
              "      <td>-72.848088</td>\n",
              "      <td>41.714633</td>\n",
              "      <td>6.000000</td>\n",
              "      <td>23.000000</td>\n",
              "      <td>6.000000</td>\n",
              "      <td>31.000000</td>\n",
              "      <td>53.000000</td>\n",
              "      <td>12.000000</td>\n",
              "      <td>2015.000000</td>\n",
              "      <td>110.833077</td>\n",
              "    </tr>\n",
              "  </tbody>\n",
              "</table>\n",
              "</div>\n",
              "      <button class=\"colab-df-convert\" onclick=\"convertToInteractive('df-7dafd9d5-7b2e-4ccb-97ba-222f33b98021')\"\n",
              "              title=\"Convert this dataframe to an interactive table.\"\n",
              "              style=\"display:none;\">\n",
              "        \n",
              "  <svg xmlns=\"http://www.w3.org/2000/svg\" height=\"24px\"viewBox=\"0 0 24 24\"\n",
              "       width=\"24px\">\n",
              "    <path d=\"M0 0h24v24H0V0z\" fill=\"none\"/>\n",
              "    <path d=\"M18.56 5.44l.94 2.06.94-2.06 2.06-.94-2.06-.94-.94-2.06-.94 2.06-2.06.94zm-11 1L8.5 8.5l.94-2.06 2.06-.94-2.06-.94L8.5 2.5l-.94 2.06-2.06.94zm10 10l.94 2.06.94-2.06 2.06-.94-2.06-.94-.94-2.06-.94 2.06-2.06.94z\"/><path d=\"M17.41 7.96l-1.37-1.37c-.4-.4-.92-.59-1.43-.59-.52 0-1.04.2-1.43.59L10.3 9.45l-7.72 7.72c-.78.78-.78 2.05 0 2.83L4 21.41c.39.39.9.59 1.41.59.51 0 1.02-.2 1.41-.59l7.78-7.78 2.81-2.81c.8-.78.8-2.07 0-2.86zM5.41 20L4 18.59l7.72-7.72 1.47 1.35L5.41 20z\"/>\n",
              "  </svg>\n",
              "      </button>\n",
              "      \n",
              "  <style>\n",
              "    .colab-df-container {\n",
              "      display:flex;\n",
              "      flex-wrap:wrap;\n",
              "      gap: 12px;\n",
              "    }\n",
              "\n",
              "    .colab-df-convert {\n",
              "      background-color: #E8F0FE;\n",
              "      border: none;\n",
              "      border-radius: 50%;\n",
              "      cursor: pointer;\n",
              "      display: none;\n",
              "      fill: #1967D2;\n",
              "      height: 32px;\n",
              "      padding: 0 0 0 0;\n",
              "      width: 32px;\n",
              "    }\n",
              "\n",
              "    .colab-df-convert:hover {\n",
              "      background-color: #E2EBFA;\n",
              "      box-shadow: 0px 1px 2px rgba(60, 64, 67, 0.3), 0px 1px 3px 1px rgba(60, 64, 67, 0.15);\n",
              "      fill: #174EA6;\n",
              "    }\n",
              "\n",
              "    [theme=dark] .colab-df-convert {\n",
              "      background-color: #3B4455;\n",
              "      fill: #D2E3FC;\n",
              "    }\n",
              "\n",
              "    [theme=dark] .colab-df-convert:hover {\n",
              "      background-color: #434B5C;\n",
              "      box-shadow: 0px 1px 3px 1px rgba(0, 0, 0, 0.15);\n",
              "      filter: drop-shadow(0px 1px 2px rgba(0, 0, 0, 0.3));\n",
              "      fill: #FFFFFF;\n",
              "    }\n",
              "  </style>\n",
              "\n",
              "      <script>\n",
              "        const buttonEl =\n",
              "          document.querySelector('#df-7dafd9d5-7b2e-4ccb-97ba-222f33b98021 button.colab-df-convert');\n",
              "        buttonEl.style.display =\n",
              "          google.colab.kernel.accessAllowed ? 'block' : 'none';\n",
              "\n",
              "        async function convertToInteractive(key) {\n",
              "          const element = document.querySelector('#df-7dafd9d5-7b2e-4ccb-97ba-222f33b98021');\n",
              "          const dataTable =\n",
              "            await google.colab.kernel.invokeFunction('convertToInteractive',\n",
              "                                                     [key], {});\n",
              "          if (!dataTable) return;\n",
              "\n",
              "          const docLinkHtml = 'Like what you see? Visit the ' +\n",
              "            '<a target=\"_blank\" href=https://colab.research.google.com/notebooks/data_table.ipynb>data table notebook</a>'\n",
              "            + ' to learn more about interactive tables.';\n",
              "          element.innerHTML = '';\n",
              "          dataTable['output_type'] = 'display_data';\n",
              "          await google.colab.output.renderOutput(dataTable, element);\n",
              "          const docLink = document.createElement('div');\n",
              "          docLink.innerHTML = docLinkHtml;\n",
              "          element.appendChild(docLink);\n",
              "        }\n",
              "      </script>\n",
              "    </div>\n",
              "  </div>\n",
              "  "
            ]
          },
          "metadata": {},
          "execution_count": 192
        }
      ]
    },
    {
      "cell_type": "code",
      "source": [
        "scaler = StandardScaler()\n",
        "model = scaler.fit(train.drop(['key', 'pickup_datetime', 'fare_amount'], axis=1))\n",
        "scaled_data = model.transform(train.drop(['key', 'pickup_datetime', 'fare_amount'], axis=1))"
      ],
      "metadata": {
        "id": "PERBbrsM_9-k"
      },
      "execution_count": null,
      "outputs": []
    },
    {
      "cell_type": "code",
      "source": [
        "train.head()\n"
      ],
      "metadata": {
        "colab": {
          "base_uri": "https://localhost:8080/",
          "height": 337
        },
        "id": "kpiIOfTX_971",
        "outputId": "1c00cde1-6eb8-4032-a154-d84e851e4778"
      },
      "execution_count": null,
      "outputs": [
        {
          "output_type": "execute_result",
          "data": {
            "text/plain": [
              "                            key  fare_amount           pickup_datetime  \\\n",
              "0 2009-06-15 17:26:21.000000100          4.5 2009-06-15 17:26:21+00:00   \n",
              "1 2010-01-05 16:52:16.000000200         16.9 2010-01-05 16:52:16+00:00   \n",
              "2 2011-08-18 00:35:00.000000490          5.7 2011-08-18 00:35:00+00:00   \n",
              "3 2012-04-21 04:30:42.000000100          7.7 2012-04-21 04:30:42+00:00   \n",
              "4 2010-03-09 07:51:00.000000135          5.3 2010-03-09 07:51:00+00:00   \n",
              "\n",
              "   pickup_longitude  pickup_latitude  dropoff_longitude  dropoff_latitude  \\\n",
              "0        -73.844311        40.721319         -73.841610         40.712278   \n",
              "1        -74.016048        40.711303         -73.979268         40.782004   \n",
              "2        -73.982738        40.761270         -73.991242         40.750562   \n",
              "3        -73.987130        40.733143         -73.991567         40.758092   \n",
              "4        -73.968095        40.768008         -73.956655         40.783762   \n",
              "\n",
              "   passenger_count  hour  day_of_week  day_of_month  week  month  year  \\\n",
              "0                1    17            0            15    25      6  2009   \n",
              "1                1    16            1             5     1      1  2010   \n",
              "2                2     0            3            18    33      8  2011   \n",
              "3                1     4            5            21    16      4  2012   \n",
              "4                1     7            1             9    10      3  2010   \n",
              "\n",
              "   H_Distance  \n",
              "0    1.030764  \n",
              "1    8.450134  \n",
              "2    1.389525  \n",
              "3    2.799270  \n",
              "4    1.999157  "
            ],
            "text/html": [
              "\n",
              "  <div id=\"df-d293315a-be9e-42e1-a9a7-ebfda852bffd\">\n",
              "    <div class=\"colab-df-container\">\n",
              "      <div>\n",
              "<style scoped>\n",
              "    .dataframe tbody tr th:only-of-type {\n",
              "        vertical-align: middle;\n",
              "    }\n",
              "\n",
              "    .dataframe tbody tr th {\n",
              "        vertical-align: top;\n",
              "    }\n",
              "\n",
              "    .dataframe thead th {\n",
              "        text-align: right;\n",
              "    }\n",
              "</style>\n",
              "<table border=\"1\" class=\"dataframe\">\n",
              "  <thead>\n",
              "    <tr style=\"text-align: right;\">\n",
              "      <th></th>\n",
              "      <th>key</th>\n",
              "      <th>fare_amount</th>\n",
              "      <th>pickup_datetime</th>\n",
              "      <th>pickup_longitude</th>\n",
              "      <th>pickup_latitude</th>\n",
              "      <th>dropoff_longitude</th>\n",
              "      <th>dropoff_latitude</th>\n",
              "      <th>passenger_count</th>\n",
              "      <th>hour</th>\n",
              "      <th>day_of_week</th>\n",
              "      <th>day_of_month</th>\n",
              "      <th>week</th>\n",
              "      <th>month</th>\n",
              "      <th>year</th>\n",
              "      <th>H_Distance</th>\n",
              "    </tr>\n",
              "  </thead>\n",
              "  <tbody>\n",
              "    <tr>\n",
              "      <th>0</th>\n",
              "      <td>2009-06-15 17:26:21.000000100</td>\n",
              "      <td>4.5</td>\n",
              "      <td>2009-06-15 17:26:21+00:00</td>\n",
              "      <td>-73.844311</td>\n",
              "      <td>40.721319</td>\n",
              "      <td>-73.841610</td>\n",
              "      <td>40.712278</td>\n",
              "      <td>1</td>\n",
              "      <td>17</td>\n",
              "      <td>0</td>\n",
              "      <td>15</td>\n",
              "      <td>25</td>\n",
              "      <td>6</td>\n",
              "      <td>2009</td>\n",
              "      <td>1.030764</td>\n",
              "    </tr>\n",
              "    <tr>\n",
              "      <th>1</th>\n",
              "      <td>2010-01-05 16:52:16.000000200</td>\n",
              "      <td>16.9</td>\n",
              "      <td>2010-01-05 16:52:16+00:00</td>\n",
              "      <td>-74.016048</td>\n",
              "      <td>40.711303</td>\n",
              "      <td>-73.979268</td>\n",
              "      <td>40.782004</td>\n",
              "      <td>1</td>\n",
              "      <td>16</td>\n",
              "      <td>1</td>\n",
              "      <td>5</td>\n",
              "      <td>1</td>\n",
              "      <td>1</td>\n",
              "      <td>2010</td>\n",
              "      <td>8.450134</td>\n",
              "    </tr>\n",
              "    <tr>\n",
              "      <th>2</th>\n",
              "      <td>2011-08-18 00:35:00.000000490</td>\n",
              "      <td>5.7</td>\n",
              "      <td>2011-08-18 00:35:00+00:00</td>\n",
              "      <td>-73.982738</td>\n",
              "      <td>40.761270</td>\n",
              "      <td>-73.991242</td>\n",
              "      <td>40.750562</td>\n",
              "      <td>2</td>\n",
              "      <td>0</td>\n",
              "      <td>3</td>\n",
              "      <td>18</td>\n",
              "      <td>33</td>\n",
              "      <td>8</td>\n",
              "      <td>2011</td>\n",
              "      <td>1.389525</td>\n",
              "    </tr>\n",
              "    <tr>\n",
              "      <th>3</th>\n",
              "      <td>2012-04-21 04:30:42.000000100</td>\n",
              "      <td>7.7</td>\n",
              "      <td>2012-04-21 04:30:42+00:00</td>\n",
              "      <td>-73.987130</td>\n",
              "      <td>40.733143</td>\n",
              "      <td>-73.991567</td>\n",
              "      <td>40.758092</td>\n",
              "      <td>1</td>\n",
              "      <td>4</td>\n",
              "      <td>5</td>\n",
              "      <td>21</td>\n",
              "      <td>16</td>\n",
              "      <td>4</td>\n",
              "      <td>2012</td>\n",
              "      <td>2.799270</td>\n",
              "    </tr>\n",
              "    <tr>\n",
              "      <th>4</th>\n",
              "      <td>2010-03-09 07:51:00.000000135</td>\n",
              "      <td>5.3</td>\n",
              "      <td>2010-03-09 07:51:00+00:00</td>\n",
              "      <td>-73.968095</td>\n",
              "      <td>40.768008</td>\n",
              "      <td>-73.956655</td>\n",
              "      <td>40.783762</td>\n",
              "      <td>1</td>\n",
              "      <td>7</td>\n",
              "      <td>1</td>\n",
              "      <td>9</td>\n",
              "      <td>10</td>\n",
              "      <td>3</td>\n",
              "      <td>2010</td>\n",
              "      <td>1.999157</td>\n",
              "    </tr>\n",
              "  </tbody>\n",
              "</table>\n",
              "</div>\n",
              "      <button class=\"colab-df-convert\" onclick=\"convertToInteractive('df-d293315a-be9e-42e1-a9a7-ebfda852bffd')\"\n",
              "              title=\"Convert this dataframe to an interactive table.\"\n",
              "              style=\"display:none;\">\n",
              "        \n",
              "  <svg xmlns=\"http://www.w3.org/2000/svg\" height=\"24px\"viewBox=\"0 0 24 24\"\n",
              "       width=\"24px\">\n",
              "    <path d=\"M0 0h24v24H0V0z\" fill=\"none\"/>\n",
              "    <path d=\"M18.56 5.44l.94 2.06.94-2.06 2.06-.94-2.06-.94-.94-2.06-.94 2.06-2.06.94zm-11 1L8.5 8.5l.94-2.06 2.06-.94-2.06-.94L8.5 2.5l-.94 2.06-2.06.94zm10 10l.94 2.06.94-2.06 2.06-.94-2.06-.94-.94-2.06-.94 2.06-2.06.94z\"/><path d=\"M17.41 7.96l-1.37-1.37c-.4-.4-.92-.59-1.43-.59-.52 0-1.04.2-1.43.59L10.3 9.45l-7.72 7.72c-.78.78-.78 2.05 0 2.83L4 21.41c.39.39.9.59 1.41.59.51 0 1.02-.2 1.41-.59l7.78-7.78 2.81-2.81c.8-.78.8-2.07 0-2.86zM5.41 20L4 18.59l7.72-7.72 1.47 1.35L5.41 20z\"/>\n",
              "  </svg>\n",
              "      </button>\n",
              "      \n",
              "  <style>\n",
              "    .colab-df-container {\n",
              "      display:flex;\n",
              "      flex-wrap:wrap;\n",
              "      gap: 12px;\n",
              "    }\n",
              "\n",
              "    .colab-df-convert {\n",
              "      background-color: #E8F0FE;\n",
              "      border: none;\n",
              "      border-radius: 50%;\n",
              "      cursor: pointer;\n",
              "      display: none;\n",
              "      fill: #1967D2;\n",
              "      height: 32px;\n",
              "      padding: 0 0 0 0;\n",
              "      width: 32px;\n",
              "    }\n",
              "\n",
              "    .colab-df-convert:hover {\n",
              "      background-color: #E2EBFA;\n",
              "      box-shadow: 0px 1px 2px rgba(60, 64, 67, 0.3), 0px 1px 3px 1px rgba(60, 64, 67, 0.15);\n",
              "      fill: #174EA6;\n",
              "    }\n",
              "\n",
              "    [theme=dark] .colab-df-convert {\n",
              "      background-color: #3B4455;\n",
              "      fill: #D2E3FC;\n",
              "    }\n",
              "\n",
              "    [theme=dark] .colab-df-convert:hover {\n",
              "      background-color: #434B5C;\n",
              "      box-shadow: 0px 1px 3px 1px rgba(0, 0, 0, 0.15);\n",
              "      filter: drop-shadow(0px 1px 2px rgba(0, 0, 0, 0.3));\n",
              "      fill: #FFFFFF;\n",
              "    }\n",
              "  </style>\n",
              "\n",
              "      <script>\n",
              "        const buttonEl =\n",
              "          document.querySelector('#df-d293315a-be9e-42e1-a9a7-ebfda852bffd button.colab-df-convert');\n",
              "        buttonEl.style.display =\n",
              "          google.colab.kernel.accessAllowed ? 'block' : 'none';\n",
              "\n",
              "        async function convertToInteractive(key) {\n",
              "          const element = document.querySelector('#df-d293315a-be9e-42e1-a9a7-ebfda852bffd');\n",
              "          const dataTable =\n",
              "            await google.colab.kernel.invokeFunction('convertToInteractive',\n",
              "                                                     [key], {});\n",
              "          if (!dataTable) return;\n",
              "\n",
              "          const docLinkHtml = 'Like what you see? Visit the ' +\n",
              "            '<a target=\"_blank\" href=https://colab.research.google.com/notebooks/data_table.ipynb>data table notebook</a>'\n",
              "            + ' to learn more about interactive tables.';\n",
              "          element.innerHTML = '';\n",
              "          dataTable['output_type'] = 'display_data';\n",
              "          await google.colab.output.renderOutput(dataTable, element);\n",
              "          const docLink = document.createElement('div');\n",
              "          docLink.innerHTML = docLinkHtml;\n",
              "          element.appendChild(docLink);\n",
              "        }\n",
              "      </script>\n",
              "    </div>\n",
              "  </div>\n",
              "  "
            ]
          },
          "metadata": {},
          "execution_count": 194
        }
      ]
    },
    {
      "cell_type": "code",
      "source": [
        "scalery = StandardScaler()\n",
        "yhat = scalery.fit(train[['fare_amount']])\n",
        "scaled_y = yhat.transform(train[['fare_amount']])"
      ],
      "metadata": {
        "id": "wFtC4a06_943"
      },
      "execution_count": null,
      "outputs": []
    },
    {
      "cell_type": "code",
      "source": [
        "scaled_data.shape"
      ],
      "metadata": {
        "colab": {
          "base_uri": "https://localhost:8080/"
        },
        "id": "jRKAEm3L_92N",
        "outputId": "451b7d01-a03f-47bd-94dd-c90fdc0bc62b"
      },
      "execution_count": null,
      "outputs": [
        {
          "output_type": "execute_result",
          "data": {
            "text/plain": [
              "(975570, 12)"
            ]
          },
          "metadata": {},
          "execution_count": 196
        }
      ]
    },
    {
      "cell_type": "code",
      "source": [
        "scaled_y.shape"
      ],
      "metadata": {
        "colab": {
          "base_uri": "https://localhost:8080/"
        },
        "id": "52t4M1tP_9zZ",
        "outputId": "239ea688-aafe-4377-c2d9-f81558f82521"
      },
      "execution_count": null,
      "outputs": [
        {
          "output_type": "execute_result",
          "data": {
            "text/plain": [
              "(975570, 1)"
            ]
          },
          "metadata": {},
          "execution_count": 197
        }
      ]
    },
    {
      "cell_type": "code",
      "source": [
        "xtrain, xtest, ytrain, ytest = train_test_split(scaled_data, scaled_y, random_state=25)"
      ],
      "metadata": {
        "id": "8Ukb7tR2DSKv"
      },
      "execution_count": null,
      "outputs": []
    },
    {
      "cell_type": "markdown",
      "source": [
        "#1\n",
        "#Creating a baseline Neural network"
      ],
      "metadata": {
        "id": "yS_LwnisDsEv"
      }
    },
    {
      "cell_type": "code",
      "source": [
        "model1 = tf.keras.Sequential(name='Q1_model1')\n",
        "model1.add(tf.keras.layers.Dense(12, input_shape=(12,)))\n",
        "model1.add(tf.keras.layers.Dense(16, activation='sigmoid', kernel_initializer='normal'))\n",
        "model1.add(tf.keras.layers.Dense(8, activation='sigmoid', kernel_initializer='normal'))\n",
        "model1.add(tf.keras.layers.Dense(1, activation='linear'))"
      ],
      "metadata": {
        "id": "kakD3SFuDSID"
      },
      "execution_count": null,
      "outputs": []
    },
    {
      "cell_type": "code",
      "source": [
        "model1.summary()"
      ],
      "metadata": {
        "colab": {
          "base_uri": "https://localhost:8080/"
        },
        "id": "UIq5RD5cDSFT",
        "outputId": "be575318-548d-4f29-a039-2ff676aa6d45"
      },
      "execution_count": null,
      "outputs": [
        {
          "output_type": "stream",
          "name": "stdout",
          "text": [
            "Model: \"Q1_model1\"\n",
            "_________________________________________________________________\n",
            " Layer (type)                Output Shape              Param #   \n",
            "=================================================================\n",
            " dense_20 (Dense)            (None, 12)                156       \n",
            "                                                                 \n",
            " dense_21 (Dense)            (None, 16)                208       \n",
            "                                                                 \n",
            " dense_22 (Dense)            (None, 8)                 136       \n",
            "                                                                 \n",
            " dense_23 (Dense)            (None, 1)                 9         \n",
            "                                                                 \n",
            "=================================================================\n",
            "Total params: 509\n",
            "Trainable params: 509\n",
            "Non-trainable params: 0\n",
            "_________________________________________________________________\n"
          ]
        }
      ]
    },
    {
      "cell_type": "code",
      "source": [
        "model1.compile(optimizer='adam',\n",
        "    loss='mean_absolute_error', metrics=['mean_absolute_error', 'mean_squared_error', 'mean_absolute_percentage_error'])"
      ],
      "metadata": {
        "id": "nzLMMucIDSCi"
      },
      "execution_count": null,
      "outputs": []
    },
    {
      "cell_type": "code",
      "source": [
        "history = model1.fit(xtrain, ytrain, epochs=50, batch_size=128, validation_split=0.2)"
      ],
      "metadata": {
        "colab": {
          "base_uri": "https://localhost:8080/"
        },
        "id": "-O2Vj-20DSAS",
        "outputId": "153bb7bc-ef7e-4e9f-afd2-43a344eff160"
      },
      "execution_count": null,
      "outputs": [
        {
          "output_type": "stream",
          "name": "stdout",
          "text": [
            "Epoch 1/50\n",
            "4573/4573 [==============================] - 10s 2ms/step - loss: 0.5272 - mean_absolute_error: 0.5272 - mean_squared_error: 0.9934 - mean_absolute_percentage_error: 198.2472 - val_loss: 0.4016 - val_mean_absolute_error: 0.4016 - val_mean_squared_error: 0.7064 - val_mean_absolute_percentage_error: 153.4961\n",
            "Epoch 2/50\n",
            "4573/4573 [==============================] - 9s 2ms/step - loss: 0.2765 - mean_absolute_error: 0.2765 - mean_squared_error: 0.3799 - mean_absolute_percentage_error: 151.5374 - val_loss: 0.2496 - val_mean_absolute_error: 0.2496 - val_mean_squared_error: 0.3721 - val_mean_absolute_percentage_error: 147.8802\n",
            "Epoch 3/50\n",
            "4573/4573 [==============================] - 9s 2ms/step - loss: 0.2408 - mean_absolute_error: 0.2408 - mean_squared_error: 0.2816 - mean_absolute_percentage_error: 146.8225 - val_loss: 0.2360 - val_mean_absolute_error: 0.2360 - val_mean_squared_error: 0.3313 - val_mean_absolute_percentage_error: 144.3220\n",
            "Epoch 4/50\n",
            "4573/4573 [==============================] - 10s 2ms/step - loss: 0.2326 - mean_absolute_error: 0.2326 - mean_squared_error: 0.2616 - mean_absolute_percentage_error: 144.2803 - val_loss: 0.2319 - val_mean_absolute_error: 0.2319 - val_mean_squared_error: 0.3219 - val_mean_absolute_percentage_error: 139.9195\n",
            "Epoch 5/50\n",
            "4573/4573 [==============================] - 10s 2ms/step - loss: 0.2300 - mean_absolute_error: 0.2300 - mean_squared_error: 0.2577 - mean_absolute_percentage_error: 142.8707 - val_loss: 0.2306 - val_mean_absolute_error: 0.2306 - val_mean_squared_error: 0.3200 - val_mean_absolute_percentage_error: 138.9413\n",
            "Epoch 6/50\n",
            "4573/4573 [==============================] - 11s 2ms/step - loss: 0.2291 - mean_absolute_error: 0.2291 - mean_squared_error: 0.2568 - mean_absolute_percentage_error: 142.2137 - val_loss: 0.2297 - val_mean_absolute_error: 0.2297 - val_mean_squared_error: 0.3205 - val_mean_absolute_percentage_error: 140.5532\n",
            "Epoch 7/50\n",
            "4573/4573 [==============================] - 10s 2ms/step - loss: 0.2284 - mean_absolute_error: 0.2284 - mean_squared_error: 0.2561 - mean_absolute_percentage_error: 141.8597 - val_loss: 0.2290 - val_mean_absolute_error: 0.2290 - val_mean_squared_error: 0.3192 - val_mean_absolute_percentage_error: 137.6745\n",
            "Epoch 8/50\n",
            "4573/4573 [==============================] - 13s 3ms/step - loss: 0.2277 - mean_absolute_error: 0.2277 - mean_squared_error: 0.2553 - mean_absolute_percentage_error: 141.5523 - val_loss: 0.2284 - val_mean_absolute_error: 0.2284 - val_mean_squared_error: 0.3202 - val_mean_absolute_percentage_error: 139.7090\n",
            "Epoch 9/50\n",
            "4573/4573 [==============================] - 15s 3ms/step - loss: 0.2269 - mean_absolute_error: 0.2269 - mean_squared_error: 0.2544 - mean_absolute_percentage_error: 141.2740 - val_loss: 0.2273 - val_mean_absolute_error: 0.2273 - val_mean_squared_error: 0.3180 - val_mean_absolute_percentage_error: 139.3746\n",
            "Epoch 10/50\n",
            "4573/4573 [==============================] - 18s 4ms/step - loss: 0.2260 - mean_absolute_error: 0.2260 - mean_squared_error: 0.2533 - mean_absolute_percentage_error: 141.2110 - val_loss: 0.2264 - val_mean_absolute_error: 0.2264 - val_mean_squared_error: 0.3159 - val_mean_absolute_percentage_error: 137.8300\n",
            "Epoch 11/50\n",
            "4573/4573 [==============================] - 14s 3ms/step - loss: 0.2250 - mean_absolute_error: 0.2250 - mean_squared_error: 0.2520 - mean_absolute_percentage_error: 140.7144 - val_loss: 0.2253 - val_mean_absolute_error: 0.2253 - val_mean_squared_error: 0.3163 - val_mean_absolute_percentage_error: 138.7532\n",
            "Epoch 12/50\n",
            "4573/4573 [==============================] - 10s 2ms/step - loss: 0.2241 - mean_absolute_error: 0.2241 - mean_squared_error: 0.2510 - mean_absolute_percentage_error: 140.4168 - val_loss: 0.2246 - val_mean_absolute_error: 0.2246 - val_mean_squared_error: 0.3154 - val_mean_absolute_percentage_error: 137.9244\n",
            "Epoch 13/50\n",
            "4573/4573 [==============================] - 9s 2ms/step - loss: 0.2234 - mean_absolute_error: 0.2234 - mean_squared_error: 0.2503 - mean_absolute_percentage_error: 140.2465 - val_loss: 0.2244 - val_mean_absolute_error: 0.2244 - val_mean_squared_error: 0.3118 - val_mean_absolute_percentage_error: 135.5647\n",
            "Epoch 14/50\n",
            "4573/4573 [==============================] - 9s 2ms/step - loss: 0.2228 - mean_absolute_error: 0.2228 - mean_squared_error: 0.2499 - mean_absolute_percentage_error: 139.8811 - val_loss: 0.2237 - val_mean_absolute_error: 0.2237 - val_mean_squared_error: 0.3123 - val_mean_absolute_percentage_error: 135.0994\n",
            "Epoch 15/50\n",
            "4573/4573 [==============================] - 10s 2ms/step - loss: 0.2222 - mean_absolute_error: 0.2222 - mean_squared_error: 0.2495 - mean_absolute_percentage_error: 139.7314 - val_loss: 0.2227 - val_mean_absolute_error: 0.2227 - val_mean_squared_error: 0.3134 - val_mean_absolute_percentage_error: 137.7716\n",
            "Epoch 16/50\n",
            "4573/4573 [==============================] - 10s 2ms/step - loss: 0.2218 - mean_absolute_error: 0.2218 - mean_squared_error: 0.2494 - mean_absolute_percentage_error: 139.5816 - val_loss: 0.2223 - val_mean_absolute_error: 0.2223 - val_mean_squared_error: 0.3129 - val_mean_absolute_percentage_error: 135.7657\n",
            "Epoch 17/50\n",
            "4573/4573 [==============================] - 11s 2ms/step - loss: 0.2213 - mean_absolute_error: 0.2213 - mean_squared_error: 0.2491 - mean_absolute_percentage_error: 139.4313 - val_loss: 0.2222 - val_mean_absolute_error: 0.2222 - val_mean_squared_error: 0.3149 - val_mean_absolute_percentage_error: 138.0788\n",
            "Epoch 18/50\n",
            "4573/4573 [==============================] - 14s 3ms/step - loss: 0.2209 - mean_absolute_error: 0.2209 - mean_squared_error: 0.2490 - mean_absolute_percentage_error: 139.2660 - val_loss: 0.2215 - val_mean_absolute_error: 0.2215 - val_mean_squared_error: 0.3117 - val_mean_absolute_percentage_error: 135.6574\n",
            "Epoch 19/50\n",
            "4573/4573 [==============================] - 11s 2ms/step - loss: 0.2204 - mean_absolute_error: 0.2204 - mean_squared_error: 0.2489 - mean_absolute_percentage_error: 139.0730 - val_loss: 0.2212 - val_mean_absolute_error: 0.2212 - val_mean_squared_error: 0.3136 - val_mean_absolute_percentage_error: 137.0853\n",
            "Epoch 20/50\n",
            "4573/4573 [==============================] - 12s 3ms/step - loss: 0.2199 - mean_absolute_error: 0.2199 - mean_squared_error: 0.2484 - mean_absolute_percentage_error: 138.7507 - val_loss: 0.2208 - val_mean_absolute_error: 0.2208 - val_mean_squared_error: 0.3141 - val_mean_absolute_percentage_error: 137.9012\n",
            "Epoch 21/50\n",
            "4573/4573 [==============================] - 13s 3ms/step - loss: 0.2191 - mean_absolute_error: 0.2191 - mean_squared_error: 0.2479 - mean_absolute_percentage_error: 138.4447 - val_loss: 0.2196 - val_mean_absolute_error: 0.2196 - val_mean_squared_error: 0.3111 - val_mean_absolute_percentage_error: 134.1211\n",
            "Epoch 22/50\n",
            "4573/4573 [==============================] - 10s 2ms/step - loss: 0.2180 - mean_absolute_error: 0.2180 - mean_squared_error: 0.2463 - mean_absolute_percentage_error: 137.9521 - val_loss: 0.2187 - val_mean_absolute_error: 0.2187 - val_mean_squared_error: 0.3113 - val_mean_absolute_percentage_error: 137.0163\n",
            "Epoch 23/50\n",
            "4573/4573 [==============================] - 14s 3ms/step - loss: 0.2165 - mean_absolute_error: 0.2165 - mean_squared_error: 0.2440 - mean_absolute_percentage_error: 137.2732 - val_loss: 0.2169 - val_mean_absolute_error: 0.2169 - val_mean_squared_error: 0.3059 - val_mean_absolute_percentage_error: 133.1262\n",
            "Epoch 24/50\n",
            "4573/4573 [==============================] - 10s 2ms/step - loss: 0.2149 - mean_absolute_error: 0.2149 - mean_squared_error: 0.2416 - mean_absolute_percentage_error: 136.2692 - val_loss: 0.2152 - val_mean_absolute_error: 0.2152 - val_mean_squared_error: 0.3030 - val_mean_absolute_percentage_error: 132.0936\n",
            "Epoch 25/50\n",
            "4573/4573 [==============================] - 15s 3ms/step - loss: 0.2134 - mean_absolute_error: 0.2134 - mean_squared_error: 0.2389 - mean_absolute_percentage_error: 135.2522 - val_loss: 0.2139 - val_mean_absolute_error: 0.2139 - val_mean_squared_error: 0.3021 - val_mean_absolute_percentage_error: 133.9718\n",
            "Epoch 26/50\n",
            "4573/4573 [==============================] - 11s 2ms/step - loss: 0.2121 - mean_absolute_error: 0.2121 - mean_squared_error: 0.2365 - mean_absolute_percentage_error: 134.0938 - val_loss: 0.2122 - val_mean_absolute_error: 0.2122 - val_mean_squared_error: 0.3002 - val_mean_absolute_percentage_error: 131.1444\n",
            "Epoch 27/50\n",
            "4573/4573 [==============================] - 12s 3ms/step - loss: 0.2110 - mean_absolute_error: 0.2110 - mean_squared_error: 0.2347 - mean_absolute_percentage_error: 133.0528 - val_loss: 0.2113 - val_mean_absolute_error: 0.2113 - val_mean_squared_error: 0.2973 - val_mean_absolute_percentage_error: 129.4406\n",
            "Epoch 28/50\n",
            "4573/4573 [==============================] - 10s 2ms/step - loss: 0.2099 - mean_absolute_error: 0.2099 - mean_squared_error: 0.2335 - mean_absolute_percentage_error: 132.1599 - val_loss: 0.2104 - val_mean_absolute_error: 0.2104 - val_mean_squared_error: 0.2983 - val_mean_absolute_percentage_error: 130.4815\n",
            "Epoch 29/50\n",
            "4573/4573 [==============================] - 10s 2ms/step - loss: 0.2088 - mean_absolute_error: 0.2088 - mean_squared_error: 0.2323 - mean_absolute_percentage_error: 131.3801 - val_loss: 0.2094 - val_mean_absolute_error: 0.2094 - val_mean_squared_error: 0.2957 - val_mean_absolute_percentage_error: 126.7271\n",
            "Epoch 30/50\n",
            "4573/4573 [==============================] - 12s 3ms/step - loss: 0.2078 - mean_absolute_error: 0.2078 - mean_squared_error: 0.2314 - mean_absolute_percentage_error: 130.4957 - val_loss: 0.2085 - val_mean_absolute_error: 0.2085 - val_mean_squared_error: 0.2968 - val_mean_absolute_percentage_error: 128.9670\n",
            "Epoch 31/50\n",
            "4573/4573 [==============================] - 15s 3ms/step - loss: 0.2070 - mean_absolute_error: 0.2070 - mean_squared_error: 0.2304 - mean_absolute_percentage_error: 129.9902 - val_loss: 0.2077 - val_mean_absolute_error: 0.2077 - val_mean_squared_error: 0.2964 - val_mean_absolute_percentage_error: 128.4175\n",
            "Epoch 32/50\n",
            "4573/4573 [==============================] - 11s 2ms/step - loss: 0.2064 - mean_absolute_error: 0.2064 - mean_squared_error: 0.2300 - mean_absolute_percentage_error: 129.4017 - val_loss: 0.2071 - val_mean_absolute_error: 0.2071 - val_mean_squared_error: 0.2933 - val_mean_absolute_percentage_error: 126.3980\n",
            "Epoch 33/50\n",
            "4573/4573 [==============================] - 11s 2ms/step - loss: 0.2058 - mean_absolute_error: 0.2058 - mean_squared_error: 0.2292 - mean_absolute_percentage_error: 129.0800 - val_loss: 0.2064 - val_mean_absolute_error: 0.2064 - val_mean_squared_error: 0.2934 - val_mean_absolute_percentage_error: 126.4873\n",
            "Epoch 34/50\n",
            "4573/4573 [==============================] - 11s 2ms/step - loss: 0.2053 - mean_absolute_error: 0.2053 - mean_squared_error: 0.2286 - mean_absolute_percentage_error: 128.7314 - val_loss: 0.2061 - val_mean_absolute_error: 0.2061 - val_mean_squared_error: 0.2921 - val_mean_absolute_percentage_error: 124.2193\n",
            "Epoch 35/50\n",
            "4573/4573 [==============================] - 11s 2ms/step - loss: 0.2048 - mean_absolute_error: 0.2048 - mean_squared_error: 0.2281 - mean_absolute_percentage_error: 128.3557 - val_loss: 0.2059 - val_mean_absolute_error: 0.2059 - val_mean_squared_error: 0.2906 - val_mean_absolute_percentage_error: 123.4407\n",
            "Epoch 36/50\n",
            "4573/4573 [==============================] - 12s 3ms/step - loss: 0.2042 - mean_absolute_error: 0.2042 - mean_squared_error: 0.2274 - mean_absolute_percentage_error: 127.9305 - val_loss: 0.2050 - val_mean_absolute_error: 0.2050 - val_mean_squared_error: 0.2906 - val_mean_absolute_percentage_error: 124.2229\n",
            "Epoch 37/50\n",
            "4573/4573 [==============================] - 11s 2ms/step - loss: 0.2037 - mean_absolute_error: 0.2037 - mean_squared_error: 0.2267 - mean_absolute_percentage_error: 127.4911 - val_loss: 0.2055 - val_mean_absolute_error: 0.2055 - val_mean_squared_error: 0.2891 - val_mean_absolute_percentage_error: 122.9033\n",
            "Epoch 38/50\n",
            "4573/4573 [==============================] - 11s 2ms/step - loss: 0.2032 - mean_absolute_error: 0.2032 - mean_squared_error: 0.2262 - mean_absolute_percentage_error: 126.8661 - val_loss: 0.2040 - val_mean_absolute_error: 0.2040 - val_mean_squared_error: 0.2894 - val_mean_absolute_percentage_error: 123.9029\n",
            "Epoch 39/50\n",
            "4573/4573 [==============================] - 12s 3ms/step - loss: 0.2028 - mean_absolute_error: 0.2028 - mean_squared_error: 0.2255 - mean_absolute_percentage_error: 126.4851 - val_loss: 0.2036 - val_mean_absolute_error: 0.2036 - val_mean_squared_error: 0.2890 - val_mean_absolute_percentage_error: 122.7681\n",
            "Epoch 40/50\n",
            "4573/4573 [==============================] - 10s 2ms/step - loss: 0.2024 - mean_absolute_error: 0.2024 - mean_squared_error: 0.2250 - mean_absolute_percentage_error: 126.3182 - val_loss: 0.2039 - val_mean_absolute_error: 0.2039 - val_mean_squared_error: 0.2911 - val_mean_absolute_percentage_error: 125.5724\n",
            "Epoch 41/50\n",
            "4573/4573 [==============================] - 11s 3ms/step - loss: 0.2021 - mean_absolute_error: 0.2021 - mean_squared_error: 0.2243 - mean_absolute_percentage_error: 125.9425 - val_loss: 0.2033 - val_mean_absolute_error: 0.2033 - val_mean_squared_error: 0.2898 - val_mean_absolute_percentage_error: 125.1327\n",
            "Epoch 42/50\n",
            "4573/4573 [==============================] - 10s 2ms/step - loss: 0.2018 - mean_absolute_error: 0.2018 - mean_squared_error: 0.2237 - mean_absolute_percentage_error: 125.9226 - val_loss: 0.2027 - val_mean_absolute_error: 0.2027 - val_mean_squared_error: 0.2884 - val_mean_absolute_percentage_error: 122.8903\n",
            "Epoch 43/50\n",
            "4573/4573 [==============================] - 11s 2ms/step - loss: 0.2015 - mean_absolute_error: 0.2015 - mean_squared_error: 0.2231 - mean_absolute_percentage_error: 125.7239 - val_loss: 0.2025 - val_mean_absolute_error: 0.2025 - val_mean_squared_error: 0.2878 - val_mean_absolute_percentage_error: 124.7287\n",
            "Epoch 44/50\n",
            "4573/4573 [==============================] - 10s 2ms/step - loss: 0.2012 - mean_absolute_error: 0.2012 - mean_squared_error: 0.2227 - mean_absolute_percentage_error: 125.6312 - val_loss: 0.2028 - val_mean_absolute_error: 0.2028 - val_mean_squared_error: 0.2884 - val_mean_absolute_percentage_error: 125.6570\n",
            "Epoch 45/50\n",
            "4573/4573 [==============================] - 11s 2ms/step - loss: 0.2009 - mean_absolute_error: 0.2009 - mean_squared_error: 0.2223 - mean_absolute_percentage_error: 125.4585 - val_loss: 0.2016 - val_mean_absolute_error: 0.2016 - val_mean_squared_error: 0.2858 - val_mean_absolute_percentage_error: 122.0989\n",
            "Epoch 46/50\n",
            "4573/4573 [==============================] - 11s 2ms/step - loss: 0.2006 - mean_absolute_error: 0.2006 - mean_squared_error: 0.2218 - mean_absolute_percentage_error: 125.3891 - val_loss: 0.2018 - val_mean_absolute_error: 0.2018 - val_mean_squared_error: 0.2841 - val_mean_absolute_percentage_error: 120.9046\n",
            "Epoch 47/50\n",
            "4573/4573 [==============================] - 11s 2ms/step - loss: 0.2003 - mean_absolute_error: 0.2003 - mean_squared_error: 0.2212 - mean_absolute_percentage_error: 125.2785 - val_loss: 0.2011 - val_mean_absolute_error: 0.2011 - val_mean_squared_error: 0.2848 - val_mean_absolute_percentage_error: 123.2295\n",
            "Epoch 48/50\n",
            "4573/4573 [==============================] - 11s 2ms/step - loss: 0.2000 - mean_absolute_error: 0.2000 - mean_squared_error: 0.2200 - mean_absolute_percentage_error: 125.1711 - val_loss: 0.2011 - val_mean_absolute_error: 0.2011 - val_mean_squared_error: 0.2848 - val_mean_absolute_percentage_error: 123.2000\n",
            "Epoch 49/50\n",
            "4573/4573 [==============================] - 11s 2ms/step - loss: 0.1997 - mean_absolute_error: 0.1997 - mean_squared_error: 0.2196 - mean_absolute_percentage_error: 125.0883 - val_loss: 0.2008 - val_mean_absolute_error: 0.2008 - val_mean_squared_error: 0.2818 - val_mean_absolute_percentage_error: 121.3862\n",
            "Epoch 50/50\n",
            "4573/4573 [==============================] - 12s 3ms/step - loss: 0.1994 - mean_absolute_error: 0.1994 - mean_squared_error: 0.2192 - mean_absolute_percentage_error: 125.0131 - val_loss: 0.2002 - val_mean_absolute_error: 0.2002 - val_mean_squared_error: 0.2831 - val_mean_absolute_percentage_error: 122.1829\n"
          ]
        }
      ]
    },
    {
      "cell_type": "markdown",
      "source": [
        "TO calculate losses of our model on validation data."
      ],
      "metadata": {
        "id": "JbHOwb5TM0gT"
      }
    },
    {
      "cell_type": "code",
      "source": [
        "def calculate_error(model, y):\n",
        "    predictions = model.predict(xtest)\n",
        "    m1 = mean_absolute_error(y, predictions)\n",
        "    m2 = mean_squared_error(y, predictions)\n",
        "    m3 = mean_absolute_percentage_error(y, predictions)\n",
        "    print('Mean Absolute error', m1, '\\n', 'Mean Squared error', m2, '\\n', 'Mean absolute percentage error', m3)\n",
        "    return m1, m2, m3"
      ],
      "metadata": {
        "id": "GK9PtAJqDR94"
      },
      "execution_count": null,
      "outputs": []
    },
    {
      "cell_type": "code",
      "source": [
        "calculate_error(model1, ytest)"
      ],
      "metadata": {
        "colab": {
          "base_uri": "https://localhost:8080/"
        },
        "id": "iJtIDZ-DDR7h",
        "outputId": "47c90d27-b959-49d8-ef0c-6c26b807cce3"
      },
      "execution_count": null,
      "outputs": [
        {
          "output_type": "stream",
          "name": "stdout",
          "text": [
            "Mean Absolute error 0.19787550469086643 \n",
            " Mean Squared error 0.22089817637968714 \n",
            " Mean absolute percentage error 1.2501084107646627\n"
          ]
        },
        {
          "output_type": "execute_result",
          "data": {
            "text/plain": [
              "(0.19787550469086643, 0.22089817637968714, 1.2501084107646627)"
            ]
          },
          "metadata": {},
          "execution_count": 209
        }
      ]
    },
    {
      "cell_type": "markdown",
      "source": [
        "To plot loss against number of epochs:"
      ],
      "metadata": {
        "id": "5DOtcp-YMdtH"
      }
    },
    {
      "cell_type": "code",
      "source": [
        "def plot_loss(model):\n",
        "    print(model.history.keys())\n",
        "    plt.plot(model.history['loss'])\n",
        "    plt.plot(model.history['val_loss'])\n",
        "    plt.title('Model loss')\n",
        "    plt.xlabel('Epoch')\n",
        "    plt.ylabel('Loss')\n",
        "    plt.legend(['train', 'validation'], loc='upper left')\n",
        "    plt.show()\n",
        "    "
      ],
      "metadata": {
        "id": "DkJlIzMjMWgW"
      },
      "execution_count": null,
      "outputs": []
    },
    {
      "cell_type": "code",
      "source": [
        "plot_loss(history)"
      ],
      "metadata": {
        "colab": {
          "base_uri": "https://localhost:8080/",
          "height": 312
        },
        "id": "8zJ7ZkYXMWds",
        "outputId": "5e5d1d42-8f4f-4877-b4d6-dbcdb6c64d4b"
      },
      "execution_count": null,
      "outputs": [
        {
          "output_type": "stream",
          "name": "stdout",
          "text": [
            "dict_keys(['loss', 'mean_absolute_error', 'mean_squared_error', 'mean_absolute_percentage_error', 'val_loss', 'val_mean_absolute_error', 'val_mean_squared_error', 'val_mean_absolute_percentage_error'])\n"
          ]
        },
        {
          "output_type": "display_data",
          "data": {
            "text/plain": [
              "<Figure size 432x288 with 1 Axes>"
            ],
            "image/png": "[encoded data removed]"
          },
          "metadata": {
            "needs_background": "light"
          }
        }
      ]
    },
    {
      "cell_type": "markdown",
      "source": [
        "#playing with activation functions"
      ],
      "metadata": {
        "id": "vbFvHX17YwYG"
      }
    },
    {
      "cell_type": "markdown",
      "source": [
        "Using RELU"
      ],
      "metadata": {
        "id": "Qq6MUuDTPtPi"
      }
    },
    {
      "cell_type": "code",
      "source": [
        "model2 = tf.keras.Sequential(name='model2')\n",
        "model2.add(tf.keras.layers.Dense(12, input_shape=(12,)))\n",
        "model2.add(tf.keras.layers.Dense(64, activation='relu', kernel_initializer='normal'))\n",
        "model2.add(tf.keras.layers.Dense(32, activation='relu', kernel_initializer='normal'))\n",
        "model2.add(tf.keras.layers.Dense(16, activation='relu', kernel_initializer='normal'))\n",
        "model2.add(tf.keras.layers.Dense(8, activation='relu', kernel_initializer='normal'))\n",
        "model2.add(tf.keras.layers.Dense(1, activation='linear'))\n",
        "\n",
        "model2.summary()"
      ],
      "metadata": {
        "colab": {
          "base_uri": "https://localhost:8080/"
        },
        "id": "78A8UYlOMWa0",
        "outputId": "71a839fd-8a80-48ce-e145-2cf6d92bc7ee"
      },
      "execution_count": null,
      "outputs": [
        {
          "output_type": "stream",
          "name": "stdout",
          "text": [
            "Model: \"model2\"\n",
            "_________________________________________________________________\n",
            " Layer (type)                Output Shape              Param #   \n",
            "=================================================================\n",
            " dense_24 (Dense)            (None, 12)                156       \n",
            "                                                                 \n",
            " dense_25 (Dense)            (None, 64)                832       \n",
            "                                                                 \n",
            " dense_26 (Dense)            (None, 32)                2080      \n",
            "                                                                 \n",
            " dense_27 (Dense)            (None, 16)                528       \n",
            "                                                                 \n",
            " dense_28 (Dense)            (None, 8)                 136       \n",
            "                                                                 \n",
            " dense_29 (Dense)            (None, 1)                 9         \n",
            "                                                                 \n",
            "=================================================================\n",
            "Total params: 3,741\n",
            "Trainable params: 3,741\n",
            "Non-trainable params: 0\n",
            "_________________________________________________________________\n"
          ]
        }
      ]
    },
    {
      "cell_type": "code",
      "source": [
        "model2.compile(loss=tf.keras.losses.MeanAbsolutePercentageError(), optimizer='adam', metrics=[tf.keras.losses.MeanAbsolutePercentageError(), tf.keras.losses.MeanAbsoluteError(), tf.keras.losses.MeanSquaredError()])"
      ],
      "metadata": {
        "id": "cq8-V5xVMWYG"
      },
      "execution_count": null,
      "outputs": []
    },
    {
      "cell_type": "code",
      "source": [
        "history2 = model2.fit(xtrain, ytrain, epochs=50, batch_size=128, validation_split=0.3)"
      ],
      "metadata": {
        "colab": {
          "base_uri": "https://localhost:8080/"
        },
        "id": "CMnQuEM7P4Ev",
        "outputId": "a03a2c80-11e6-4502-bd8e-14cd6bfa4687"
      },
      "execution_count": null,
      "outputs": [
        {
          "output_type": "stream",
          "name": "stdout",
          "text": [
            "Epoch 1/50\n",
            "4002/4002 [==============================] - 18s 4ms/step - loss: 87.8691 - mean_absolute_percentage_error: 87.8735 - mean_absolute_error: 0.4699 - mean_squared_error: 0.7990 - val_loss: 78.7879 - val_mean_absolute_percentage_error: 78.7867 - val_mean_absolute_error: 0.3228 - val_mean_squared_error: 0.4204\n",
            "Epoch 2/50\n",
            "4002/4002 [==============================] - 14s 4ms/step - loss: 81.9452 - mean_absolute_percentage_error: 81.9417 - mean_absolute_error: 0.3563 - mean_squared_error: 0.4787 - val_loss: 76.7309 - val_mean_absolute_percentage_error: 76.7297 - val_mean_absolute_error: 0.3232 - val_mean_squared_error: 0.3991\n",
            "Epoch 3/50\n",
            "4002/4002 [==============================] - 13s 3ms/step - loss: 79.4694 - mean_absolute_percentage_error: 79.4662 - mean_absolute_error: 0.3506 - mean_squared_error: 0.4939 - val_loss: 75.8216 - val_mean_absolute_percentage_error: 75.8202 - val_mean_absolute_error: 0.3207 - val_mean_squared_error: 0.4309\n",
            "Epoch 4/50\n",
            "4002/4002 [==============================] - 16s 4ms/step - loss: 76.7997 - mean_absolute_percentage_error: 76.7968 - mean_absolute_error: 0.3401 - mean_squared_error: 0.4670 - val_loss: 78.4487 - val_mean_absolute_percentage_error: 78.4480 - val_mean_absolute_error: 0.4421 - val_mean_squared_error: 0.9510\n",
            "Epoch 5/50\n",
            "4002/4002 [==============================] - 16s 4ms/step - loss: 74.8195 - mean_absolute_percentage_error: 74.8169 - mean_absolute_error: 0.3254 - mean_squared_error: 0.4402 - val_loss: 72.3532 - val_mean_absolute_percentage_error: 72.3522 - val_mean_absolute_error: 0.3057 - val_mean_squared_error: 0.3916\n",
            "Epoch 6/50\n",
            "4002/4002 [==============================] - 18s 5ms/step - loss: 73.8740 - mean_absolute_percentage_error: 73.8728 - mean_absolute_error: 0.3125 - mean_squared_error: 0.3875 - val_loss: 72.9241 - val_mean_absolute_percentage_error: 72.9232 - val_mean_absolute_error: 0.3124 - val_mean_squared_error: 0.3740\n",
            "Epoch 7/50\n",
            "4002/4002 [==============================] - 15s 4ms/step - loss: 72.9638 - mean_absolute_percentage_error: 72.9672 - mean_absolute_error: 0.3000 - mean_squared_error: 0.3687 - val_loss: 74.2086 - val_mean_absolute_percentage_error: 74.2079 - val_mean_absolute_error: 0.3434 - val_mean_squared_error: 0.5052\n",
            "Epoch 8/50\n",
            "4002/4002 [==============================] - 13s 3ms/step - loss: 71.8609 - mean_absolute_percentage_error: 71.8570 - mean_absolute_error: 0.2903 - mean_squared_error: 0.3450 - val_loss: 69.0841 - val_mean_absolute_percentage_error: 69.0828 - val_mean_absolute_error: 0.2474 - val_mean_squared_error: 0.2989\n",
            "Epoch 9/50\n",
            "4002/4002 [==============================] - 13s 3ms/step - loss: 70.5925 - mean_absolute_percentage_error: 70.5909 - mean_absolute_error: 0.2791 - mean_squared_error: 0.3349 - val_loss: 70.3315 - val_mean_absolute_percentage_error: 70.3308 - val_mean_absolute_error: 0.2977 - val_mean_squared_error: 0.3874\n",
            "Epoch 10/50\n",
            "4002/4002 [==============================] - 15s 4ms/step - loss: 70.5502 - mean_absolute_percentage_error: 70.5488 - mean_absolute_error: 0.2769 - mean_squared_error: 0.3209 - val_loss: 68.7461 - val_mean_absolute_percentage_error: 68.7452 - val_mean_absolute_error: 0.2824 - val_mean_squared_error: 0.3517\n",
            "Epoch 11/50\n",
            "4002/4002 [==============================] - 20s 5ms/step - loss: 69.7695 - mean_absolute_percentage_error: 69.7669 - mean_absolute_error: 0.2728 - mean_squared_error: 0.3147 - val_loss: 71.4527 - val_mean_absolute_percentage_error: 71.4521 - val_mean_absolute_error: 0.2698 - val_mean_squared_error: 0.3015\n",
            "Epoch 12/50\n",
            "4002/4002 [==============================] - 14s 3ms/step - loss: 69.5793 - mean_absolute_percentage_error: 69.5790 - mean_absolute_error: 0.2690 - mean_squared_error: 0.3052 - val_loss: 69.2240 - val_mean_absolute_percentage_error: 69.2228 - val_mean_absolute_error: 0.2509 - val_mean_squared_error: 0.3329\n",
            "Epoch 13/50\n",
            "4002/4002 [==============================] - 14s 3ms/step - loss: 69.5464 - mean_absolute_percentage_error: 69.5436 - mean_absolute_error: 0.2755 - mean_squared_error: 0.3276 - val_loss: 68.7737 - val_mean_absolute_percentage_error: 68.7730 - val_mean_absolute_error: 0.2891 - val_mean_squared_error: 0.3757\n",
            "Epoch 14/50\n",
            "4002/4002 [==============================] - 20s 5ms/step - loss: 68.8055 - mean_absolute_percentage_error: 68.8056 - mean_absolute_error: 0.2710 - mean_squared_error: 0.3313 - val_loss: 68.7365 - val_mean_absolute_percentage_error: 68.7356 - val_mean_absolute_error: 0.2639 - val_mean_squared_error: 0.3158\n",
            "Epoch 15/50\n",
            "4002/4002 [==============================] - 17s 4ms/step - loss: 68.7849 - mean_absolute_percentage_error: 68.7831 - mean_absolute_error: 0.2717 - mean_squared_error: 0.3388 - val_loss: 67.7094 - val_mean_absolute_percentage_error: 67.7087 - val_mean_absolute_error: 0.2592 - val_mean_squared_error: 0.3258\n",
            "Epoch 16/50\n",
            "4002/4002 [==============================] - 14s 3ms/step - loss: 68.2786 - mean_absolute_percentage_error: 68.2773 - mean_absolute_error: 0.2640 - mean_squared_error: 0.3112 - val_loss: 67.6937 - val_mean_absolute_percentage_error: 67.6929 - val_mean_absolute_error: 0.2691 - val_mean_squared_error: 0.3329\n",
            "Epoch 17/50\n",
            "4002/4002 [==============================] - 15s 4ms/step - loss: 68.1844 - mean_absolute_percentage_error: 68.1844 - mean_absolute_error: 0.2673 - mean_squared_error: 0.3296 - val_loss: 68.0491 - val_mean_absolute_percentage_error: 68.0482 - val_mean_absolute_error: 0.3047 - val_mean_squared_error: 0.4974\n",
            "Epoch 18/50\n",
            "4002/4002 [==============================] - 14s 3ms/step - loss: 68.0830 - mean_absolute_percentage_error: 68.0808 - mean_absolute_error: 0.2726 - mean_squared_error: 0.3555 - val_loss: 67.0945 - val_mean_absolute_percentage_error: 67.0935 - val_mean_absolute_error: 0.2511 - val_mean_squared_error: 0.3057\n",
            "Epoch 19/50\n",
            "4002/4002 [==============================] - 13s 3ms/step - loss: 67.5829 - mean_absolute_percentage_error: 67.5792 - mean_absolute_error: 0.2644 - mean_squared_error: 0.3205 - val_loss: 66.4914 - val_mean_absolute_percentage_error: 66.4904 - val_mean_absolute_error: 0.2535 - val_mean_squared_error: 0.3214\n",
            "Epoch 20/50\n",
            "4002/4002 [==============================] - 13s 3ms/step - loss: 67.3770 - mean_absolute_percentage_error: 67.3738 - mean_absolute_error: 0.2596 - mean_squared_error: 0.3028 - val_loss: 66.4360 - val_mean_absolute_percentage_error: 66.4349 - val_mean_absolute_error: 0.2497 - val_mean_squared_error: 0.3315\n",
            "Epoch 21/50\n",
            "4002/4002 [==============================] - 13s 3ms/step - loss: 67.6273 - mean_absolute_percentage_error: 67.6254 - mean_absolute_error: 0.2659 - mean_squared_error: 0.3289 - val_loss: 66.9205 - val_mean_absolute_percentage_error: 66.9192 - val_mean_absolute_error: 0.2385 - val_mean_squared_error: 0.2972\n",
            "Epoch 22/50\n",
            "4002/4002 [==============================] - 14s 3ms/step - loss: 67.2916 - mean_absolute_percentage_error: 67.2914 - mean_absolute_error: 0.2618 - mean_squared_error: 0.3143 - val_loss: 67.8061 - val_mean_absolute_percentage_error: 67.8051 - val_mean_absolute_error: 0.2948 - val_mean_squared_error: 0.4561\n",
            "Epoch 23/50\n",
            "4002/4002 [==============================] - 13s 3ms/step - loss: 67.0953 - mean_absolute_percentage_error: 67.0952 - mean_absolute_error: 0.2617 - mean_squared_error: 0.3142 - val_loss: 67.9452 - val_mean_absolute_percentage_error: 67.9443 - val_mean_absolute_error: 0.3058 - val_mean_squared_error: 0.4383\n",
            "Epoch 24/50\n",
            "4002/4002 [==============================] - 13s 3ms/step - loss: 67.1261 - mean_absolute_percentage_error: 67.1252 - mean_absolute_error: 0.2653 - mean_squared_error: 0.3325 - val_loss: 66.8370 - val_mean_absolute_percentage_error: 66.8359 - val_mean_absolute_error: 0.2497 - val_mean_squared_error: 0.2898\n",
            "Epoch 25/50\n",
            "4002/4002 [==============================] - 13s 3ms/step - loss: 67.0313 - mean_absolute_percentage_error: 67.0330 - mean_absolute_error: 0.2559 - mean_squared_error: 0.2992 - val_loss: 68.7359 - val_mean_absolute_percentage_error: 68.7347 - val_mean_absolute_error: 0.3058 - val_mean_squared_error: 0.5070\n",
            "Epoch 26/50\n",
            "4002/4002 [==============================] - 13s 3ms/step - loss: 67.0811 - mean_absolute_percentage_error: 67.0792 - mean_absolute_error: 0.2649 - mean_squared_error: 0.3282 - val_loss: 68.6169 - val_mean_absolute_percentage_error: 68.6159 - val_mean_absolute_error: 0.3149 - val_mean_squared_error: 0.4393\n",
            "Epoch 27/50\n",
            "4002/4002 [==============================] - 14s 4ms/step - loss: 66.7484 - mean_absolute_percentage_error: 66.7487 - mean_absolute_error: 0.2591 - mean_squared_error: 0.3111 - val_loss: 69.3610 - val_mean_absolute_percentage_error: 69.3602 - val_mean_absolute_error: 0.3300 - val_mean_squared_error: 0.4940\n",
            "Epoch 28/50\n",
            "4002/4002 [==============================] - 13s 3ms/step - loss: 66.7774 - mean_absolute_percentage_error: 66.7808 - mean_absolute_error: 0.2593 - mean_squared_error: 0.3046 - val_loss: 66.3289 - val_mean_absolute_percentage_error: 66.3278 - val_mean_absolute_error: 0.2405 - val_mean_squared_error: 0.2905\n",
            "Epoch 29/50\n",
            "4002/4002 [==============================] - 14s 3ms/step - loss: 66.5053 - mean_absolute_percentage_error: 66.5048 - mean_absolute_error: 0.2606 - mean_squared_error: 0.3148 - val_loss: 66.8527 - val_mean_absolute_percentage_error: 66.8518 - val_mean_absolute_error: 0.2479 - val_mean_squared_error: 0.2926\n",
            "Epoch 30/50\n",
            "4002/4002 [==============================] - 13s 3ms/step - loss: 66.6084 - mean_absolute_percentage_error: 66.6124 - mean_absolute_error: 0.2613 - mean_squared_error: 0.3132 - val_loss: 67.2023 - val_mean_absolute_percentage_error: 67.2013 - val_mean_absolute_error: 0.2678 - val_mean_squared_error: 0.3238\n",
            "Epoch 31/50\n",
            "4002/4002 [==============================] - 13s 3ms/step - loss: 66.4371 - mean_absolute_percentage_error: 66.4353 - mean_absolute_error: 0.2587 - mean_squared_error: 0.3081 - val_loss: 67.5158 - val_mean_absolute_percentage_error: 67.5148 - val_mean_absolute_error: 0.2762 - val_mean_squared_error: 0.3806\n",
            "Epoch 32/50\n",
            "4002/4002 [==============================] - 14s 3ms/step - loss: 65.9289 - mean_absolute_percentage_error: 65.9268 - mean_absolute_error: 0.2507 - mean_squared_error: 0.2821 - val_loss: 66.5623 - val_mean_absolute_percentage_error: 66.5613 - val_mean_absolute_error: 0.2749 - val_mean_squared_error: 0.3821\n",
            "Epoch 33/50\n",
            "4002/4002 [==============================] - 13s 3ms/step - loss: 66.3622 - mean_absolute_percentage_error: 66.3624 - mean_absolute_error: 0.2643 - mean_squared_error: 0.3323 - val_loss: 67.6366 - val_mean_absolute_percentage_error: 67.6358 - val_mean_absolute_error: 0.3215 - val_mean_squared_error: 0.5866\n",
            "Epoch 34/50\n",
            "4002/4002 [==============================] - 14s 3ms/step - loss: 66.2286 - mean_absolute_percentage_error: 66.2329 - mean_absolute_error: 0.2624 - mean_squared_error: 0.3364 - val_loss: 65.7782 - val_mean_absolute_percentage_error: 65.7772 - val_mean_absolute_error: 0.2428 - val_mean_squared_error: 0.2769\n",
            "Epoch 35/50\n",
            "4002/4002 [==============================] - 13s 3ms/step - loss: 66.3538 - mean_absolute_percentage_error: 66.3535 - mean_absolute_error: 0.2619 - mean_squared_error: 0.3213 - val_loss: 65.9831 - val_mean_absolute_percentage_error: 65.9819 - val_mean_absolute_error: 0.2284 - val_mean_squared_error: 0.2819\n",
            "Epoch 36/50\n",
            "4002/4002 [==============================] - 13s 3ms/step - loss: 65.9690 - mean_absolute_percentage_error: 65.9662 - mean_absolute_error: 0.2609 - mean_squared_error: 0.3260 - val_loss: 65.7793 - val_mean_absolute_percentage_error: 65.7783 - val_mean_absolute_error: 0.2443 - val_mean_squared_error: 0.2940\n",
            "Epoch 37/50\n",
            "4002/4002 [==============================] - 13s 3ms/step - loss: 65.9668 - mean_absolute_percentage_error: 65.9643 - mean_absolute_error: 0.2548 - mean_squared_error: 0.2964 - val_loss: 66.0982 - val_mean_absolute_percentage_error: 66.0972 - val_mean_absolute_error: 0.2610 - val_mean_squared_error: 0.3432\n",
            "Epoch 38/50\n",
            "4002/4002 [==============================] - 13s 3ms/step - loss: 66.0039 - mean_absolute_percentage_error: 66.0055 - mean_absolute_error: 0.2589 - mean_squared_error: 0.3091 - val_loss: 66.0683 - val_mean_absolute_percentage_error: 66.0673 - val_mean_absolute_error: 0.2389 - val_mean_squared_error: 0.3033\n",
            "Epoch 39/50\n",
            "4002/4002 [==============================] - 13s 3ms/step - loss: 66.0346 - mean_absolute_percentage_error: 66.0325 - mean_absolute_error: 0.2621 - mean_squared_error: 0.3299 - val_loss: 67.6146 - val_mean_absolute_percentage_error: 67.6138 - val_mean_absolute_error: 0.2905 - val_mean_squared_error: 0.3682\n",
            "Epoch 40/50\n",
            "4002/4002 [==============================] - 16s 4ms/step - loss: 65.8756 - mean_absolute_percentage_error: 65.8755 - mean_absolute_error: 0.2610 - mean_squared_error: 0.3185 - val_loss: 66.1582 - val_mean_absolute_percentage_error: 66.1571 - val_mean_absolute_error: 0.2404 - val_mean_squared_error: 0.2977\n",
            "Epoch 41/50\n",
            "4002/4002 [==============================] - 18s 5ms/step - loss: 65.9987 - mean_absolute_percentage_error: 65.9965 - mean_absolute_error: 0.2599 - mean_squared_error: 0.3189 - val_loss: 65.6495 - val_mean_absolute_percentage_error: 65.6484 - val_mean_absolute_error: 0.2539 - val_mean_squared_error: 0.3597\n",
            "Epoch 42/50\n",
            "4002/4002 [==============================] - 13s 3ms/step - loss: 65.6076 - mean_absolute_percentage_error: 65.6095 - mean_absolute_error: 0.2572 - mean_squared_error: 0.3061 - val_loss: 68.2116 - val_mean_absolute_percentage_error: 68.2108 - val_mean_absolute_error: 0.3161 - val_mean_squared_error: 0.5162\n",
            "Epoch 43/50\n",
            "4002/4002 [==============================] - 13s 3ms/step - loss: 65.6222 - mean_absolute_percentage_error: 65.6209 - mean_absolute_error: 0.2629 - mean_squared_error: 0.3294 - val_loss: 65.7723 - val_mean_absolute_percentage_error: 65.7712 - val_mean_absolute_error: 0.2408 - val_mean_squared_error: 0.2853\n",
            "Epoch 44/50\n",
            "4002/4002 [==============================] - 13s 3ms/step - loss: 65.3963 - mean_absolute_percentage_error: 65.3957 - mean_absolute_error: 0.2551 - mean_squared_error: 0.3013 - val_loss: 66.1012 - val_mean_absolute_percentage_error: 66.1001 - val_mean_absolute_error: 0.2426 - val_mean_squared_error: 0.2793\n",
            "Epoch 45/50\n",
            "4002/4002 [==============================] - 13s 3ms/step - loss: 65.5531 - mean_absolute_percentage_error: 65.5503 - mean_absolute_error: 0.2535 - mean_squared_error: 0.2984 - val_loss: 66.4195 - val_mean_absolute_percentage_error: 66.4185 - val_mean_absolute_error: 0.2665 - val_mean_squared_error: 0.3612\n",
            "Epoch 46/50\n",
            "4002/4002 [==============================] - 12s 3ms/step - loss: 65.6102 - mean_absolute_percentage_error: 65.6087 - mean_absolute_error: 0.2510 - mean_squared_error: 0.2802 - val_loss: 66.3194 - val_mean_absolute_percentage_error: 66.3185 - val_mean_absolute_error: 0.2723 - val_mean_squared_error: 0.3731\n",
            "Epoch 47/50\n",
            "4002/4002 [==============================] - 13s 3ms/step - loss: 65.4061 - mean_absolute_percentage_error: 65.4031 - mean_absolute_error: 0.2563 - mean_squared_error: 0.3078 - val_loss: 67.4211 - val_mean_absolute_percentage_error: 67.4201 - val_mean_absolute_error: 0.2837 - val_mean_squared_error: 0.3973\n",
            "Epoch 48/50\n",
            "4002/4002 [==============================] - 13s 3ms/step - loss: 65.4571 - mean_absolute_percentage_error: 65.4551 - mean_absolute_error: 0.2548 - mean_squared_error: 0.3032 - val_loss: 65.8344 - val_mean_absolute_percentage_error: 65.8332 - val_mean_absolute_error: 0.2425 - val_mean_squared_error: 0.2869\n",
            "Epoch 49/50\n",
            "4002/4002 [==============================] - 13s 3ms/step - loss: 65.7128 - mean_absolute_percentage_error: 65.7118 - mean_absolute_error: 0.2518 - mean_squared_error: 0.2841 - val_loss: 66.6060 - val_mean_absolute_percentage_error: 66.6050 - val_mean_absolute_error: 0.2632 - val_mean_squared_error: 0.3069\n",
            "Epoch 50/50\n",
            "4002/4002 [==============================] - 13s 3ms/step - loss: 65.1973 - mean_absolute_percentage_error: 65.1958 - mean_absolute_error: 0.2542 - mean_squared_error: 0.3007 - val_loss: 66.3652 - val_mean_absolute_percentage_error: 66.3641 - val_mean_absolute_error: 0.2459 - val_mean_squared_error: 0.3043\n"
          ]
        }
      ]
    },
    {
      "cell_type": "code",
      "source": [
        "calculate_error(model2, ytest)"
      ],
      "metadata": {
        "colab": {
          "base_uri": "https://localhost:8080/"
        },
        "id": "UHo13J1pP4CR",
        "outputId": "6cf7594a-f88d-4f5c-be34-d303105967c4"
      },
      "execution_count": null,
      "outputs": [
        {
          "output_type": "stream",
          "name": "stdout",
          "text": [
            "Mean Absolute error 0.24280169226166468 \n",
            " Mean Squared error 0.26813146089962614 \n",
            " Mean absolute percentage error 0.6670424634433358\n"
          ]
        },
        {
          "output_type": "execute_result",
          "data": {
            "text/plain": [
              "(0.24280169226166468, 0.26813146089962614, 0.6670424634433358)"
            ]
          },
          "metadata": {},
          "execution_count": 217
        }
      ]
    },
    {
      "cell_type": "code",
      "source": [
        "plot_loss(history2)"
      ],
      "metadata": {
        "colab": {
          "base_uri": "https://localhost:8080/",
          "height": 312
        },
        "id": "wGzFpT0bP3_n",
        "outputId": "2ba123b0-e556-4199-903b-3e25e0f20a2d"
      },
      "execution_count": null,
      "outputs": [
        {
          "output_type": "stream",
          "name": "stdout",
          "text": [
            "dict_keys(['loss', 'mean_absolute_percentage_error', 'mean_absolute_error', 'mean_squared_error', 'val_loss', 'val_mean_absolute_percentage_error', 'val_mean_absolute_error', 'val_mean_squared_error'])\n"
          ]
        },
        {
          "output_type": "display_data",
          "data": {
            "text/plain": [
              "<Figure size 432x288 with 1 Axes>"
            ],
            "image/png": "[encoded data removed]"
          },
          "metadata": {
            "needs_background": "light"
          }
        }
      ]
    },
    {
      "cell_type": "markdown",
      "source": [
        "sigmoid function with same model as model2"
      ],
      "metadata": {
        "id": "6nELXrJyQSBz"
      }
    },
    {
      "cell_type": "code",
      "source": [
        "model3 = tf.keras.Sequential(name='Q1_model3')\n",
        "model3.add(tf.keras.layers.Dense(12, input_shape=(12,)))\n",
        "model3.add(tf.keras.layers.Dense(64, activation='sigmoid', kernel_initializer='normal'))\n",
        "model3.add(tf.keras.layers.Dense(32, activation='sigmoid', kernel_initializer='normal'))\n",
        "model3.add(tf.keras.layers.Dense(16, activation='sigmoid', kernel_initializer='normal'))\n",
        "model3.add(tf.keras.layers.Dense(8, activation='sigmoid', kernel_initializer='normal'))\n",
        "model3.add(tf.keras.layers.Dense(1, activation='linear'))\n",
        "\n",
        "model3.summary()"
      ],
      "metadata": {
        "colab": {
          "base_uri": "https://localhost:8080/"
        },
        "id": "aPiqVzA2Q2Tu",
        "outputId": "3fc6be06-c8e0-492f-8eb6-f0cbd9b86470"
      },
      "execution_count": null,
      "outputs": [
        {
          "output_type": "stream",
          "name": "stdout",
          "text": [
            "Model: \"Q1_model3\"\n",
            "_________________________________________________________________\n",
            " Layer (type)                Output Shape              Param #   \n",
            "=================================================================\n",
            " dense_40 (Dense)            (None, 12)                156       \n",
            "                                                                 \n",
            " dense_41 (Dense)            (None, 64)                832       \n",
            "                                                                 \n",
            " dense_42 (Dense)            (None, 32)                2080      \n",
            "                                                                 \n",
            " dense_43 (Dense)            (None, 16)                528       \n",
            "                                                                 \n",
            " dense_44 (Dense)            (None, 8)                 136       \n",
            "                                                                 \n",
            " dense_45 (Dense)            (None, 1)                 9         \n",
            "                                                                 \n",
            "=================================================================\n",
            "Total params: 3,741\n",
            "Trainable params: 3,741\n",
            "Non-trainable params: 0\n",
            "_________________________________________________________________\n"
          ]
        }
      ]
    },
    {
      "cell_type": "code",
      "source": [
        "model3.compile(loss=tf.keras.losses.MeanAbsolutePercentageError(), optimizer='adam', metrics=[tf.keras.losses.MeanAbsolutePercentageError(), tf.keras.losses.MeanAbsoluteError(), tf.keras.losses.MeanSquaredError()])"
      ],
      "metadata": {
        "id": "hJOOBRIRQ2Q9"
      },
      "execution_count": null,
      "outputs": []
    },
    {
      "cell_type": "code",
      "source": [
        "history3 = model3.fit(xtrain, ytrain, batch_size=128, epochs=40, validation_split=0.2)"
      ],
      "metadata": {
        "colab": {
          "base_uri": "https://localhost:8080/"
        },
        "id": "9tIDkkTBQ2O_",
        "outputId": "d0b02ec3-1c32-4db1-867e-2fd5882c04d1"
      },
      "execution_count": null,
      "outputs": [
        {
          "output_type": "stream",
          "name": "stdout",
          "text": [
            "Epoch 1/40\n",
            "4573/4573 [==============================] - 14s 3ms/step - loss: 102.9653 - mean_absolute_percentage_error: 102.9652 - mean_absolute_error: 0.5871 - mean_squared_error: 0.9575 - val_loss: 93.3452 - val_mean_absolute_percentage_error: 93.3368 - val_mean_absolute_error: 0.5238 - val_mean_squared_error: 0.9761\n",
            "Epoch 2/40\n",
            "4573/4573 [==============================] - 13s 3ms/step - loss: 88.0968 - mean_absolute_percentage_error: 88.0971 - mean_absolute_error: 0.4820 - mean_squared_error: 0.8862 - val_loss: 87.6078 - val_mean_absolute_percentage_error: 87.5991 - val_mean_absolute_error: 0.4594 - val_mean_squared_error: 0.9397\n",
            "Epoch 3/40\n",
            "4573/4573 [==============================] - 14s 3ms/step - loss: 86.5439 - mean_absolute_percentage_error: 86.5439 - mean_absolute_error: 0.4616 - mean_squared_error: 0.8720 - val_loss: 86.9900 - val_mean_absolute_percentage_error: 86.9807 - val_mean_absolute_error: 0.4537 - val_mean_squared_error: 0.9308\n",
            "Epoch 4/40\n",
            "4573/4573 [==============================] - 13s 3ms/step - loss: 85.6475 - mean_absolute_percentage_error: 85.6474 - mean_absolute_error: 0.4547 - mean_squared_error: 0.8647 - val_loss: 87.5859 - val_mean_absolute_percentage_error: 87.5766 - val_mean_absolute_error: 0.4434 - val_mean_squared_error: 0.9278\n",
            "Epoch 5/40\n",
            "4573/4573 [==============================] - 13s 3ms/step - loss: 84.6351 - mean_absolute_percentage_error: 84.6351 - mean_absolute_error: 0.4494 - mean_squared_error: 0.8598 - val_loss: 86.0997 - val_mean_absolute_percentage_error: 86.0904 - val_mean_absolute_error: 0.4394 - val_mean_squared_error: 0.9212\n",
            "Epoch 6/40\n",
            "4573/4573 [==============================] - 14s 3ms/step - loss: 84.2903 - mean_absolute_percentage_error: 84.2902 - mean_absolute_error: 0.4479 - mean_squared_error: 0.8574 - val_loss: 83.8852 - val_mean_absolute_percentage_error: 83.8785 - val_mean_absolute_error: 0.4545 - val_mean_squared_error: 0.9214\n",
            "Epoch 7/40\n",
            "4573/4573 [==============================] - 15s 3ms/step - loss: 83.8438 - mean_absolute_percentage_error: 83.8437 - mean_absolute_error: 0.4462 - mean_squared_error: 0.8557 - val_loss: 84.9481 - val_mean_absolute_percentage_error: 84.9394 - val_mean_absolute_error: 0.4411 - val_mean_squared_error: 0.9194\n",
            "Epoch 8/40\n",
            "4573/4573 [==============================] - 14s 3ms/step - loss: 83.5138 - mean_absolute_percentage_error: 83.5138 - mean_absolute_error: 0.4448 - mean_squared_error: 0.8556 - val_loss: 83.2886 - val_mean_absolute_percentage_error: 83.2817 - val_mean_absolute_error: 0.4450 - val_mean_squared_error: 0.9168\n",
            "Epoch 9/40\n",
            "4573/4573 [==============================] - 14s 3ms/step - loss: 83.3712 - mean_absolute_percentage_error: 83.3712 - mean_absolute_error: 0.4455 - mean_squared_error: 0.8557 - val_loss: 87.1488 - val_mean_absolute_percentage_error: 87.1389 - val_mean_absolute_error: 0.4532 - val_mean_squared_error: 0.9121\n",
            "Epoch 10/40\n",
            "4573/4573 [==============================] - 15s 3ms/step - loss: 83.3582 - mean_absolute_percentage_error: 83.3581 - mean_absolute_error: 0.4455 - mean_squared_error: 0.8560 - val_loss: 83.3022 - val_mean_absolute_percentage_error: 83.2945 - val_mean_absolute_error: 0.4431 - val_mean_squared_error: 0.9176\n",
            "Epoch 11/40\n",
            "4573/4573 [==============================] - 15s 3ms/step - loss: 83.2595 - mean_absolute_percentage_error: 83.2595 - mean_absolute_error: 0.4454 - mean_squared_error: 0.8563 - val_loss: 84.4552 - val_mean_absolute_percentage_error: 84.4467 - val_mean_absolute_error: 0.4468 - val_mean_squared_error: 0.9147\n",
            "Epoch 12/40\n",
            "4573/4573 [==============================] - 13s 3ms/step - loss: 83.0470 - mean_absolute_percentage_error: 83.0469 - mean_absolute_error: 0.4450 - mean_squared_error: 0.8562 - val_loss: 83.7422 - val_mean_absolute_percentage_error: 83.7347 - val_mean_absolute_error: 0.4497 - val_mean_squared_error: 0.9154\n",
            "Epoch 13/40\n",
            "4573/4573 [==============================] - 14s 3ms/step - loss: 83.0277 - mean_absolute_percentage_error: 83.0277 - mean_absolute_error: 0.4453 - mean_squared_error: 0.8559 - val_loss: 83.3967 - val_mean_absolute_percentage_error: 83.3890 - val_mean_absolute_error: 0.4449 - val_mean_squared_error: 0.9164\n",
            "Epoch 14/40\n",
            "4573/4573 [==============================] - 14s 3ms/step - loss: 82.9134 - mean_absolute_percentage_error: 82.9133 - mean_absolute_error: 0.4448 - mean_squared_error: 0.8558 - val_loss: 84.1233 - val_mean_absolute_percentage_error: 84.1160 - val_mean_absolute_error: 0.4510 - val_mean_squared_error: 0.9148\n",
            "Epoch 15/40\n",
            "4573/4573 [==============================] - 14s 3ms/step - loss: 82.6953 - mean_absolute_percentage_error: 82.6952 - mean_absolute_error: 0.4452 - mean_squared_error: 0.8556 - val_loss: 82.9843 - val_mean_absolute_percentage_error: 82.9763 - val_mean_absolute_error: 0.4393 - val_mean_squared_error: 0.9153\n",
            "Epoch 16/40\n",
            "4573/4573 [==============================] - 14s 3ms/step - loss: 81.9570 - mean_absolute_percentage_error: 81.9570 - mean_absolute_error: 0.4476 - mean_squared_error: 0.8550 - val_loss: 81.9775 - val_mean_absolute_percentage_error: 81.9749 - val_mean_absolute_error: 0.4568 - val_mean_squared_error: 0.9189\n",
            "Epoch 17/40\n",
            "4573/4573 [==============================] - 15s 3ms/step - loss: 81.1379 - mean_absolute_percentage_error: 81.1380 - mean_absolute_error: 0.4462 - mean_squared_error: 0.8539 - val_loss: 82.1865 - val_mean_absolute_percentage_error: 82.1795 - val_mean_absolute_error: 0.4371 - val_mean_squared_error: 0.9063\n",
            "Epoch 18/40\n",
            "4573/4573 [==============================] - 15s 3ms/step - loss: 80.8218 - mean_absolute_percentage_error: 80.8219 - mean_absolute_error: 0.4446 - mean_squared_error: 0.8523 - val_loss: 84.8839 - val_mean_absolute_percentage_error: 84.8751 - val_mean_absolute_error: 0.4439 - val_mean_squared_error: 0.9063\n",
            "Epoch 19/40\n",
            "4573/4573 [==============================] - 14s 3ms/step - loss: 80.6167 - mean_absolute_percentage_error: 80.6166 - mean_absolute_error: 0.4442 - mean_squared_error: 0.8532 - val_loss: 81.5441 - val_mean_absolute_percentage_error: 81.5400 - val_mean_absolute_error: 0.4539 - val_mean_squared_error: 0.9181\n",
            "Epoch 20/40\n",
            "4573/4573 [==============================] - 13s 3ms/step - loss: 80.4669 - mean_absolute_percentage_error: 80.4669 - mean_absolute_error: 0.4441 - mean_squared_error: 0.8545 - val_loss: 81.3507 - val_mean_absolute_percentage_error: 81.3479 - val_mean_absolute_error: 0.4546 - val_mean_squared_error: 0.9197\n",
            "Epoch 21/40\n",
            "4573/4573 [==============================] - 14s 3ms/step - loss: 80.3316 - mean_absolute_percentage_error: 80.3315 - mean_absolute_error: 0.4436 - mean_squared_error: 0.8543 - val_loss: 81.6470 - val_mean_absolute_percentage_error: 81.6437 - val_mean_absolute_error: 0.4544 - val_mean_squared_error: 0.9171\n",
            "Epoch 22/40\n",
            "4573/4573 [==============================] - 13s 3ms/step - loss: 80.0971 - mean_absolute_percentage_error: 80.0971 - mean_absolute_error: 0.4438 - mean_squared_error: 0.8547 - val_loss: 81.3495 - val_mean_absolute_percentage_error: 81.3429 - val_mean_absolute_error: 0.4409 - val_mean_squared_error: 0.9130\n",
            "Epoch 23/40\n",
            "4573/4573 [==============================] - 14s 3ms/step - loss: 80.0780 - mean_absolute_percentage_error: 80.0779 - mean_absolute_error: 0.4429 - mean_squared_error: 0.8538 - val_loss: 81.0026 - val_mean_absolute_percentage_error: 80.9970 - val_mean_absolute_error: 0.4415 - val_mean_squared_error: 0.9120\n",
            "Epoch 24/40\n",
            "4573/4573 [==============================] - 14s 3ms/step - loss: 79.9343 - mean_absolute_percentage_error: 79.9343 - mean_absolute_error: 0.4426 - mean_squared_error: 0.8543 - val_loss: 80.9794 - val_mean_absolute_percentage_error: 80.9741 - val_mean_absolute_error: 0.4410 - val_mean_squared_error: 0.9136\n",
            "Epoch 25/40\n",
            "4573/4573 [==============================] - 14s 3ms/step - loss: 79.8844 - mean_absolute_percentage_error: 79.8844 - mean_absolute_error: 0.4423 - mean_squared_error: 0.8540 - val_loss: 81.1447 - val_mean_absolute_percentage_error: 81.1400 - val_mean_absolute_error: 0.4491 - val_mean_squared_error: 0.9192\n",
            "Epoch 26/40\n",
            "4573/4573 [==============================] - 14s 3ms/step - loss: 79.6916 - mean_absolute_percentage_error: 79.6915 - mean_absolute_error: 0.4421 - mean_squared_error: 0.8549 - val_loss: 80.7725 - val_mean_absolute_percentage_error: 80.7677 - val_mean_absolute_error: 0.4429 - val_mean_squared_error: 0.9157\n",
            "Epoch 27/40\n",
            "4573/4573 [==============================] - 13s 3ms/step - loss: 79.5970 - mean_absolute_percentage_error: 79.5969 - mean_absolute_error: 0.4416 - mean_squared_error: 0.8550 - val_loss: 81.5066 - val_mean_absolute_percentage_error: 81.5022 - val_mean_absolute_error: 0.4480 - val_mean_squared_error: 0.9155\n",
            "Epoch 28/40\n",
            "4573/4573 [==============================] - 14s 3ms/step - loss: 79.5191 - mean_absolute_percentage_error: 79.5190 - mean_absolute_error: 0.4412 - mean_squared_error: 0.8552 - val_loss: 80.6495 - val_mean_absolute_percentage_error: 80.6443 - val_mean_absolute_error: 0.4410 - val_mean_squared_error: 0.9163\n",
            "Epoch 29/40\n",
            "4573/4573 [==============================] - 13s 3ms/step - loss: 79.4245 - mean_absolute_percentage_error: 79.4245 - mean_absolute_error: 0.4411 - mean_squared_error: 0.8560 - val_loss: 80.6222 - val_mean_absolute_percentage_error: 80.6176 - val_mean_absolute_error: 0.4401 - val_mean_squared_error: 0.9156\n",
            "Epoch 30/40\n",
            "4573/4573 [==============================] - 14s 3ms/step - loss: 79.3009 - mean_absolute_percentage_error: 79.3009 - mean_absolute_error: 0.4406 - mean_squared_error: 0.8562 - val_loss: 80.8828 - val_mean_absolute_percentage_error: 80.8790 - val_mean_absolute_error: 0.4480 - val_mean_squared_error: 0.9178\n",
            "Epoch 31/40\n",
            "4573/4573 [==============================] - 14s 3ms/step - loss: 79.1713 - mean_absolute_percentage_error: 79.1712 - mean_absolute_error: 0.4405 - mean_squared_error: 0.8568 - val_loss: 80.9259 - val_mean_absolute_percentage_error: 80.9204 - val_mean_absolute_error: 0.4352 - val_mean_squared_error: 0.9175\n",
            "Epoch 32/40\n",
            "4573/4573 [==============================] - 13s 3ms/step - loss: 79.0803 - mean_absolute_percentage_error: 79.0802 - mean_absolute_error: 0.4399 - mean_squared_error: 0.8567 - val_loss: 80.9823 - val_mean_absolute_percentage_error: 80.9768 - val_mean_absolute_error: 0.4478 - val_mean_squared_error: 0.9188\n",
            "Epoch 33/40\n",
            "4573/4573 [==============================] - 14s 3ms/step - loss: 78.8887 - mean_absolute_percentage_error: 78.8888 - mean_absolute_error: 0.4394 - mean_squared_error: 0.8568 - val_loss: 80.0057 - val_mean_absolute_percentage_error: 80.0013 - val_mean_absolute_error: 0.4437 - val_mean_squared_error: 0.9194\n",
            "Epoch 34/40\n",
            "4573/4573 [==============================] - 16s 3ms/step - loss: 78.8826 - mean_absolute_percentage_error: 78.8826 - mean_absolute_error: 0.4393 - mean_squared_error: 0.8570 - val_loss: 81.1581 - val_mean_absolute_percentage_error: 81.1540 - val_mean_absolute_error: 0.4461 - val_mean_squared_error: 0.9250\n",
            "Epoch 35/40\n",
            "4573/4573 [==============================] - 16s 3ms/step - loss: 78.6537 - mean_absolute_percentage_error: 78.6537 - mean_absolute_error: 0.4393 - mean_squared_error: 0.8578 - val_loss: 80.0362 - val_mean_absolute_percentage_error: 80.0318 - val_mean_absolute_error: 0.4434 - val_mean_squared_error: 0.9193\n",
            "Epoch 36/40\n",
            "4573/4573 [==============================] - 14s 3ms/step - loss: 78.5396 - mean_absolute_percentage_error: 78.5396 - mean_absolute_error: 0.4386 - mean_squared_error: 0.8577 - val_loss: 79.8766 - val_mean_absolute_percentage_error: 79.8714 - val_mean_absolute_error: 0.4359 - val_mean_squared_error: 0.9184\n",
            "Epoch 37/40\n",
            "4573/4573 [==============================] - 13s 3ms/step - loss: 78.4416 - mean_absolute_percentage_error: 78.4416 - mean_absolute_error: 0.4383 - mean_squared_error: 0.8583 - val_loss: 79.4595 - val_mean_absolute_percentage_error: 79.4551 - val_mean_absolute_error: 0.4411 - val_mean_squared_error: 0.9203\n",
            "Epoch 38/40\n",
            "4573/4573 [==============================] - 14s 3ms/step - loss: 78.3045 - mean_absolute_percentage_error: 78.3044 - mean_absolute_error: 0.4380 - mean_squared_error: 0.8585 - val_loss: 79.6059 - val_mean_absolute_percentage_error: 79.6014 - val_mean_absolute_error: 0.4368 - val_mean_squared_error: 0.9198\n",
            "Epoch 39/40\n",
            "4573/4573 [==============================] - 14s 3ms/step - loss: 78.0769 - mean_absolute_percentage_error: 78.0769 - mean_absolute_error: 0.4378 - mean_squared_error: 0.8587 - val_loss: 79.2426 - val_mean_absolute_percentage_error: 79.2388 - val_mean_absolute_error: 0.4390 - val_mean_squared_error: 0.9199\n",
            "Epoch 40/40\n",
            "4573/4573 [==============================] - 14s 3ms/step - loss: 77.9870 - mean_absolute_percentage_error: 77.9870 - mean_absolute_error: 0.4374 - mean_squared_error: 0.8589 - val_loss: 79.4577 - val_mean_absolute_percentage_error: 79.4537 - val_mean_absolute_error: 0.4419 - val_mean_squared_error: 0.9229\n"
          ]
        }
      ]
    },
    {
      "cell_type": "code",
      "source": [
        "calculate_error(model3, ytest)"
      ],
      "metadata": {
        "colab": {
          "base_uri": "https://localhost:8080/"
        },
        "id": "fPdBp3rbQ2NJ",
        "outputId": "4f473dc8-21b9-42ad-9342-e7c4b6533a81"
      },
      "execution_count": null,
      "outputs": [
        {
          "output_type": "stream",
          "name": "stdout",
          "text": [
            "Mean Absolute error 0.4365860454853809 \n",
            " Mean Squared error 0.849134531571921 \n",
            " Mean absolute percentage error 0.7843303547269888\n"
          ]
        },
        {
          "output_type": "execute_result",
          "data": {
            "text/plain": [
              "(0.4365860454853809, 0.849134531571921, 0.7843303547269888)"
            ]
          },
          "metadata": {},
          "execution_count": 227
        }
      ]
    },
    {
      "cell_type": "code",
      "source": [
        "plot_loss(history3)"
      ],
      "metadata": {
        "colab": {
          "base_uri": "https://localhost:8080/",
          "height": 312
        },
        "id": "BxVPOF8WQ2LD",
        "outputId": "49bcf831-2241-4f12-e64b-fc7c8e463781"
      },
      "execution_count": null,
      "outputs": [
        {
          "output_type": "stream",
          "name": "stdout",
          "text": [
            "dict_keys(['loss', 'mean_absolute_percentage_error', 'mean_absolute_error', 'mean_squared_error', 'val_loss', 'val_mean_absolute_percentage_error', 'val_mean_absolute_error', 'val_mean_squared_error'])\n"
          ]
        },
        {
          "output_type": "display_data",
          "data": {
            "text/plain": [
              "<Figure size 432x288 with 1 Axes>"
            ],
            "image/png": "[encoded data removed]"
          },
          "metadata": {
            "needs_background": "light"
          }
        }
      ]
    },
    {
      "cell_type": "code",
      "source": [
        "model4 = tf.keras.Sequential(name='model4')\n",
        "model4.add(tf.keras.layers.Dense(12, input_shape=(12,)))\n",
        "model4.add(tf.keras.layers.Dense(16, activation='relu', kernel_initializer='normal'))\n",
        "model4.add(tf.keras.layers.Dense(8, activation='relu', kernel_initializer='normal'))\n",
        "model4.add(tf.keras.layers.Dense(1, activation='linear'))\n",
        "\n",
        "model4.summary()"
      ],
      "metadata": {
        "colab": {
          "base_uri": "https://localhost:8080/"
        },
        "id": "Yd7nwuAAP39G",
        "outputId": "73ec4d09-e5ca-4299-a9df-55e8d5e0add9"
      },
      "execution_count": null,
      "outputs": [
        {
          "output_type": "stream",
          "name": "stdout",
          "text": [
            "Model: \"model4\"\n",
            "_________________________________________________________________\n",
            " Layer (type)                Output Shape              Param #   \n",
            "=================================================================\n",
            " dense_36 (Dense)            (None, 12)                156       \n",
            "                                                                 \n",
            " dense_37 (Dense)            (None, 16)                208       \n",
            "                                                                 \n",
            " dense_38 (Dense)            (None, 8)                 136       \n",
            "                                                                 \n",
            " dense_39 (Dense)            (None, 1)                 9         \n",
            "                                                                 \n",
            "=================================================================\n",
            "Total params: 509\n",
            "Trainable params: 509\n",
            "Non-trainable params: 0\n",
            "_________________________________________________________________\n"
          ]
        }
      ]
    },
    {
      "cell_type": "code",
      "source": [
        "model4.compile(loss=tf.keras.losses.MeanAbsolutePercentageError(), optimizer='adam', metrics=[tf.keras.losses.MeanAbsolutePercentageError(), tf.keras.losses.MeanAbsoluteError()])"
      ],
      "metadata": {
        "id": "z4PaR4vbP36X"
      },
      "execution_count": null,
      "outputs": []
    },
    {
      "cell_type": "code",
      "source": [
        "history4 = model4.fit(xtrain, ytrain, epochs=40, batch_size=128, validation_split=0.2)"
      ],
      "metadata": {
        "colab": {
          "base_uri": "https://localhost:8080/"
        },
        "id": "odZJ6sKKP32u",
        "outputId": "2dfde38f-ce39-4844-a1ad-f70eb5b2272a"
      },
      "execution_count": null,
      "outputs": [
        {
          "output_type": "stream",
          "name": "stdout",
          "text": [
            "Epoch 1/40\n",
            "4573/4573 [==============================] - 13s 3ms/step - loss: 85.8913 - mean_absolute_percentage_error: 85.8912 - mean_absolute_error: 0.4084 - val_loss: 79.3231 - val_mean_absolute_percentage_error: 79.3137 - val_mean_absolute_error: 0.3040\n",
            "Epoch 2/40\n",
            "4573/4573 [==============================] - 10s 2ms/step - loss: 82.4916 - mean_absolute_percentage_error: 82.4916 - mean_absolute_error: 0.3344 - val_loss: 78.8359 - val_mean_absolute_percentage_error: 78.8299 - val_mean_absolute_error: 0.3203\n",
            "Epoch 3/40\n",
            "4573/4573 [==============================] - 10s 2ms/step - loss: 81.0679 - mean_absolute_percentage_error: 81.0678 - mean_absolute_error: 0.3295 - val_loss: 77.2950 - val_mean_absolute_percentage_error: 77.2901 - val_mean_absolute_error: 0.3200\n",
            "Epoch 4/40\n",
            "4573/4573 [==============================] - 11s 2ms/step - loss: 79.3733 - mean_absolute_percentage_error: 79.3732 - mean_absolute_error: 0.3350 - val_loss: 77.1338 - val_mean_absolute_percentage_error: 77.1284 - val_mean_absolute_error: 0.3137\n",
            "Epoch 5/40\n",
            "4573/4573 [==============================] - 11s 2ms/step - loss: 78.0390 - mean_absolute_percentage_error: 78.0389 - mean_absolute_error: 0.3261 - val_loss: 75.4769 - val_mean_absolute_percentage_error: 75.4704 - val_mean_absolute_error: 0.3032\n",
            "Epoch 6/40\n",
            "4573/4573 [==============================] - 12s 3ms/step - loss: 77.0143 - mean_absolute_percentage_error: 77.0142 - mean_absolute_error: 0.3195 - val_loss: 75.4676 - val_mean_absolute_percentage_error: 75.4631 - val_mean_absolute_error: 0.3473\n",
            "Epoch 7/40\n",
            "4573/4573 [==============================] - 14s 3ms/step - loss: 76.0133 - mean_absolute_percentage_error: 76.0132 - mean_absolute_error: 0.3144 - val_loss: 75.8522 - val_mean_absolute_percentage_error: 75.8455 - val_mean_absolute_error: 0.3381\n",
            "Epoch 8/40\n",
            "4573/4573 [==============================] - 10s 2ms/step - loss: 75.6846 - mean_absolute_percentage_error: 75.6845 - mean_absolute_error: 0.3182 - val_loss: 73.5172 - val_mean_absolute_percentage_error: 73.5143 - val_mean_absolute_error: 0.3110\n",
            "Epoch 9/40\n",
            "4573/4573 [==============================] - 11s 2ms/step - loss: 75.1902 - mean_absolute_percentage_error: 75.1901 - mean_absolute_error: 0.3122 - val_loss: 74.1215 - val_mean_absolute_percentage_error: 74.1156 - val_mean_absolute_error: 0.3259\n",
            "Epoch 10/40\n",
            "4573/4573 [==============================] - 13s 3ms/step - loss: 74.8825 - mean_absolute_percentage_error: 74.8826 - mean_absolute_error: 0.3080 - val_loss: 76.9961 - val_mean_absolute_percentage_error: 76.9932 - val_mean_absolute_error: 0.3803\n",
            "Epoch 11/40\n",
            "4573/4573 [==============================] - 10s 2ms/step - loss: 74.6688 - mean_absolute_percentage_error: 74.6688 - mean_absolute_error: 0.3059 - val_loss: 75.7461 - val_mean_absolute_percentage_error: 75.7411 - val_mean_absolute_error: 0.3556\n",
            "Epoch 12/40\n",
            "4573/4573 [==============================] - 10s 2ms/step - loss: 74.4590 - mean_absolute_percentage_error: 74.4589 - mean_absolute_error: 0.3126 - val_loss: 72.7599 - val_mean_absolute_percentage_error: 72.7560 - val_mean_absolute_error: 0.2979\n",
            "Epoch 13/40\n",
            "4573/4573 [==============================] - 11s 2ms/step - loss: 74.4180 - mean_absolute_percentage_error: 74.4182 - mean_absolute_error: 0.3052 - val_loss: 73.4560 - val_mean_absolute_percentage_error: 73.4468 - val_mean_absolute_error: 0.2885\n",
            "Epoch 14/40\n",
            "4573/4573 [==============================] - 10s 2ms/step - loss: 74.1102 - mean_absolute_percentage_error: 74.1101 - mean_absolute_error: 0.3066 - val_loss: 72.6964 - val_mean_absolute_percentage_error: 72.6888 - val_mean_absolute_error: 0.2811\n",
            "Epoch 15/40\n",
            "4573/4573 [==============================] - 12s 3ms/step - loss: 74.1088 - mean_absolute_percentage_error: 74.1088 - mean_absolute_error: 0.3048 - val_loss: 72.9898 - val_mean_absolute_percentage_error: 72.9838 - val_mean_absolute_error: 0.3028\n",
            "Epoch 16/40\n",
            "4573/4573 [==============================] - 11s 2ms/step - loss: 73.9782 - mean_absolute_percentage_error: 73.9781 - mean_absolute_error: 0.3030 - val_loss: 72.5094 - val_mean_absolute_percentage_error: 72.5039 - val_mean_absolute_error: 0.2906\n",
            "Epoch 17/40\n",
            "4573/4573 [==============================] - 11s 3ms/step - loss: 73.8454 - mean_absolute_percentage_error: 73.8453 - mean_absolute_error: 0.3020 - val_loss: 72.5852 - val_mean_absolute_percentage_error: 72.5792 - val_mean_absolute_error: 0.2855\n",
            "Epoch 18/40\n",
            "4573/4573 [==============================] - 12s 3ms/step - loss: 73.8826 - mean_absolute_percentage_error: 73.8826 - mean_absolute_error: 0.2971 - val_loss: 72.6811 - val_mean_absolute_percentage_error: 72.6740 - val_mean_absolute_error: 0.2971\n",
            "Epoch 19/40\n",
            "4573/4573 [==============================] - 12s 3ms/step - loss: 73.5454 - mean_absolute_percentage_error: 73.5454 - mean_absolute_error: 0.2980 - val_loss: 73.8509 - val_mean_absolute_percentage_error: 73.8434 - val_mean_absolute_error: 0.3082\n",
            "Epoch 20/40\n",
            "4573/4573 [==============================] - 12s 3ms/step - loss: 73.4010 - mean_absolute_percentage_error: 73.4009 - mean_absolute_error: 0.2961 - val_loss: 73.1612 - val_mean_absolute_percentage_error: 73.1554 - val_mean_absolute_error: 0.2882\n",
            "Epoch 21/40\n",
            "4573/4573 [==============================] - 12s 3ms/step - loss: 73.1942 - mean_absolute_percentage_error: 73.1942 - mean_absolute_error: 0.2952 - val_loss: 72.6302 - val_mean_absolute_percentage_error: 72.6256 - val_mean_absolute_error: 0.3063\n",
            "Epoch 22/40\n",
            "4573/4573 [==============================] - 13s 3ms/step - loss: 73.2298 - mean_absolute_percentage_error: 73.2298 - mean_absolute_error: 0.2974 - val_loss: 73.3718 - val_mean_absolute_percentage_error: 73.3661 - val_mean_absolute_error: 0.2943\n",
            "Epoch 23/40\n",
            "4573/4573 [==============================] - 12s 3ms/step - loss: 72.5664 - mean_absolute_percentage_error: 72.5663 - mean_absolute_error: 0.2964 - val_loss: 72.0564 - val_mean_absolute_percentage_error: 72.0496 - val_mean_absolute_error: 0.2741\n",
            "Epoch 24/40\n",
            "4573/4573 [==============================] - 12s 3ms/step - loss: 72.5055 - mean_absolute_percentage_error: 72.5054 - mean_absolute_error: 0.2966 - val_loss: 71.8661 - val_mean_absolute_percentage_error: 71.8610 - val_mean_absolute_error: 0.2695\n",
            "Epoch 25/40\n",
            "4573/4573 [==============================] - 11s 2ms/step - loss: 72.4326 - mean_absolute_percentage_error: 72.4326 - mean_absolute_error: 0.2936 - val_loss: 72.0966 - val_mean_absolute_percentage_error: 72.0926 - val_mean_absolute_error: 0.2938\n",
            "Epoch 26/40\n",
            "4573/4573 [==============================] - 10s 2ms/step - loss: 72.0654 - mean_absolute_percentage_error: 72.0654 - mean_absolute_error: 0.2898 - val_loss: 71.8578 - val_mean_absolute_percentage_error: 71.8535 - val_mean_absolute_error: 0.2881\n",
            "Epoch 27/40\n",
            "4573/4573 [==============================] - 11s 2ms/step - loss: 71.9237 - mean_absolute_percentage_error: 71.9244 - mean_absolute_error: 0.2883 - val_loss: 72.4069 - val_mean_absolute_percentage_error: 72.4021 - val_mean_absolute_error: 0.2913\n",
            "Epoch 28/40\n",
            "4573/4573 [==============================] - 10s 2ms/step - loss: 71.6608 - mean_absolute_percentage_error: 71.6607 - mean_absolute_error: 0.2896 - val_loss: 72.2246 - val_mean_absolute_percentage_error: 72.2199 - val_mean_absolute_error: 0.3174\n",
            "Epoch 29/40\n",
            "4573/4573 [==============================] - 11s 2ms/step - loss: 71.6359 - mean_absolute_percentage_error: 71.6359 - mean_absolute_error: 0.2877 - val_loss: 72.0329 - val_mean_absolute_percentage_error: 72.0261 - val_mean_absolute_error: 0.2895\n",
            "Epoch 30/40\n",
            "4573/4573 [==============================] - 11s 2ms/step - loss: 71.8373 - mean_absolute_percentage_error: 71.8372 - mean_absolute_error: 0.2936 - val_loss: 71.6326 - val_mean_absolute_percentage_error: 71.6266 - val_mean_absolute_error: 0.2757\n",
            "Epoch 31/40\n",
            "4573/4573 [==============================] - 11s 2ms/step - loss: 71.3917 - mean_absolute_percentage_error: 71.3918 - mean_absolute_error: 0.2901 - val_loss: 72.3154 - val_mean_absolute_percentage_error: 72.3101 - val_mean_absolute_error: 0.2651\n",
            "Epoch 32/40\n",
            "4573/4573 [==============================] - 11s 2ms/step - loss: 71.4744 - mean_absolute_percentage_error: 71.4744 - mean_absolute_error: 0.2862 - val_loss: 72.1129 - val_mean_absolute_percentage_error: 72.1073 - val_mean_absolute_error: 0.2795\n",
            "Epoch 33/40\n",
            "4573/4573 [==============================] - 10s 2ms/step - loss: 71.3722 - mean_absolute_percentage_error: 71.3722 - mean_absolute_error: 0.2900 - val_loss: 72.2139 - val_mean_absolute_percentage_error: 72.2073 - val_mean_absolute_error: 0.2926\n",
            "Epoch 34/40\n",
            "4573/4573 [==============================] - 11s 3ms/step - loss: 71.3200 - mean_absolute_percentage_error: 71.3200 - mean_absolute_error: 0.2902 - val_loss: 71.5378 - val_mean_absolute_percentage_error: 71.5325 - val_mean_absolute_error: 0.2841\n",
            "Epoch 35/40\n",
            "4573/4573 [==============================] - 11s 2ms/step - loss: 71.3538 - mean_absolute_percentage_error: 71.3537 - mean_absolute_error: 0.2837 - val_loss: 71.2841 - val_mean_absolute_percentage_error: 71.2799 - val_mean_absolute_error: 0.2807\n",
            "Epoch 36/40\n",
            "4573/4573 [==============================] - 10s 2ms/step - loss: 71.1279 - mean_absolute_percentage_error: 71.1279 - mean_absolute_error: 0.2858 - val_loss: 72.1765 - val_mean_absolute_percentage_error: 72.1737 - val_mean_absolute_error: 0.2943\n",
            "Epoch 37/40\n",
            "4573/4573 [==============================] - 12s 3ms/step - loss: 71.0987 - mean_absolute_percentage_error: 71.0987 - mean_absolute_error: 0.2844 - val_loss: 71.8249 - val_mean_absolute_percentage_error: 71.8209 - val_mean_absolute_error: 0.2996\n",
            "Epoch 38/40\n",
            "4573/4573 [==============================] - 10s 2ms/step - loss: 70.9927 - mean_absolute_percentage_error: 70.9926 - mean_absolute_error: 0.2861 - val_loss: 71.2449 - val_mean_absolute_percentage_error: 71.2400 - val_mean_absolute_error: 0.2652\n",
            "Epoch 39/40\n",
            "4573/4573 [==============================] - 10s 2ms/step - loss: 71.2216 - mean_absolute_percentage_error: 71.2215 - mean_absolute_error: 0.2919 - val_loss: 71.8214 - val_mean_absolute_percentage_error: 71.8174 - val_mean_absolute_error: 0.3122\n",
            "Epoch 40/40\n",
            "4573/4573 [==============================] - 11s 3ms/step - loss: 71.0812 - mean_absolute_percentage_error: 71.0812 - mean_absolute_error: 0.2875 - val_loss: 71.0405 - val_mean_absolute_percentage_error: 71.0362 - val_mean_absolute_error: 0.2753\n"
          ]
        }
      ]
    },
    {
      "cell_type": "code",
      "source": [
        "calculate_error(model4, ytest)"
      ],
      "metadata": {
        "colab": {
          "base_uri": "https://localhost:8080/"
        },
        "id": "fEFp2uYnQPTa",
        "outputId": "72c0ee88-0c05-4f95-8b66-4033ae2ca7b0"
      },
      "execution_count": null,
      "outputs": [
        {
          "output_type": "stream",
          "name": "stdout",
          "text": [
            "Mean Absolute error 0.27282219108718375 \n",
            " Mean Squared error 0.30133283174848186 \n",
            " Mean absolute percentage error 0.7026147764006628\n"
          ]
        },
        {
          "output_type": "execute_result",
          "data": {
            "text/plain": [
              "(0.27282219108718375, 0.30133283174848186, 0.7026147764006628)"
            ]
          },
          "metadata": {},
          "execution_count": 230
        }
      ]
    },
    {
      "cell_type": "code",
      "source": [
        "plot_loss(history4)"
      ],
      "metadata": {
        "colab": {
          "base_uri": "https://localhost:8080/",
          "height": 312
        },
        "id": "Y10GZz_8QPO_",
        "outputId": "27fea71e-d61c-4d8a-bf53-b5c24d48e2e6"
      },
      "execution_count": null,
      "outputs": [
        {
          "output_type": "stream",
          "name": "stdout",
          "text": [
            "dict_keys(['loss', 'mean_absolute_percentage_error', 'mean_absolute_error', 'val_loss', 'val_mean_absolute_percentage_error', 'val_mean_absolute_error'])\n"
          ]
        },
        {
          "output_type": "display_data",
          "data": {
            "text/plain": [
              "<Figure size 432x288 with 1 Axes>"
            ],
            "image/png": "[encoded data removed]"
          },
          "metadata": {
            "needs_background": "light"
          }
        }
      ]
    },
    {
      "cell_type": "markdown",
      "source": [
        "from above 4 models it is visibel that RElu activation function is much better than sigmoid for given problem."
      ],
      "metadata": {
        "id": "5mvq5N-BYDDL"
      }
    },
    {
      "cell_type": "markdown",
      "source": [
        "#tuning hyperparameters for neural networks"
      ],
      "metadata": {
        "id": "sODX9e1AZB-9"
      }
    },
    {
      "cell_type": "code",
      "source": [
        "def make_model(n_hidden=1, n_neurons=20, learning_rate=3e-3, input_shape=(12,)):\n",
        "  model = keras.models.Sequential()\n",
        "  model.add(keras.layers.Dense(12, input_shape=(12,)))\n",
        "  for layer in range(n_hidden):\n",
        "    model.add(keras.layers.Dense(n_neurons, activation=\"relu\"))\n",
        "  model.add(keras.layers.Dense(1))\n",
        "  optimizer = keras.optimizers.Adam(lr=learning_rate)\n",
        "  model.compile(loss=['mape'], optimizer=optimizer)\n",
        "  return model\n"
      ],
      "metadata": {
        "id": "EsNV3A4_ZM7F"
      },
      "execution_count": null,
      "outputs": []
    },
    {
      "cell_type": "code",
      "source": [
        "keras_reg = keras.wrappers.scikit_learn.KerasRegressor(make_model)"
      ],
      "metadata": {
        "colab": {
          "base_uri": "https://localhost:8080/"
        },
        "id": "O19mKDTeZPLn",
        "outputId": "d834ec28-1754-4b1c-c8bc-9ff8e9b13159"
      },
      "execution_count": null,
      "outputs": [
        {
          "output_type": "stream",
          "name": "stderr",
          "text": [
            "/usr/local/lib/python3.7/dist-packages/ipykernel_launcher.py:1: DeprecationWarning: KerasRegressor is deprecated, use Sci-Keras (https://github.com/adriangb/scikeras) instead. See https://www.adriangb.com/scikeras/stable/migration.html for help migrating.\n",
            "  \"\"\"Entry point for launching an IPython kernel.\n"
          ]
        }
      ]
    },
    {
      "cell_type": "code",
      "source": [
        "param_distribs = {\n",
        "\"n_hidden\": [1, 2, 3],\n",
        "\"n_neurons\": [8,12,16,20],\n",
        "\"learning_rate\": reciprocal(1e-4, 1e-2),\n",
        "}\n",
        "rnd = RandomizedSearchCV(keras_reg, param_distribs, n_iter=5,\n",
        "cv=3)\n",
        "rnd.fit(xtrain, ytrain, epochs=10,\n",
        "validation_data=(xtest, ytest),\n",
        "callbacks=[keras.callbacks.EarlyStopping(patience=10, monitor='val_loss')])"
      ],
      "metadata": {
        "colab": {
          "base_uri": "https://localhost:8080/",
          "height": 1000
        },
        "id": "6pcGdqXOZPJR",
        "outputId": "971423a0-a8b6-4e1c-af25-df066bf92e74"
      },
      "execution_count": null,
      "outputs": [
        {
          "metadata": {
            "tags": null
          },
          "name": "stdout",
          "output_type": "stream",
          "text": [
            "Epoch 1/10\n"
          ]
        },
        {
          "metadata": {
            "tags": null
          },
          "name": "stderr",
          "output_type": "stream",
          "text": [
            "/usr/local/lib/python3.7/dist-packages/keras/optimizer_v2/adam.py:105: UserWarning: The `lr` argument is deprecated, use `learning_rate` instead.\n",
            "  super(Adam, self).__init__(name, **kwargs)\n"
          ]
        },
        {
          "metadata": {
            "tags": null
          },
          "name": "stdout",
          "output_type": "stream",
          "text": [
            "15244/15244 [==============================] - 38s 2ms/step - loss: 92.9514 - val_loss: 88.1718\n",
            "Epoch 2/10\n",
            "15244/15244 [==============================] - 43s 3ms/step - loss: 88.9569 - val_loss: 85.8251\n",
            "Epoch 3/10\n",
            "15244/15244 [==============================] - 39s 3ms/step - loss: 87.4013 - val_loss: 83.3984\n",
            "Epoch 4/10\n",
            "15244/15244 [==============================] - 36s 2ms/step - loss: 86.7986 - val_loss: 85.2653\n",
            "Epoch 5/10\n",
            "15244/15244 [==============================] - 49s 3ms/step - loss: 86.1137 - val_loss: 88.0109\n",
            "Epoch 6/10\n",
            "15244/15244 [==============================] - 60s 4ms/step - loss: 86.2950 - val_loss: 86.4367\n",
            "Epoch 7/10\n",
            "15244/15244 [==============================] - 51s 3ms/step - loss: 86.3165 - val_loss: 85.3184\n",
            "Epoch 8/10\n",
            "15244/15244 [==============================] - 42s 3ms/step - loss: 86.4495 - val_loss: 86.4788\n",
            "Epoch 9/10\n",
            "15244/15244 [==============================] - 51s 3ms/step - loss: 86.5972 - val_loss: 87.4034\n",
            "Epoch 10/10\n",
            "15244/15244 [==============================] - 56s 4ms/step - loss: 85.9077 - val_loss: 84.7052\n",
            "7622/7622 [==============================] - 14s 2ms/step - loss: 84.8493\n",
            "Epoch 1/10\n"
          ]
        },
        {
          "metadata": {
            "tags": null
          },
          "name": "stderr",
          "output_type": "stream",
          "text": [
            "/usr/local/lib/python3.7/dist-packages/keras/optimizer_v2/adam.py:105: UserWarning: The `lr` argument is deprecated, use `learning_rate` instead.\n",
            "  super(Adam, self).__init__(name, **kwargs)\n"
          ]
        },
        {
          "metadata": {
            "tags": null
          },
          "name": "stdout",
          "output_type": "stream",
          "text": [
            "15244/15244 [==============================] - 36s 2ms/step - loss: 91.2158 - val_loss: 89.2963\n",
            "Epoch 2/10\n",
            "15244/15244 [==============================] - 38s 3ms/step - loss: 88.8993 - val_loss: 90.5888\n",
            "Epoch 3/10\n",
            "15244/15244 [==============================] - 39s 3ms/step - loss: 88.5029 - val_loss: 93.0935\n",
            "Epoch 4/10\n",
            "15244/15244 [==============================] - 48s 3ms/step - loss: 88.6099 - val_loss: 86.7451\n",
            "Epoch 5/10\n",
            "15244/15244 [==============================] - 44s 3ms/step - loss: 86.5615 - val_loss: 84.0866\n",
            "Epoch 6/10\n",
            "15244/15244 [==============================] - 58s 4ms/step - loss: 86.5507 - val_loss: 84.4052\n",
            "Epoch 7/10\n",
            "15244/15244 [==============================] - 38s 2ms/step - loss: 85.7154 - val_loss: 85.6629\n",
            "Epoch 8/10\n",
            "15244/15244 [==============================] - 38s 2ms/step - loss: 86.0031 - val_loss: 83.4967\n",
            "Epoch 9/10\n",
            "15244/15244 [==============================] - 39s 3ms/step - loss: 85.7916 - val_loss: 92.4055\n",
            "Epoch 10/10\n",
            "15244/15244 [==============================] - 47s 3ms/step - loss: 86.5977 - val_loss: 85.4686\n",
            "7622/7622 [==============================] - 12s 2ms/step - loss: 85.5542\n",
            "Epoch 1/10\n"
          ]
        },
        {
          "metadata": {
            "tags": null
          },
          "name": "stderr",
          "output_type": "stream",
          "text": [
            "/usr/local/lib/python3.7/dist-packages/keras/optimizer_v2/adam.py:105: UserWarning: The `lr` argument is deprecated, use `learning_rate` instead.\n",
            "  super(Adam, self).__init__(name, **kwargs)\n"
          ]
        },
        {
          "metadata": {
            "tags": null
          },
          "name": "stdout",
          "output_type": "stream",
          "text": [
            "15244/15244 [==============================] - 53s 3ms/step - loss: 92.7315 - val_loss: 89.2960\n",
            "Epoch 2/10\n",
            "15244/15244 [==============================] - 57s 4ms/step - loss: 88.5427 - val_loss: 86.8774\n",
            "Epoch 3/10\n",
            "15244/15244 [==============================] - 57s 4ms/step - loss: 87.0939 - val_loss: 88.4954\n",
            "Epoch 4/10\n",
            "15244/15244 [==============================] - 56s 4ms/step - loss: 86.2521 - val_loss: 89.1322\n",
            "Epoch 5/10\n",
            "15244/15244 [==============================] - 45s 3ms/step - loss: 86.9242 - val_loss: 86.4047\n",
            "Epoch 6/10\n",
            "15244/15244 [==============================] - 38s 3ms/step - loss: 86.3749 - val_loss: 83.7777\n",
            "Epoch 7/10\n",
            "15244/15244 [==============================] - 37s 2ms/step - loss: 85.8605 - val_loss: 84.8943\n",
            "Epoch 8/10\n",
            "15244/15244 [==============================] - 38s 2ms/step - loss: 85.7930 - val_loss: 84.0005\n",
            "Epoch 9/10\n",
            "15244/15244 [==============================] - 40s 3ms/step - loss: 85.5721 - val_loss: 85.1328\n",
            "Epoch 10/10\n",
            "15244/15244 [==============================] - 38s 3ms/step - loss: 85.1744 - val_loss: 83.3826\n",
            "7622/7622 [==============================] - 12s 2ms/step - loss: 83.2701\n",
            "Epoch 1/10\n"
          ]
        },
        {
          "metadata": {
            "tags": null
          },
          "name": "stderr",
          "output_type": "stream",
          "text": [
            "/usr/local/lib/python3.7/dist-packages/keras/optimizer_v2/adam.py:105: UserWarning: The `lr` argument is deprecated, use `learning_rate` instead.\n",
            "  super(Adam, self).__init__(name, **kwargs)\n"
          ]
        },
        {
          "metadata": {
            "tags": null
          },
          "name": "stdout",
          "output_type": "stream",
          "text": [
            "15244/15244 [==============================] - 52s 3ms/step - loss: 104.3638 - val_loss: 89.4750\n",
            "Epoch 2/10\n",
            "15244/15244 [==============================] - 54s 4ms/step - loss: 86.0425 - val_loss: 84.9520\n",
            "Epoch 3/10\n",
            "15244/15244 [==============================] - 53s 3ms/step - loss: 83.4194 - val_loss: 83.5203\n",
            "Epoch 4/10\n",
            "15244/15244 [==============================] - 44s 3ms/step - loss: 82.2423 - val_loss: 82.6964\n",
            "Epoch 5/10\n",
            "15244/15244 [==============================] - 48s 3ms/step - loss: 81.5299 - val_loss: 82.4512\n",
            "Epoch 6/10\n",
            "15244/15244 [==============================] - 47s 3ms/step - loss: 80.7916 - val_loss: 81.4526\n",
            "Epoch 7/10\n",
            "15244/15244 [==============================] - 42s 3ms/step - loss: 80.1141 - val_loss: 80.7661\n",
            "Epoch 8/10\n",
            "15244/15244 [==============================] - 46s 3ms/step - loss: 79.4058 - val_loss: 80.0839\n",
            "Epoch 9/10\n",
            "15244/15244 [==============================] - 44s 3ms/step - loss: 78.6921 - val_loss: 78.8936\n",
            "Epoch 10/10\n",
            "15244/15244 [==============================] - 44s 3ms/step - loss: 77.7870 - val_loss: 77.7624\n",
            "7622/7622 [==============================] - 13s 2ms/step - loss: 78.8117\n",
            "Epoch 1/10\n"
          ]
        },
        {
          "metadata": {
            "tags": null
          },
          "name": "stderr",
          "output_type": "stream",
          "text": [
            "/usr/local/lib/python3.7/dist-packages/keras/optimizer_v2/adam.py:105: UserWarning: The `lr` argument is deprecated, use `learning_rate` instead.\n",
            "  super(Adam, self).__init__(name, **kwargs)\n"
          ]
        },
        {
          "metadata": {
            "tags": null
          },
          "name": "stdout",
          "output_type": "stream",
          "text": [
            "15244/15244 [==============================] - 44s 3ms/step - loss: 101.8169 - val_loss: 96.8244\n",
            "Epoch 2/10\n",
            "15244/15244 [==============================] - 40s 3ms/step - loss: 91.7995 - val_loss: 88.7355\n",
            "Epoch 3/10\n",
            "15244/15244 [==============================] - 37s 2ms/step - loss: 84.7551 - val_loss: 85.2623\n",
            "Epoch 4/10\n",
            "15244/15244 [==============================] - 37s 2ms/step - loss: 81.8440 - val_loss: 82.9812\n",
            "Epoch 5/10\n",
            "15244/15244 [==============================] - 39s 3ms/step - loss: 80.6747 - val_loss: 82.0152\n",
            "Epoch 6/10\n",
            "15244/15244 [==============================] - 37s 2ms/step - loss: 79.9477 - val_loss: 81.7042\n",
            "Epoch 7/10\n",
            "15244/15244 [==============================] - 39s 3ms/step - loss: 79.4016 - val_loss: 81.3872\n",
            "Epoch 8/10\n",
            "15244/15244 [==============================] - 39s 3ms/step - loss: 79.1522 - val_loss: 80.9878\n",
            "Epoch 9/10\n",
            "15244/15244 [==============================] - 51s 3ms/step - loss: 78.8031 - val_loss: 81.0222\n",
            "Epoch 10/10\n",
            "15244/15244 [==============================] - 43s 3ms/step - loss: 78.3140 - val_loss: 79.7513\n",
            "7622/7622 [==============================] - 12s 2ms/step - loss: 80.9173\n",
            "Epoch 1/10\n"
          ]
        },
        {
          "metadata": {
            "tags": null
          },
          "name": "stderr",
          "output_type": "stream",
          "text": [
            "/usr/local/lib/python3.7/dist-packages/keras/optimizer_v2/adam.py:105: UserWarning: The `lr` argument is deprecated, use `learning_rate` instead.\n",
            "  super(Adam, self).__init__(name, **kwargs)\n"
          ]
        },
        {
          "metadata": {
            "tags": null
          },
          "name": "stdout",
          "output_type": "stream",
          "text": [
            "15244/15244 [==============================] - 38s 2ms/step - loss: 103.9856 - val_loss: 95.0052\n",
            "Epoch 2/10\n",
            "15244/15244 [==============================] - 37s 2ms/step - loss: 90.7232 - val_loss: 88.1672\n",
            "Epoch 3/10\n",
            "15244/15244 [==============================] - 35s 2ms/step - loss: 87.7661 - val_loss: 86.9491\n",
            "Epoch 4/10\n",
            "15244/15244 [==============================] - 38s 2ms/step - loss: 86.5050 - val_loss: 85.7792\n",
            "Epoch 5/10\n",
            "15244/15244 [==============================] - 39s 3ms/step - loss: 86.0816 - val_loss: 85.3123\n",
            "Epoch 6/10\n",
            "15244/15244 [==============================] - 37s 2ms/step - loss: 85.5045 - val_loss: 84.6404\n",
            "Epoch 7/10\n",
            "15244/15244 [==============================] - 36s 2ms/step - loss: 84.6450 - val_loss: 83.9165\n",
            "Epoch 8/10\n",
            "15244/15244 [==============================] - 37s 2ms/step - loss: 83.9792 - val_loss: 82.6947\n",
            "Epoch 9/10\n",
            "15244/15244 [==============================] - 40s 3ms/step - loss: 83.1135 - val_loss: 82.0715\n",
            "Epoch 10/10\n",
            "15244/15244 [==============================] - 40s 3ms/step - loss: 82.1551 - val_loss: 81.1078\n",
            "7622/7622 [==============================] - 12s 2ms/step - loss: 77.6860\n",
            "Epoch 1/10\n"
          ]
        },
        {
          "metadata": {
            "tags": null
          },
          "name": "stderr",
          "output_type": "stream",
          "text": [
            "/usr/local/lib/python3.7/dist-packages/keras/optimizer_v2/adam.py:105: UserWarning: The `lr` argument is deprecated, use `learning_rate` instead.\n",
            "  super(Adam, self).__init__(name, **kwargs)\n"
          ]
        },
        {
          "metadata": {
            "tags": null
          },
          "name": "stdout",
          "output_type": "stream",
          "text": [
            "15244/15244 [==============================] - 42s 3ms/step - loss: 88.0406 - val_loss: 83.0250\n",
            "Epoch 2/10\n",
            "15244/15244 [==============================] - 39s 3ms/step - loss: 80.6687 - val_loss: 80.8227\n",
            "Epoch 3/10\n",
            "15244/15244 [==============================] - 42s 3ms/step - loss: 80.7941 - val_loss: 78.4904\n",
            "Epoch 4/10\n",
            "15244/15244 [==============================] - 39s 3ms/step - loss: 78.4992 - val_loss: 79.4073\n",
            "Epoch 5/10\n",
            "15244/15244 [==============================] - 39s 3ms/step - loss: 77.1694 - val_loss: 76.6369\n",
            "Epoch 6/10\n",
            "15244/15244 [==============================] - 39s 3ms/step - loss: 76.7885 - val_loss: 77.0913\n",
            "Epoch 7/10\n",
            "15244/15244 [==============================] - 41s 3ms/step - loss: 75.3007 - val_loss: 73.9630\n",
            "Epoch 8/10\n",
            "15244/15244 [==============================] - 41s 3ms/step - loss: 75.3101 - val_loss: 75.6014\n",
            "Epoch 9/10\n",
            "15244/15244 [==============================] - 42s 3ms/step - loss: 74.9658 - val_loss: 74.3551\n",
            "Epoch 10/10\n",
            "15244/15244 [==============================] - 41s 3ms/step - loss: 74.7994 - val_loss: 74.7650\n",
            "7622/7622 [==============================] - 12s 2ms/step - loss: 75.4227\n",
            "Epoch 1/10\n"
          ]
        },
        {
          "metadata": {
            "tags": null
          },
          "name": "stderr",
          "output_type": "stream",
          "text": [
            "/usr/local/lib/python3.7/dist-packages/keras/optimizer_v2/adam.py:105: UserWarning: The `lr` argument is deprecated, use `learning_rate` instead.\n",
            "  super(Adam, self).__init__(name, **kwargs)\n"
          ]
        },
        {
          "output_type": "stream",
          "name": "stdout",
          "text": [
            "15244/15244 [==============================] - 41s 3ms/step - loss: 86.1236 - val_loss: 82.4967\n",
            "Epoch 2/10\n",
            "15244/15244 [==============================] - 40s 3ms/step - loss: 80.6575 - val_loss: 80.3831\n",
            "Epoch 3/10\n",
            "15244/15244 [==============================] - 42s 3ms/step - loss: 78.3689 - val_loss: 80.1457\n",
            "Epoch 4/10\n",
            "15244/15244 [==============================] - 44s 3ms/step - loss: 77.2712 - val_loss: 76.9050\n",
            "Epoch 5/10\n",
            "15244/15244 [==============================] - 47s 3ms/step - loss: 76.6463 - val_loss: 77.1951\n",
            "Epoch 6/10\n",
            "15244/15244 [==============================] - 42s 3ms/step - loss: 76.2697 - val_loss: 76.6943\n",
            "Epoch 7/10\n",
            "15244/15244 [==============================] - 42s 3ms/step - loss: 75.9935 - val_loss: 76.3735\n",
            "Epoch 8/10\n",
            "15244/15244 [==============================] - 39s 3ms/step - loss: 74.9392 - val_loss: 74.3064\n",
            "Epoch 9/10\n",
            "15244/15244 [==============================] - 41s 3ms/step - loss: 74.4666 - val_loss: 73.7383\n",
            "Epoch 10/10\n",
            "15244/15244 [==============================] - 41s 3ms/step - loss: 73.8408 - val_loss: 74.0674\n",
            "7622/7622 [==============================] - 12s 2ms/step - loss: 74.9780\n",
            "Epoch 1/10\n"
          ]
        },
        {
          "output_type": "stream",
          "name": "stderr",
          "text": [
            "/usr/local/lib/python3.7/dist-packages/keras/optimizer_v2/adam.py:105: UserWarning: The `lr` argument is deprecated, use `learning_rate` instead.\n",
            "  super(Adam, self).__init__(name, **kwargs)\n"
          ]
        },
        {
          "output_type": "stream",
          "name": "stdout",
          "text": [
            "15244/15244 [==============================] - 42s 3ms/step - loss: 90.2162 - val_loss: 86.1272\n",
            "Epoch 2/10\n",
            "15244/15244 [==============================] - 41s 3ms/step - loss: 82.5791 - val_loss: 80.8084\n",
            "Epoch 3/10\n",
            "15244/15244 [==============================] - 41s 3ms/step - loss: 80.6616 - val_loss: 79.4800\n",
            "Epoch 4/10\n",
            "15244/15244 [==============================] - 41s 3ms/step - loss: 79.5894 - val_loss: 79.1847\n",
            "Epoch 5/10\n",
            "15244/15244 [==============================] - 42s 3ms/step - loss: 78.7097 - val_loss: 76.8953\n",
            "Epoch 6/10\n",
            "15244/15244 [==============================] - 42s 3ms/step - loss: 77.9045 - val_loss: 76.8620\n",
            "Epoch 7/10\n",
            "15244/15244 [==============================] - 41s 3ms/step - loss: 77.9425 - val_loss: 76.3994\n",
            "Epoch 8/10\n",
            "15244/15244 [==============================] - 42s 3ms/step - loss: 77.1505 - val_loss: 74.5361\n",
            "Epoch 9/10\n",
            "15244/15244 [==============================] - 41s 3ms/step - loss: 76.5045 - val_loss: 75.4632\n",
            "Epoch 10/10\n",
            "15244/15244 [==============================] - 40s 3ms/step - loss: 76.4024 - val_loss: 75.7916\n",
            "7622/7622 [==============================] - 12s 2ms/step - loss: 75.3055\n",
            "Epoch 1/10\n"
          ]
        },
        {
          "output_type": "stream",
          "name": "stderr",
          "text": [
            "/usr/local/lib/python3.7/dist-packages/keras/optimizer_v2/adam.py:105: UserWarning: The `lr` argument is deprecated, use `learning_rate` instead.\n",
            "  super(Adam, self).__init__(name, **kwargs)\n"
          ]
        },
        {
          "output_type": "stream",
          "name": "stdout",
          "text": [
            "15244/15244 [==============================] - 40s 3ms/step - loss: 98.1376 - val_loss: 87.9721\n",
            "Epoch 2/10\n",
            "15244/15244 [==============================] - 40s 3ms/step - loss: 84.8772 - val_loss: 84.1014\n",
            "Epoch 3/10\n",
            "15244/15244 [==============================] - 40s 3ms/step - loss: 81.5682 - val_loss: 82.2951\n",
            "Epoch 4/10\n",
            "15244/15244 [==============================] - 40s 3ms/step - loss: 79.8073 - val_loss: 80.2151\n",
            "Epoch 5/10\n",
            "15244/15244 [==============================] - 39s 3ms/step - loss: 78.4367 - val_loss: 77.9515\n",
            "Epoch 6/10\n",
            "15244/15244 [==============================] - 40s 3ms/step - loss: 76.1741 - val_loss: 76.0181\n",
            "Epoch 7/10\n",
            "15244/15244 [==============================] - 42s 3ms/step - loss: 74.2011 - val_loss: 74.7302\n",
            "Epoch 8/10\n",
            "15244/15244 [==============================] - 43s 3ms/step - loss: 73.4181 - val_loss: 73.5622\n",
            "Epoch 9/10\n",
            "15244/15244 [==============================] - 40s 3ms/step - loss: 72.7475 - val_loss: 72.6689\n",
            "Epoch 10/10\n",
            "15244/15244 [==============================] - 40s 3ms/step - loss: 72.2505 - val_loss: 72.7126\n",
            "7622/7622 [==============================] - 12s 2ms/step - loss: 72.6155\n",
            "Epoch 1/10\n"
          ]
        },
        {
          "output_type": "stream",
          "name": "stderr",
          "text": [
            "/usr/local/lib/python3.7/dist-packages/keras/optimizer_v2/adam.py:105: UserWarning: The `lr` argument is deprecated, use `learning_rate` instead.\n",
            "  super(Adam, self).__init__(name, **kwargs)\n"
          ]
        },
        {
          "output_type": "stream",
          "name": "stdout",
          "text": [
            "15244/15244 [==============================] - 43s 3ms/step - loss: 94.7668 - val_loss: 85.8192\n",
            "Epoch 2/10\n",
            "15244/15244 [==============================] - 43s 3ms/step - loss: 82.9686 - val_loss: 83.5004\n",
            "Epoch 3/10\n",
            "15244/15244 [==============================] - 40s 3ms/step - loss: 81.0633 - val_loss: 81.7813\n",
            "Epoch 4/10\n",
            "15244/15244 [==============================] - 42s 3ms/step - loss: 79.6038 - val_loss: 81.2688\n",
            "Epoch 5/10\n",
            "15244/15244 [==============================] - 41s 3ms/step - loss: 78.4357 - val_loss: 78.6972\n",
            "Epoch 6/10\n",
            "15244/15244 [==============================] - 41s 3ms/step - loss: 76.9340 - val_loss: 78.5509\n",
            "Epoch 7/10\n",
            "15244/15244 [==============================] - 42s 3ms/step - loss: 75.8413 - val_loss: 76.0005\n",
            "Epoch 8/10\n",
            "15244/15244 [==============================] - 40s 3ms/step - loss: 74.9367 - val_loss: 75.1511\n",
            "Epoch 9/10\n",
            "15244/15244 [==============================] - 42s 3ms/step - loss: 73.8543 - val_loss: 74.8279\n",
            "Epoch 10/10\n",
            "15244/15244 [==============================] - 40s 3ms/step - loss: 73.3430 - val_loss: 75.1349\n",
            "7622/7622 [==============================] - 12s 2ms/step - loss: 75.6249\n",
            "Epoch 1/10\n"
          ]
        },
        {
          "output_type": "stream",
          "name": "stderr",
          "text": [
            "/usr/local/lib/python3.7/dist-packages/keras/optimizer_v2/adam.py:105: UserWarning: The `lr` argument is deprecated, use `learning_rate` instead.\n",
            "  super(Adam, self).__init__(name, **kwargs)\n"
          ]
        },
        {
          "output_type": "stream",
          "name": "stdout",
          "text": [
            "15244/15244 [==============================] - 43s 3ms/step - loss: 98.3155 - val_loss: 89.3597\n",
            "Epoch 2/10\n",
            "15244/15244 [==============================] - 41s 3ms/step - loss: 87.3135 - val_loss: 83.3439\n",
            "Epoch 3/10\n",
            "15244/15244 [==============================] - 43s 3ms/step - loss: 83.1271 - val_loss: 81.1265\n",
            "Epoch 4/10\n",
            "15244/15244 [==============================] - 43s 3ms/step - loss: 80.6959 - val_loss: 79.0670\n",
            "Epoch 5/10\n",
            "15244/15244 [==============================] - 40s 3ms/step - loss: 79.1397 - val_loss: 78.9043\n",
            "Epoch 6/10\n",
            "15244/15244 [==============================] - 40s 3ms/step - loss: 78.3253 - val_loss: 78.4723\n",
            "Epoch 7/10\n",
            "15244/15244 [==============================] - 42s 3ms/step - loss: 77.4395 - val_loss: 76.8842\n",
            "Epoch 8/10\n",
            "15244/15244 [==============================] - 42s 3ms/step - loss: 76.2944 - val_loss: 75.3467\n",
            "Epoch 9/10\n",
            "15244/15244 [==============================] - 45s 3ms/step - loss: 75.4366 - val_loss: 74.1027\n",
            "Epoch 10/10\n",
            "15244/15244 [==============================] - 42s 3ms/step - loss: 74.6232 - val_loss: 74.1489\n",
            "7622/7622 [==============================] - 12s 2ms/step - loss: 72.9414\n",
            "Epoch 1/10\n"
          ]
        },
        {
          "output_type": "stream",
          "name": "stderr",
          "text": [
            "/usr/local/lib/python3.7/dist-packages/keras/optimizer_v2/adam.py:105: UserWarning: The `lr` argument is deprecated, use `learning_rate` instead.\n",
            "  super(Adam, self).__init__(name, **kwargs)\n"
          ]
        },
        {
          "output_type": "stream",
          "name": "stdout",
          "text": [
            "15244/15244 [==============================] - 40s 3ms/step - loss: 92.8359 - val_loss: 85.2738\n",
            "Epoch 2/10\n",
            "15244/15244 [==============================] - 38s 2ms/step - loss: 81.6953 - val_loss: 79.4233\n",
            "Epoch 3/10\n",
            "15244/15244 [==============================] - 39s 3ms/step - loss: 80.6757 - val_loss: 83.0933\n",
            "Epoch 4/10\n",
            "15244/15244 [==============================] - 38s 2ms/step - loss: 80.5246 - val_loss: 80.1818\n",
            "Epoch 5/10\n",
            "15244/15244 [==============================] - 40s 3ms/step - loss: 79.7613 - val_loss: 79.9862\n",
            "Epoch 6/10\n",
            "15244/15244 [==============================] - 38s 2ms/step - loss: 80.1086 - val_loss: 79.4816\n",
            "Epoch 7/10\n",
            "15244/15244 [==============================] - 40s 3ms/step - loss: 79.5884 - val_loss: 79.6100\n",
            "Epoch 8/10\n",
            "15244/15244 [==============================] - 38s 2ms/step - loss: 79.7387 - val_loss: 79.7054\n",
            "Epoch 9/10\n",
            "15244/15244 [==============================] - 40s 3ms/step - loss: 79.6450 - val_loss: 82.5326\n",
            "Epoch 10/10\n",
            "15244/15244 [==============================] - 40s 3ms/step - loss: 79.4926 - val_loss: 81.3222\n",
            "7622/7622 [==============================] - 12s 2ms/step - loss: 81.8339\n",
            "Epoch 1/10\n"
          ]
        },
        {
          "output_type": "stream",
          "name": "stderr",
          "text": [
            "/usr/local/lib/python3.7/dist-packages/keras/optimizer_v2/adam.py:105: UserWarning: The `lr` argument is deprecated, use `learning_rate` instead.\n",
            "  super(Adam, self).__init__(name, **kwargs)\n"
          ]
        },
        {
          "output_type": "stream",
          "name": "stdout",
          "text": [
            "15244/15244 [==============================] - 38s 2ms/step - loss: 94.0862 - val_loss: 85.5234\n",
            "Epoch 2/10\n",
            "15244/15244 [==============================] - 38s 2ms/step - loss: 81.9403 - val_loss: 81.6220\n",
            "Epoch 3/10\n",
            "15244/15244 [==============================] - 38s 2ms/step - loss: 81.0792 - val_loss: 83.0132\n",
            "Epoch 4/10\n",
            "15244/15244 [==============================] - 38s 3ms/step - loss: 80.2497 - val_loss: 79.1774\n",
            "Epoch 5/10\n",
            "15244/15244 [==============================] - 38s 2ms/step - loss: 79.7358 - val_loss: 85.7863\n",
            "Epoch 6/10\n",
            "15244/15244 [==============================] - 38s 3ms/step - loss: 78.7215 - val_loss: 78.3443\n",
            "Epoch 7/10\n",
            "15244/15244 [==============================] - 39s 3ms/step - loss: 78.7928 - val_loss: 78.0991\n",
            "Epoch 8/10\n",
            "15244/15244 [==============================] - 39s 3ms/step - loss: 78.8739 - val_loss: 87.2037\n",
            "Epoch 9/10\n",
            "15244/15244 [==============================] - 39s 3ms/step - loss: 78.9321 - val_loss: 85.7794\n",
            "Epoch 10/10\n",
            "15244/15244 [==============================] - 39s 3ms/step - loss: 78.8693 - val_loss: 77.6643\n",
            "7622/7622 [==============================] - 12s 2ms/step - loss: 79.4109\n",
            "Epoch 1/10\n"
          ]
        },
        {
          "output_type": "stream",
          "name": "stderr",
          "text": [
            "/usr/local/lib/python3.7/dist-packages/keras/optimizer_v2/adam.py:105: UserWarning: The `lr` argument is deprecated, use `learning_rate` instead.\n",
            "  super(Adam, self).__init__(name, **kwargs)\n"
          ]
        },
        {
          "output_type": "stream",
          "name": "stdout",
          "text": [
            "13904/15244 [==========================>...] - ETA: 2s - loss: 95.7009"
          ]
        },
        {
          "output_type": "error",
          "ename": "KeyboardInterrupt",
          "evalue": "ignored",
          "traceback": [
            "\u001b[0;31m---------------------------------------------------------------------------\u001b[0m",
            "\u001b[0;31mKeyboardInterrupt\u001b[0m                         Traceback (most recent call last)",
            "\u001b[0;32m<ipython-input-235-e0bdec17b97b>\u001b[0m in \u001b[0;36m<module>\u001b[0;34m\u001b[0m\n\u001b[1;32m      8\u001b[0m rnd.fit(xtrain, ytrain, epochs=10,\n\u001b[1;32m      9\u001b[0m \u001b[0mvalidation_data\u001b[0m\u001b[0;34m=\u001b[0m\u001b[0;34m(\u001b[0m\u001b[0mxtest\u001b[0m\u001b[0;34m,\u001b[0m \u001b[0mytest\u001b[0m\u001b[0;34m)\u001b[0m\u001b[0;34m,\u001b[0m\u001b[0;34m\u001b[0m\u001b[0;34m\u001b[0m\u001b[0m\n\u001b[0;32m---> 10\u001b[0;31m callbacks=[keras.callbacks.EarlyStopping(patience=10, monitor='val_loss')])\n\u001b[0m",
            "\u001b[0;32m/usr/local/lib/python3.7/dist-packages/sklearn/model_selection/_search.py\u001b[0m in \u001b[0;36mfit\u001b[0;34m(self, X, y, groups, **fit_params)\u001b[0m\n\u001b[1;32m    889\u001b[0m                 \u001b[0;32mreturn\u001b[0m \u001b[0mresults\u001b[0m\u001b[0;34m\u001b[0m\u001b[0;34m\u001b[0m\u001b[0m\n\u001b[1;32m    890\u001b[0m \u001b[0;34m\u001b[0m\u001b[0m\n\u001b[0;32m--> 891\u001b[0;31m             \u001b[0mself\u001b[0m\u001b[0;34m.\u001b[0m\u001b[0m_run_search\u001b[0m\u001b[0;34m(\u001b[0m\u001b[0mevaluate_candidates\u001b[0m\u001b[0;34m)\u001b[0m\u001b[0;34m\u001b[0m\u001b[0;34m\u001b[0m\u001b[0m\n\u001b[0m\u001b[1;32m    892\u001b[0m \u001b[0;34m\u001b[0m\u001b[0m\n\u001b[1;32m    893\u001b[0m             \u001b[0;31m# multimetric is determined here because in the case of a callable\u001b[0m\u001b[0;34m\u001b[0m\u001b[0;34m\u001b[0m\u001b[0;34m\u001b[0m\u001b[0m\n",
            "\u001b[0;32m/usr/local/lib/python3.7/dist-packages/sklearn/model_selection/_search.py\u001b[0m in \u001b[0;36m_run_search\u001b[0;34m(self, evaluate_candidates)\u001b[0m\n\u001b[1;32m   1766\u001b[0m         evaluate_candidates(\n\u001b[1;32m   1767\u001b[0m             ParameterSampler(\n\u001b[0;32m-> 1768\u001b[0;31m                 \u001b[0mself\u001b[0m\u001b[0;34m.\u001b[0m\u001b[0mparam_distributions\u001b[0m\u001b[0;34m,\u001b[0m \u001b[0mself\u001b[0m\u001b[0;34m.\u001b[0m\u001b[0mn_iter\u001b[0m\u001b[0;34m,\u001b[0m \u001b[0mrandom_state\u001b[0m\u001b[0;34m=\u001b[0m\u001b[0mself\u001b[0m\u001b[0;34m.\u001b[0m\u001b[0mrandom_state\u001b[0m\u001b[0;34m\u001b[0m\u001b[0;34m\u001b[0m\u001b[0m\n\u001b[0m\u001b[1;32m   1769\u001b[0m             )\n\u001b[1;32m   1770\u001b[0m         )\n",
            "\u001b[0;32m/usr/local/lib/python3.7/dist-packages/sklearn/model_selection/_search.py\u001b[0m in \u001b[0;36mevaluate_candidates\u001b[0;34m(candidate_params, cv, more_results)\u001b[0m\n\u001b[1;32m    849\u001b[0m                     )\n\u001b[1;32m    850\u001b[0m                     for (cand_idx, parameters), (split_idx, (train, test)) in product(\n\u001b[0;32m--> 851\u001b[0;31m                         \u001b[0menumerate\u001b[0m\u001b[0;34m(\u001b[0m\u001b[0mcandidate_params\u001b[0m\u001b[0;34m)\u001b[0m\u001b[0;34m,\u001b[0m \u001b[0menumerate\u001b[0m\u001b[0;34m(\u001b[0m\u001b[0mcv\u001b[0m\u001b[0;34m.\u001b[0m\u001b[0msplit\u001b[0m\u001b[0;34m(\u001b[0m\u001b[0mX\u001b[0m\u001b[0;34m,\u001b[0m \u001b[0my\u001b[0m\u001b[0;34m,\u001b[0m \u001b[0mgroups\u001b[0m\u001b[0;34m)\u001b[0m\u001b[0;34m)\u001b[0m\u001b[0;34m\u001b[0m\u001b[0;34m\u001b[0m\u001b[0m\n\u001b[0m\u001b[1;32m    852\u001b[0m                     )\n\u001b[1;32m    853\u001b[0m                 )\n",
            "\u001b[0;32m/usr/local/lib/python3.7/dist-packages/joblib/parallel.py\u001b[0m in \u001b[0;36m__call__\u001b[0;34m(self, iterable)\u001b[0m\n\u001b[1;32m   1044\u001b[0m                 \u001b[0mself\u001b[0m\u001b[0;34m.\u001b[0m\u001b[0m_iterating\u001b[0m \u001b[0;34m=\u001b[0m \u001b[0mself\u001b[0m\u001b[0;34m.\u001b[0m\u001b[0m_original_iterator\u001b[0m \u001b[0;32mis\u001b[0m \u001b[0;32mnot\u001b[0m \u001b[0;32mNone\u001b[0m\u001b[0;34m\u001b[0m\u001b[0;34m\u001b[0m\u001b[0m\n\u001b[1;32m   1045\u001b[0m \u001b[0;34m\u001b[0m\u001b[0m\n\u001b[0;32m-> 1046\u001b[0;31m             \u001b[0;32mwhile\u001b[0m \u001b[0mself\u001b[0m\u001b[0;34m.\u001b[0m\u001b[0mdispatch_one_batch\u001b[0m\u001b[0;34m(\u001b[0m\u001b[0miterator\u001b[0m\u001b[0;34m)\u001b[0m\u001b[0;34m:\u001b[0m\u001b[0;34m\u001b[0m\u001b[0;34m\u001b[0m\u001b[0m\n\u001b[0m\u001b[1;32m   1047\u001b[0m                 \u001b[0;32mpass\u001b[0m\u001b[0;34m\u001b[0m\u001b[0;34m\u001b[0m\u001b[0m\n\u001b[1;32m   1048\u001b[0m \u001b[0;34m\u001b[0m\u001b[0m\n",
            "\u001b[0;32m/usr/local/lib/python3.7/dist-packages/joblib/parallel.py\u001b[0m in \u001b[0;36mdispatch_one_batch\u001b[0;34m(self, iterator)\u001b[0m\n\u001b[1;32m    859\u001b[0m                 \u001b[0;32mreturn\u001b[0m \u001b[0;32mFalse\u001b[0m\u001b[0;34m\u001b[0m\u001b[0;34m\u001b[0m\u001b[0m\n\u001b[1;32m    860\u001b[0m             \u001b[0;32melse\u001b[0m\u001b[0;34m:\u001b[0m\u001b[0;34m\u001b[0m\u001b[0;34m\u001b[0m\u001b[0m\n\u001b[0;32m--> 861\u001b[0;31m                 \u001b[0mself\u001b[0m\u001b[0;34m.\u001b[0m\u001b[0m_dispatch\u001b[0m\u001b[0;34m(\u001b[0m\u001b[0mtasks\u001b[0m\u001b[0;34m)\u001b[0m\u001b[0;34m\u001b[0m\u001b[0;34m\u001b[0m\u001b[0m\n\u001b[0m\u001b[1;32m    862\u001b[0m                 \u001b[0;32mreturn\u001b[0m \u001b[0;32mTrue\u001b[0m\u001b[0;34m\u001b[0m\u001b[0;34m\u001b[0m\u001b[0m\n\u001b[1;32m    863\u001b[0m \u001b[0;34m\u001b[0m\u001b[0m\n",
            "\u001b[0;32m/usr/local/lib/python3.7/dist-packages/joblib/parallel.py\u001b[0m in \u001b[0;36m_dispatch\u001b[0;34m(self, batch)\u001b[0m\n\u001b[1;32m    777\u001b[0m         \u001b[0;32mwith\u001b[0m \u001b[0mself\u001b[0m\u001b[0;34m.\u001b[0m\u001b[0m_lock\u001b[0m\u001b[0;34m:\u001b[0m\u001b[0;34m\u001b[0m\u001b[0;34m\u001b[0m\u001b[0m\n\u001b[1;32m    778\u001b[0m             \u001b[0mjob_idx\u001b[0m \u001b[0;34m=\u001b[0m \u001b[0mlen\u001b[0m\u001b[0;34m(\u001b[0m\u001b[0mself\u001b[0m\u001b[0;34m.\u001b[0m\u001b[0m_jobs\u001b[0m\u001b[0;34m)\u001b[0m\u001b[0;34m\u001b[0m\u001b[0;34m\u001b[0m\u001b[0m\n\u001b[0;32m--> 779\u001b[0;31m             \u001b[0mjob\u001b[0m \u001b[0;34m=\u001b[0m \u001b[0mself\u001b[0m\u001b[0;34m.\u001b[0m\u001b[0m_backend\u001b[0m\u001b[0;34m.\u001b[0m\u001b[0mapply_async\u001b[0m\u001b[0;34m(\u001b[0m\u001b[0mbatch\u001b[0m\u001b[0;34m,\u001b[0m \u001b[0mcallback\u001b[0m\u001b[0;34m=\u001b[0m\u001b[0mcb\u001b[0m\u001b[0;34m)\u001b[0m\u001b[0;34m\u001b[0m\u001b[0;34m\u001b[0m\u001b[0m\n\u001b[0m\u001b[1;32m    780\u001b[0m             \u001b[0;31m# A job can complete so quickly than its callback is\u001b[0m\u001b[0;34m\u001b[0m\u001b[0;34m\u001b[0m\u001b[0;34m\u001b[0m\u001b[0m\n\u001b[1;32m    781\u001b[0m             \u001b[0;31m# called before we get here, causing self._jobs to\u001b[0m\u001b[0;34m\u001b[0m\u001b[0;34m\u001b[0m\u001b[0;34m\u001b[0m\u001b[0m\n",
            "\u001b[0;32m/usr/local/lib/python3.7/dist-packages/joblib/_parallel_backends.py\u001b[0m in \u001b[0;36mapply_async\u001b[0;34m(self, func, callback)\u001b[0m\n\u001b[1;32m    206\u001b[0m     \u001b[0;32mdef\u001b[0m \u001b[0mapply_async\u001b[0m\u001b[0;34m(\u001b[0m\u001b[0mself\u001b[0m\u001b[0;34m,\u001b[0m \u001b[0mfunc\u001b[0m\u001b[0;34m,\u001b[0m \u001b[0mcallback\u001b[0m\u001b[0;34m=\u001b[0m\u001b[0;32mNone\u001b[0m\u001b[0;34m)\u001b[0m\u001b[0;34m:\u001b[0m\u001b[0;34m\u001b[0m\u001b[0;34m\u001b[0m\u001b[0m\n\u001b[1;32m    207\u001b[0m         \u001b[0;34m\"\"\"Schedule a func to be run\"\"\"\u001b[0m\u001b[0;34m\u001b[0m\u001b[0;34m\u001b[0m\u001b[0m\n\u001b[0;32m--> 208\u001b[0;31m         \u001b[0mresult\u001b[0m \u001b[0;34m=\u001b[0m \u001b[0mImmediateResult\u001b[0m\u001b[0;34m(\u001b[0m\u001b[0mfunc\u001b[0m\u001b[0;34m)\u001b[0m\u001b[0;34m\u001b[0m\u001b[0;34m\u001b[0m\u001b[0m\n\u001b[0m\u001b[1;32m    209\u001b[0m         \u001b[0;32mif\u001b[0m \u001b[0mcallback\u001b[0m\u001b[0;34m:\u001b[0m\u001b[0;34m\u001b[0m\u001b[0;34m\u001b[0m\u001b[0m\n\u001b[1;32m    210\u001b[0m             \u001b[0mcallback\u001b[0m\u001b[0;34m(\u001b[0m\u001b[0mresult\u001b[0m\u001b[0;34m)\u001b[0m\u001b[0;34m\u001b[0m\u001b[0;34m\u001b[0m\u001b[0m\n",
            "\u001b[0;32m/usr/local/lib/python3.7/dist-packages/joblib/_parallel_backends.py\u001b[0m in \u001b[0;36m__init__\u001b[0;34m(self, batch)\u001b[0m\n\u001b[1;32m    570\u001b[0m         \u001b[0;31m# Don't delay the application, to avoid keeping the input\u001b[0m\u001b[0;34m\u001b[0m\u001b[0;34m\u001b[0m\u001b[0;34m\u001b[0m\u001b[0m\n\u001b[1;32m    571\u001b[0m         \u001b[0;31m# arguments in memory\u001b[0m\u001b[0;34m\u001b[0m\u001b[0;34m\u001b[0m\u001b[0;34m\u001b[0m\u001b[0m\n\u001b[0;32m--> 572\u001b[0;31m         \u001b[0mself\u001b[0m\u001b[0;34m.\u001b[0m\u001b[0mresults\u001b[0m \u001b[0;34m=\u001b[0m \u001b[0mbatch\u001b[0m\u001b[0;34m(\u001b[0m\u001b[0;34m)\u001b[0m\u001b[0;34m\u001b[0m\u001b[0;34m\u001b[0m\u001b[0m\n\u001b[0m\u001b[1;32m    573\u001b[0m \u001b[0;34m\u001b[0m\u001b[0m\n\u001b[1;32m    574\u001b[0m     \u001b[0;32mdef\u001b[0m \u001b[0mget\u001b[0m\u001b[0;34m(\u001b[0m\u001b[0mself\u001b[0m\u001b[0;34m)\u001b[0m\u001b[0;34m:\u001b[0m\u001b[0;34m\u001b[0m\u001b[0;34m\u001b[0m\u001b[0m\n",
            "\u001b[0;32m/usr/local/lib/python3.7/dist-packages/joblib/parallel.py\u001b[0m in \u001b[0;36m__call__\u001b[0;34m(self)\u001b[0m\n\u001b[1;32m    261\u001b[0m         \u001b[0;32mwith\u001b[0m \u001b[0mparallel_backend\u001b[0m\u001b[0;34m(\u001b[0m\u001b[0mself\u001b[0m\u001b[0;34m.\u001b[0m\u001b[0m_backend\u001b[0m\u001b[0;34m,\u001b[0m \u001b[0mn_jobs\u001b[0m\u001b[0;34m=\u001b[0m\u001b[0mself\u001b[0m\u001b[0;34m.\u001b[0m\u001b[0m_n_jobs\u001b[0m\u001b[0;34m)\u001b[0m\u001b[0;34m:\u001b[0m\u001b[0;34m\u001b[0m\u001b[0;34m\u001b[0m\u001b[0m\n\u001b[1;32m    262\u001b[0m             return [func(*args, **kwargs)\n\u001b[0;32m--> 263\u001b[0;31m                     for func, args, kwargs in self.items]\n\u001b[0m\u001b[1;32m    264\u001b[0m \u001b[0;34m\u001b[0m\u001b[0m\n\u001b[1;32m    265\u001b[0m     \u001b[0;32mdef\u001b[0m \u001b[0m__reduce__\u001b[0m\u001b[0;34m(\u001b[0m\u001b[0mself\u001b[0m\u001b[0;34m)\u001b[0m\u001b[0;34m:\u001b[0m\u001b[0;34m\u001b[0m\u001b[0;34m\u001b[0m\u001b[0m\n",
            "\u001b[0;32m/usr/local/lib/python3.7/dist-packages/joblib/parallel.py\u001b[0m in \u001b[0;36m<listcomp>\u001b[0;34m(.0)\u001b[0m\n\u001b[1;32m    261\u001b[0m         \u001b[0;32mwith\u001b[0m \u001b[0mparallel_backend\u001b[0m\u001b[0;34m(\u001b[0m\u001b[0mself\u001b[0m\u001b[0;34m.\u001b[0m\u001b[0m_backend\u001b[0m\u001b[0;34m,\u001b[0m \u001b[0mn_jobs\u001b[0m\u001b[0;34m=\u001b[0m\u001b[0mself\u001b[0m\u001b[0;34m.\u001b[0m\u001b[0m_n_jobs\u001b[0m\u001b[0;34m)\u001b[0m\u001b[0;34m:\u001b[0m\u001b[0;34m\u001b[0m\u001b[0;34m\u001b[0m\u001b[0m\n\u001b[1;32m    262\u001b[0m             return [func(*args, **kwargs)\n\u001b[0;32m--> 263\u001b[0;31m                     for func, args, kwargs in self.items]\n\u001b[0m\u001b[1;32m    264\u001b[0m \u001b[0;34m\u001b[0m\u001b[0m\n\u001b[1;32m    265\u001b[0m     \u001b[0;32mdef\u001b[0m \u001b[0m__reduce__\u001b[0m\u001b[0;34m(\u001b[0m\u001b[0mself\u001b[0m\u001b[0;34m)\u001b[0m\u001b[0;34m:\u001b[0m\u001b[0;34m\u001b[0m\u001b[0;34m\u001b[0m\u001b[0m\n",
            "\u001b[0;32m/usr/local/lib/python3.7/dist-packages/sklearn/utils/fixes.py\u001b[0m in \u001b[0;36m__call__\u001b[0;34m(self, *args, **kwargs)\u001b[0m\n\u001b[1;32m    214\u001b[0m     \u001b[0;32mdef\u001b[0m \u001b[0m__call__\u001b[0m\u001b[0;34m(\u001b[0m\u001b[0mself\u001b[0m\u001b[0;34m,\u001b[0m \u001b[0;34m*\u001b[0m\u001b[0margs\u001b[0m\u001b[0;34m,\u001b[0m \u001b[0;34m**\u001b[0m\u001b[0mkwargs\u001b[0m\u001b[0;34m)\u001b[0m\u001b[0;34m:\u001b[0m\u001b[0;34m\u001b[0m\u001b[0;34m\u001b[0m\u001b[0m\n\u001b[1;32m    215\u001b[0m         \u001b[0;32mwith\u001b[0m \u001b[0mconfig_context\u001b[0m\u001b[0;34m(\u001b[0m\u001b[0;34m**\u001b[0m\u001b[0mself\u001b[0m\u001b[0;34m.\u001b[0m\u001b[0mconfig\u001b[0m\u001b[0;34m)\u001b[0m\u001b[0;34m:\u001b[0m\u001b[0;34m\u001b[0m\u001b[0;34m\u001b[0m\u001b[0m\n\u001b[0;32m--> 216\u001b[0;31m             \u001b[0;32mreturn\u001b[0m \u001b[0mself\u001b[0m\u001b[0;34m.\u001b[0m\u001b[0mfunction\u001b[0m\u001b[0;34m(\u001b[0m\u001b[0;34m*\u001b[0m\u001b[0margs\u001b[0m\u001b[0;34m,\u001b[0m \u001b[0;34m**\u001b[0m\u001b[0mkwargs\u001b[0m\u001b[0;34m)\u001b[0m\u001b[0;34m\u001b[0m\u001b[0;34m\u001b[0m\u001b[0m\n\u001b[0m\u001b[1;32m    217\u001b[0m \u001b[0;34m\u001b[0m\u001b[0m\n\u001b[1;32m    218\u001b[0m \u001b[0;34m\u001b[0m\u001b[0m\n",
            "\u001b[0;32m/usr/local/lib/python3.7/dist-packages/sklearn/model_selection/_validation.py\u001b[0m in \u001b[0;36m_fit_and_score\u001b[0;34m(estimator, X, y, scorer, train, test, verbose, parameters, fit_params, return_train_score, return_parameters, return_n_test_samples, return_times, return_estimator, split_progress, candidate_progress, error_score)\u001b[0m\n\u001b[1;32m    678\u001b[0m             \u001b[0mestimator\u001b[0m\u001b[0;34m.\u001b[0m\u001b[0mfit\u001b[0m\u001b[0;34m(\u001b[0m\u001b[0mX_train\u001b[0m\u001b[0;34m,\u001b[0m \u001b[0;34m**\u001b[0m\u001b[0mfit_params\u001b[0m\u001b[0;34m)\u001b[0m\u001b[0;34m\u001b[0m\u001b[0;34m\u001b[0m\u001b[0m\n\u001b[1;32m    679\u001b[0m         \u001b[0;32melse\u001b[0m\u001b[0;34m:\u001b[0m\u001b[0;34m\u001b[0m\u001b[0;34m\u001b[0m\u001b[0m\n\u001b[0;32m--> 680\u001b[0;31m             \u001b[0mestimator\u001b[0m\u001b[0;34m.\u001b[0m\u001b[0mfit\u001b[0m\u001b[0;34m(\u001b[0m\u001b[0mX_train\u001b[0m\u001b[0;34m,\u001b[0m \u001b[0my_train\u001b[0m\u001b[0;34m,\u001b[0m \u001b[0;34m**\u001b[0m\u001b[0mfit_params\u001b[0m\u001b[0;34m)\u001b[0m\u001b[0;34m\u001b[0m\u001b[0;34m\u001b[0m\u001b[0m\n\u001b[0m\u001b[1;32m    681\u001b[0m \u001b[0;34m\u001b[0m\u001b[0m\n\u001b[1;32m    682\u001b[0m     \u001b[0;32mexcept\u001b[0m \u001b[0mException\u001b[0m\u001b[0;34m:\u001b[0m\u001b[0;34m\u001b[0m\u001b[0;34m\u001b[0m\u001b[0m\n",
            "\u001b[0;32m/usr/local/lib/python3.7/dist-packages/keras/wrappers/scikit_learn.py\u001b[0m in \u001b[0;36mfit\u001b[0;34m(self, x, y, **kwargs)\u001b[0m\n\u001b[1;32m    162\u001b[0m     \u001b[0mfit_args\u001b[0m\u001b[0;34m.\u001b[0m\u001b[0mupdate\u001b[0m\u001b[0;34m(\u001b[0m\u001b[0mkwargs\u001b[0m\u001b[0;34m)\u001b[0m\u001b[0;34m\u001b[0m\u001b[0;34m\u001b[0m\u001b[0m\n\u001b[1;32m    163\u001b[0m \u001b[0;34m\u001b[0m\u001b[0m\n\u001b[0;32m--> 164\u001b[0;31m     \u001b[0mhistory\u001b[0m \u001b[0;34m=\u001b[0m \u001b[0mself\u001b[0m\u001b[0;34m.\u001b[0m\u001b[0mmodel\u001b[0m\u001b[0;34m.\u001b[0m\u001b[0mfit\u001b[0m\u001b[0;34m(\u001b[0m\u001b[0mx\u001b[0m\u001b[0;34m,\u001b[0m \u001b[0my\u001b[0m\u001b[0;34m,\u001b[0m \u001b[0;34m**\u001b[0m\u001b[0mfit_args\u001b[0m\u001b[0;34m)\u001b[0m\u001b[0;34m\u001b[0m\u001b[0;34m\u001b[0m\u001b[0m\n\u001b[0m\u001b[1;32m    165\u001b[0m \u001b[0;34m\u001b[0m\u001b[0m\n\u001b[1;32m    166\u001b[0m     \u001b[0;32mreturn\u001b[0m \u001b[0mhistory\u001b[0m\u001b[0;34m\u001b[0m\u001b[0;34m\u001b[0m\u001b[0m\n",
            "\u001b[0;32m/usr/local/lib/python3.7/dist-packages/keras/utils/traceback_utils.py\u001b[0m in \u001b[0;36merror_handler\u001b[0;34m(*args, **kwargs)\u001b[0m\n\u001b[1;32m     62\u001b[0m     \u001b[0mfiltered_tb\u001b[0m \u001b[0;34m=\u001b[0m \u001b[0;32mNone\u001b[0m\u001b[0;34m\u001b[0m\u001b[0;34m\u001b[0m\u001b[0m\n\u001b[1;32m     63\u001b[0m     \u001b[0;32mtry\u001b[0m\u001b[0;34m:\u001b[0m\u001b[0;34m\u001b[0m\u001b[0;34m\u001b[0m\u001b[0m\n\u001b[0;32m---> 64\u001b[0;31m       \u001b[0;32mreturn\u001b[0m \u001b[0mfn\u001b[0m\u001b[0;34m(\u001b[0m\u001b[0;34m*\u001b[0m\u001b[0margs\u001b[0m\u001b[0;34m,\u001b[0m \u001b[0;34m**\u001b[0m\u001b[0mkwargs\u001b[0m\u001b[0;34m)\u001b[0m\u001b[0;34m\u001b[0m\u001b[0;34m\u001b[0m\u001b[0m\n\u001b[0m\u001b[1;32m     65\u001b[0m     \u001b[0;32mexcept\u001b[0m \u001b[0mException\u001b[0m \u001b[0;32mas\u001b[0m \u001b[0me\u001b[0m\u001b[0;34m:\u001b[0m  \u001b[0;31m# pylint: disable=broad-except\u001b[0m\u001b[0;34m\u001b[0m\u001b[0;34m\u001b[0m\u001b[0m\n\u001b[1;32m     66\u001b[0m       \u001b[0mfiltered_tb\u001b[0m \u001b[0;34m=\u001b[0m \u001b[0m_process_traceback_frames\u001b[0m\u001b[0;34m(\u001b[0m\u001b[0me\u001b[0m\u001b[0;34m.\u001b[0m\u001b[0m__traceback__\u001b[0m\u001b[0;34m)\u001b[0m\u001b[0;34m\u001b[0m\u001b[0;34m\u001b[0m\u001b[0m\n",
            "\u001b[0;32m/usr/local/lib/python3.7/dist-packages/keras/engine/training.py\u001b[0m in \u001b[0;36mfit\u001b[0;34m(self, x, y, batch_size, epochs, verbose, callbacks, validation_split, validation_data, shuffle, class_weight, sample_weight, initial_epoch, steps_per_epoch, validation_steps, validation_batch_size, validation_freq, max_queue_size, workers, use_multiprocessing)\u001b[0m\n\u001b[1;32m   1382\u001b[0m                 _r=1):\n\u001b[1;32m   1383\u001b[0m               \u001b[0mcallbacks\u001b[0m\u001b[0;34m.\u001b[0m\u001b[0mon_train_batch_begin\u001b[0m\u001b[0;34m(\u001b[0m\u001b[0mstep\u001b[0m\u001b[0;34m)\u001b[0m\u001b[0;34m\u001b[0m\u001b[0;34m\u001b[0m\u001b[0m\n\u001b[0;32m-> 1384\u001b[0;31m               \u001b[0mtmp_logs\u001b[0m \u001b[0;34m=\u001b[0m \u001b[0mself\u001b[0m\u001b[0;34m.\u001b[0m\u001b[0mtrain_function\u001b[0m\u001b[0;34m(\u001b[0m\u001b[0miterator\u001b[0m\u001b[0;34m)\u001b[0m\u001b[0;34m\u001b[0m\u001b[0;34m\u001b[0m\u001b[0m\n\u001b[0m\u001b[1;32m   1385\u001b[0m               \u001b[0;32mif\u001b[0m \u001b[0mdata_handler\u001b[0m\u001b[0;34m.\u001b[0m\u001b[0mshould_sync\u001b[0m\u001b[0;34m:\u001b[0m\u001b[0;34m\u001b[0m\u001b[0;34m\u001b[0m\u001b[0m\n\u001b[1;32m   1386\u001b[0m                 \u001b[0mcontext\u001b[0m\u001b[0;34m.\u001b[0m\u001b[0masync_wait\u001b[0m\u001b[0;34m(\u001b[0m\u001b[0;34m)\u001b[0m\u001b[0;34m\u001b[0m\u001b[0;34m\u001b[0m\u001b[0m\n",
            "\u001b[0;32m/usr/local/lib/python3.7/dist-packages/tensorflow/python/util/traceback_utils.py\u001b[0m in \u001b[0;36merror_handler\u001b[0;34m(*args, **kwargs)\u001b[0m\n\u001b[1;32m    148\u001b[0m     \u001b[0mfiltered_tb\u001b[0m \u001b[0;34m=\u001b[0m \u001b[0;32mNone\u001b[0m\u001b[0;34m\u001b[0m\u001b[0;34m\u001b[0m\u001b[0m\n\u001b[1;32m    149\u001b[0m     \u001b[0;32mtry\u001b[0m\u001b[0;34m:\u001b[0m\u001b[0;34m\u001b[0m\u001b[0;34m\u001b[0m\u001b[0m\n\u001b[0;32m--> 150\u001b[0;31m       \u001b[0;32mreturn\u001b[0m \u001b[0mfn\u001b[0m\u001b[0;34m(\u001b[0m\u001b[0;34m*\u001b[0m\u001b[0margs\u001b[0m\u001b[0;34m,\u001b[0m \u001b[0;34m**\u001b[0m\u001b[0mkwargs\u001b[0m\u001b[0;34m)\u001b[0m\u001b[0;34m\u001b[0m\u001b[0;34m\u001b[0m\u001b[0m\n\u001b[0m\u001b[1;32m    151\u001b[0m     \u001b[0;32mexcept\u001b[0m \u001b[0mException\u001b[0m \u001b[0;32mas\u001b[0m \u001b[0me\u001b[0m\u001b[0;34m:\u001b[0m\u001b[0;34m\u001b[0m\u001b[0;34m\u001b[0m\u001b[0m\n\u001b[1;32m    152\u001b[0m       \u001b[0mfiltered_tb\u001b[0m \u001b[0;34m=\u001b[0m \u001b[0m_process_traceback_frames\u001b[0m\u001b[0;34m(\u001b[0m\u001b[0me\u001b[0m\u001b[0;34m.\u001b[0m\u001b[0m__traceback__\u001b[0m\u001b[0;34m)\u001b[0m\u001b[0;34m\u001b[0m\u001b[0;34m\u001b[0m\u001b[0m\n",
            "\u001b[0;32m/usr/local/lib/python3.7/dist-packages/tensorflow/python/eager/def_function.py\u001b[0m in \u001b[0;36m__call__\u001b[0;34m(self, *args, **kwds)\u001b[0m\n\u001b[1;32m    913\u001b[0m \u001b[0;34m\u001b[0m\u001b[0m\n\u001b[1;32m    914\u001b[0m       \u001b[0;32mwith\u001b[0m \u001b[0mOptionalXlaContext\u001b[0m\u001b[0;34m(\u001b[0m\u001b[0mself\u001b[0m\u001b[0;34m.\u001b[0m\u001b[0m_jit_compile\u001b[0m\u001b[0;34m)\u001b[0m\u001b[0;34m:\u001b[0m\u001b[0;34m\u001b[0m\u001b[0;34m\u001b[0m\u001b[0m\n\u001b[0;32m--> 915\u001b[0;31m         \u001b[0mresult\u001b[0m \u001b[0;34m=\u001b[0m \u001b[0mself\u001b[0m\u001b[0;34m.\u001b[0m\u001b[0m_call\u001b[0m\u001b[0;34m(\u001b[0m\u001b[0;34m*\u001b[0m\u001b[0margs\u001b[0m\u001b[0;34m,\u001b[0m \u001b[0;34m**\u001b[0m\u001b[0mkwds\u001b[0m\u001b[0;34m)\u001b[0m\u001b[0;34m\u001b[0m\u001b[0;34m\u001b[0m\u001b[0m\n\u001b[0m\u001b[1;32m    916\u001b[0m \u001b[0;34m\u001b[0m\u001b[0m\n\u001b[1;32m    917\u001b[0m       \u001b[0mnew_tracing_count\u001b[0m \u001b[0;34m=\u001b[0m \u001b[0mself\u001b[0m\u001b[0;34m.\u001b[0m\u001b[0mexperimental_get_tracing_count\u001b[0m\u001b[0;34m(\u001b[0m\u001b[0;34m)\u001b[0m\u001b[0;34m\u001b[0m\u001b[0;34m\u001b[0m\u001b[0m\n",
            "\u001b[0;32m/usr/local/lib/python3.7/dist-packages/tensorflow/python/eager/def_function.py\u001b[0m in \u001b[0;36m_call\u001b[0;34m(self, *args, **kwds)\u001b[0m\n\u001b[1;32m    945\u001b[0m       \u001b[0;31m# In this case we have created variables on the first call, so we run the\u001b[0m\u001b[0;34m\u001b[0m\u001b[0;34m\u001b[0m\u001b[0;34m\u001b[0m\u001b[0m\n\u001b[1;32m    946\u001b[0m       \u001b[0;31m# defunned version which is guaranteed to never create variables.\u001b[0m\u001b[0;34m\u001b[0m\u001b[0;34m\u001b[0m\u001b[0;34m\u001b[0m\u001b[0m\n\u001b[0;32m--> 947\u001b[0;31m       \u001b[0;32mreturn\u001b[0m \u001b[0mself\u001b[0m\u001b[0;34m.\u001b[0m\u001b[0m_stateless_fn\u001b[0m\u001b[0;34m(\u001b[0m\u001b[0;34m*\u001b[0m\u001b[0margs\u001b[0m\u001b[0;34m,\u001b[0m \u001b[0;34m**\u001b[0m\u001b[0mkwds\u001b[0m\u001b[0;34m)\u001b[0m  \u001b[0;31m# pylint: disable=not-callable\u001b[0m\u001b[0;34m\u001b[0m\u001b[0;34m\u001b[0m\u001b[0m\n\u001b[0m\u001b[1;32m    948\u001b[0m     \u001b[0;32melif\u001b[0m \u001b[0mself\u001b[0m\u001b[0;34m.\u001b[0m\u001b[0m_stateful_fn\u001b[0m \u001b[0;32mis\u001b[0m \u001b[0;32mnot\u001b[0m \u001b[0;32mNone\u001b[0m\u001b[0;34m:\u001b[0m\u001b[0;34m\u001b[0m\u001b[0;34m\u001b[0m\u001b[0m\n\u001b[1;32m    949\u001b[0m       \u001b[0;31m# Release the lock early so that multiple threads can perform the call\u001b[0m\u001b[0;34m\u001b[0m\u001b[0;34m\u001b[0m\u001b[0;34m\u001b[0m\u001b[0m\n",
            "\u001b[0;32m/usr/local/lib/python3.7/dist-packages/tensorflow/python/eager/function.py\u001b[0m in \u001b[0;36m__call__\u001b[0;34m(self, *args, **kwargs)\u001b[0m\n\u001b[1;32m   2955\u001b[0m        filtered_flat_args) = self._maybe_define_function(args, kwargs)\n\u001b[1;32m   2956\u001b[0m     return graph_function._call_flat(\n\u001b[0;32m-> 2957\u001b[0;31m         filtered_flat_args, captured_inputs=graph_function.captured_inputs)  # pylint: disable=protected-access\n\u001b[0m\u001b[1;32m   2958\u001b[0m \u001b[0;34m\u001b[0m\u001b[0m\n\u001b[1;32m   2959\u001b[0m   \u001b[0;34m@\u001b[0m\u001b[0mproperty\u001b[0m\u001b[0;34m\u001b[0m\u001b[0;34m\u001b[0m\u001b[0m\n",
            "\u001b[0;32m/usr/local/lib/python3.7/dist-packages/tensorflow/python/eager/function.py\u001b[0m in \u001b[0;36m_call_flat\u001b[0;34m(self, args, captured_inputs, cancellation_manager)\u001b[0m\n\u001b[1;32m   1852\u001b[0m       \u001b[0;31m# No tape is watching; skip to running the function.\u001b[0m\u001b[0;34m\u001b[0m\u001b[0;34m\u001b[0m\u001b[0;34m\u001b[0m\u001b[0m\n\u001b[1;32m   1853\u001b[0m       return self._build_call_outputs(self._inference_function.call(\n\u001b[0;32m-> 1854\u001b[0;31m           ctx, args, cancellation_manager=cancellation_manager))\n\u001b[0m\u001b[1;32m   1855\u001b[0m     forward_backward = self._select_forward_and_backward_functions(\n\u001b[1;32m   1856\u001b[0m         \u001b[0margs\u001b[0m\u001b[0;34m,\u001b[0m\u001b[0;34m\u001b[0m\u001b[0;34m\u001b[0m\u001b[0m\n",
            "\u001b[0;32m/usr/local/lib/python3.7/dist-packages/tensorflow/python/eager/function.py\u001b[0m in \u001b[0;36mcall\u001b[0;34m(self, ctx, args, cancellation_manager)\u001b[0m\n\u001b[1;32m    502\u001b[0m               \u001b[0minputs\u001b[0m\u001b[0;34m=\u001b[0m\u001b[0margs\u001b[0m\u001b[0;34m,\u001b[0m\u001b[0;34m\u001b[0m\u001b[0;34m\u001b[0m\u001b[0m\n\u001b[1;32m    503\u001b[0m               \u001b[0mattrs\u001b[0m\u001b[0;34m=\u001b[0m\u001b[0mattrs\u001b[0m\u001b[0;34m,\u001b[0m\u001b[0;34m\u001b[0m\u001b[0;34m\u001b[0m\u001b[0m\n\u001b[0;32m--> 504\u001b[0;31m               ctx=ctx)\n\u001b[0m\u001b[1;32m    505\u001b[0m         \u001b[0;32melse\u001b[0m\u001b[0;34m:\u001b[0m\u001b[0;34m\u001b[0m\u001b[0;34m\u001b[0m\u001b[0m\n\u001b[1;32m    506\u001b[0m           outputs = execute.execute_with_cancellation(\n",
            "\u001b[0;32m/usr/local/lib/python3.7/dist-packages/tensorflow/python/eager/execute.py\u001b[0m in \u001b[0;36mquick_execute\u001b[0;34m(op_name, num_outputs, inputs, attrs, ctx, name)\u001b[0m\n\u001b[1;32m     53\u001b[0m     \u001b[0mctx\u001b[0m\u001b[0;34m.\u001b[0m\u001b[0mensure_initialized\u001b[0m\u001b[0;34m(\u001b[0m\u001b[0;34m)\u001b[0m\u001b[0;34m\u001b[0m\u001b[0;34m\u001b[0m\u001b[0m\n\u001b[1;32m     54\u001b[0m     tensors = pywrap_tfe.TFE_Py_Execute(ctx._handle, device_name, op_name,\n\u001b[0;32m---> 55\u001b[0;31m                                         inputs, attrs, num_outputs)\n\u001b[0m\u001b[1;32m     56\u001b[0m   \u001b[0;32mexcept\u001b[0m \u001b[0mcore\u001b[0m\u001b[0;34m.\u001b[0m\u001b[0m_NotOkStatusException\u001b[0m \u001b[0;32mas\u001b[0m \u001b[0me\u001b[0m\u001b[0;34m:\u001b[0m\u001b[0;34m\u001b[0m\u001b[0;34m\u001b[0m\u001b[0m\n\u001b[1;32m     57\u001b[0m     \u001b[0;32mif\u001b[0m \u001b[0mname\u001b[0m \u001b[0;32mis\u001b[0m \u001b[0;32mnot\u001b[0m \u001b[0;32mNone\u001b[0m\u001b[0;34m:\u001b[0m\u001b[0;34m\u001b[0m\u001b[0;34m\u001b[0m\u001b[0m\n",
            "\u001b[0;31mKeyboardInterrupt\u001b[0m: "
          ]
        }
      ]
    },
    {
      "cell_type": "code",
      "source": [
        "rnd.best_params_"
      ],
      "metadata": {
        "id": "R28wSO9OZPGM"
      },
      "execution_count": null,
      "outputs": []
    },
    {
      "cell_type": "code",
      "source": [
        "model = rnd.best_estimator_.model"
      ],
      "metadata": {
        "id": "eqnRcWMBZPDa"
      },
      "execution_count": null,
      "outputs": []
    },
    {
      "cell_type": "code",
      "source": [
        "model.summary()"
      ],
      "metadata": {
        "id": "uvUgkH77ZPAt"
      },
      "execution_count": null,
      "outputs": []
    },
    {
      "cell_type": "code",
      "source": [
        "calculate_error(model, ytest)"
      ],
      "metadata": {
        "id": "e6M3MmnyZqRP"
      },
      "execution_count": null,
      "outputs": []
    },
    {
      "cell_type": "markdown",
      "source": [
        "#early stopping\n"
      ],
      "metadata": {
        "id": "s-oeSv2mYUpa"
      }
    },
    {
      "cell_type": "code",
      "source": [
        "from tensorflow.keras.callbacks import EarlyStopping\n",
        "early = EarlyStopping(monitor='val_loss', patience=10, min_delta=0.001, mode='max')\n",
        "#mointor->it continuously monitors validation loss and stops when reqired\n",
        "#patience->stops training when there is no improvement seen\n",
        "#min_delta->minimum change required to call it improvement"
      ],
      "metadata": {
        "id": "4_IRBylzQPLb"
      },
      "execution_count": null,
      "outputs": []
    },
    {
      "cell_type": "code",
      "source": [
        "history5 = model.fit(xtrain, ytrain, epochs=50, batch_size=128, validation_split=0.25, callbacks=[early])"
      ],
      "metadata": {
        "id": "pyNJ8kALQPH7"
      },
      "execution_count": null,
      "outputs": []
    },
    {
      "cell_type": "code",
      "source": [
        "calculate_error(model, ytest)"
      ],
      "metadata": {
        "id": "cx2HPh8QawNG"
      },
      "execution_count": null,
      "outputs": []
    },
    {
      "cell_type": "code",
      "source": [
        "plot_loss(history5)"
      ],
      "metadata": {
        "id": "4Nkcfx7WawKQ"
      },
      "execution_count": null,
      "outputs": []
    },
    {
      "cell_type": "markdown",
      "source": [
        "#using dropout"
      ],
      "metadata": {
        "id": "kRSM4ZYxa0ip"
      }
    },
    {
      "cell_type": "code",
      "source": [
        "model6 = tf.keras.Sequential(name='Q1_model6')\n",
        "model6.add(keras.layers.Dense(12, input_shape=(12,)))\n",
        "model6.add(keras.layers.Dense(16, activation='relu', kernel_initializer='normal'))\n",
        "model6.add(keras.layers.Dropout(0.5))\n",
        "model6.add(keras.layers.Dense(8, activation='relu', kernel_initializer='normal'))\n",
        "model6.add(keras.layers.Dropout(0.2))\n",
        "model6.add(keras.layers.Dense(1, activation='linear'))\n",
        "\n",
        "model6.compile(loss=['mape'], optimizer=keras.optimizers.Adam(lr=0.001))\n",
        "history6 = model6.fit(xtrain, ytrain, validation_split=0.25, epochs=50, batch_size=128)"
      ],
      "metadata": {
        "id": "Ou5y60PWa3tC",
        "colab": {
          "base_uri": "https://localhost:8080/"
        },
        "outputId": "297ffd73-5006-45f5-e3c6-ddb90b3512ac"
      },
      "execution_count": null,
      "outputs": [
        {
          "output_type": "stream",
          "name": "stdout",
          "text": [
            "Epoch 1/50\n",
            "4288/4288 [==============================] - 11s 2ms/step - loss: 91.5282 - val_loss: 86.2697\n",
            "Epoch 2/50\n",
            "4288/4288 [==============================] - 19s 4ms/step - loss: 89.4255 - val_loss: 84.5989\n",
            "Epoch 3/50\n",
            "4288/4288 [==============================] - 13s 3ms/step - loss: 89.3306 - val_loss: 83.2348\n",
            "Epoch 4/50\n",
            "4288/4288 [==============================] - 14s 3ms/step - loss: 87.3921 - val_loss: 84.9303\n",
            "Epoch 5/50\n",
            "4288/4288 [==============================] - 11s 3ms/step - loss: 87.5682 - val_loss: 84.8415\n",
            "Epoch 6/50\n",
            "4288/4288 [==============================] - 12s 3ms/step - loss: 87.4874 - val_loss: 83.7514\n",
            "Epoch 7/50\n",
            "4288/4288 [==============================] - 11s 3ms/step - loss: 88.2767 - val_loss: 82.8442\n",
            "Epoch 8/50\n",
            "4288/4288 [==============================] - 12s 3ms/step - loss: 87.2075 - val_loss: 83.0003\n",
            "Epoch 9/50\n",
            "4288/4288 [==============================] - 12s 3ms/step - loss: 89.0610 - val_loss: 83.5153\n",
            "Epoch 10/50\n",
            "4288/4288 [==============================] - 11s 2ms/step - loss: 86.4350 - val_loss: 84.8210\n",
            "Epoch 11/50\n",
            "4288/4288 [==============================] - 11s 3ms/step - loss: 88.3478 - val_loss: 83.9101\n",
            "Epoch 12/50\n",
            "4288/4288 [==============================] - 11s 3ms/step - loss: 87.1895 - val_loss: 85.7491\n",
            "Epoch 13/50\n",
            "4288/4288 [==============================] - 12s 3ms/step - loss: 88.0928 - val_loss: 84.6834\n",
            "Epoch 14/50\n",
            "4288/4288 [==============================] - 11s 3ms/step - loss: 86.6165 - val_loss: 84.7581\n",
            "Epoch 15/50\n",
            "4288/4288 [==============================] - 11s 3ms/step - loss: 86.6326 - val_loss: 85.4146\n",
            "Epoch 16/50\n",
            "4288/4288 [==============================] - 11s 3ms/step - loss: 87.0849 - val_loss: 86.9943\n",
            "Epoch 17/50\n",
            "4288/4288 [==============================] - 10s 2ms/step - loss: 87.9741 - val_loss: 85.8282\n",
            "Epoch 18/50\n",
            "4288/4288 [==============================] - 11s 3ms/step - loss: 86.9299 - val_loss: 84.6871\n",
            "Epoch 19/50\n",
            "4288/4288 [==============================] - 11s 3ms/step - loss: 87.7899 - val_loss: 84.5343\n",
            "Epoch 20/50\n",
            "4288/4288 [==============================] - 10s 2ms/step - loss: 87.7833 - val_loss: 84.3799\n",
            "Epoch 21/50\n",
            "4288/4288 [==============================] - 11s 2ms/step - loss: 86.6952 - val_loss: 84.3109\n",
            "Epoch 22/50\n",
            "4288/4288 [==============================] - 15s 4ms/step - loss: 86.4834 - val_loss: 83.8917\n",
            "Epoch 23/50\n",
            "4288/4288 [==============================] - 11s 2ms/step - loss: 87.2990 - val_loss: 84.0163\n",
            "Epoch 24/50\n",
            "4288/4288 [==============================] - 11s 2ms/step - loss: 86.5930 - val_loss: 84.1861\n",
            "Epoch 25/50\n",
            "4288/4288 [==============================] - 10s 2ms/step - loss: 86.8838 - val_loss: 84.5313\n",
            "Epoch 26/50\n",
            "4288/4288 [==============================] - 11s 3ms/step - loss: 86.8320 - val_loss: 85.5422\n",
            "Epoch 27/50\n",
            "4288/4288 [==============================] - 11s 3ms/step - loss: 87.7343 - val_loss: 85.7298\n",
            "Epoch 28/50\n",
            "4288/4288 [==============================] - 12s 3ms/step - loss: 87.3546 - val_loss: 87.3036\n",
            "Epoch 29/50\n",
            "4288/4288 [==============================] - 12s 3ms/step - loss: 86.1090 - val_loss: 87.2955\n",
            "Epoch 30/50\n",
            "4288/4288 [==============================] - 16s 4ms/step - loss: 87.1729 - val_loss: 87.3276\n",
            "Epoch 31/50\n",
            "4288/4288 [==============================] - 14s 3ms/step - loss: 86.4555 - val_loss: 84.3181\n",
            "Epoch 32/50\n",
            "4288/4288 [==============================] - 12s 3ms/step - loss: 87.3692 - val_loss: 85.0438\n",
            "Epoch 33/50\n",
            "4288/4288 [==============================] - 13s 3ms/step - loss: 87.1123 - val_loss: 85.2977\n",
            "Epoch 34/50\n",
            "4288/4288 [==============================] - 12s 3ms/step - loss: 86.4557 - val_loss: 86.0308\n",
            "Epoch 35/50\n",
            "4288/4288 [==============================] - 12s 3ms/step - loss: 86.7225 - val_loss: 85.5460\n",
            "Epoch 36/50\n",
            "4288/4288 [==============================] - 12s 3ms/step - loss: 86.6931 - val_loss: 84.6098\n",
            "Epoch 37/50\n",
            "4288/4288 [==============================] - 11s 3ms/step - loss: 86.4340 - val_loss: 85.8536\n",
            "Epoch 38/50\n",
            "4288/4288 [==============================] - 12s 3ms/step - loss: 86.1489 - val_loss: 85.7047\n",
            "Epoch 39/50\n",
            "4288/4288 [==============================] - 12s 3ms/step - loss: 86.6271 - val_loss: 84.2219\n",
            "Epoch 40/50\n",
            "4288/4288 [==============================] - 11s 3ms/step - loss: 87.3789 - val_loss: 85.6089\n",
            "Epoch 41/50\n",
            "4288/4288 [==============================] - 11s 3ms/step - loss: 85.9625 - val_loss: 88.7415\n",
            "Epoch 42/50\n",
            "4288/4288 [==============================] - 12s 3ms/step - loss: 86.5079 - val_loss: 85.8208\n",
            "Epoch 43/50\n",
            "4288/4288 [==============================] - 11s 2ms/step - loss: 86.3496 - val_loss: 86.5210\n",
            "Epoch 44/50\n",
            "4288/4288 [==============================] - 12s 3ms/step - loss: 86.3279 - val_loss: 84.9679\n",
            "Epoch 45/50\n",
            "4288/4288 [==============================] - 12s 3ms/step - loss: 86.6180 - val_loss: 86.8311\n",
            "Epoch 46/50\n",
            "4288/4288 [==============================] - 11s 3ms/step - loss: 87.5717 - val_loss: 86.8505\n",
            "Epoch 47/50\n",
            "4288/4288 [==============================] - 11s 2ms/step - loss: 86.3382 - val_loss: 86.2639\n",
            "Epoch 48/50\n",
            "4288/4288 [==============================] - 11s 2ms/step - loss: 87.6861 - val_loss: 85.4370\n",
            "Epoch 49/50\n",
            "4288/4288 [==============================] - 11s 3ms/step - loss: 86.2105 - val_loss: 85.8416\n",
            "Epoch 50/50\n",
            "4288/4288 [==============================] - 11s 3ms/step - loss: 87.7023 - val_loss: 85.1741\n"
          ]
        }
      ]
    },
    {
      "cell_type": "code",
      "source": [
        "calculate_error(model6, ytest)"
      ],
      "metadata": {
        "id": "Seeo32gIa6qf",
        "colab": {
          "base_uri": "https://localhost:8080/"
        },
        "outputId": "d01eec29-868f-4e4c-bf66-7a4da41a5542"
      },
      "execution_count": null,
      "outputs": [
        {
          "output_type": "stream",
          "name": "stdout",
          "text": [
            "Mean Absolute error 0.44336265450905726 \n",
            " Mean Squared error 0.5415367910215334 \n",
            " Mean absolute percentage error 0.872625766512887\n"
          ]
        },
        {
          "output_type": "execute_result",
          "data": {
            "text/plain": [
              "(0.44336265450905726, 0.5415367910215334, 0.872625766512887)"
            ]
          },
          "metadata": {},
          "execution_count": 244
        }
      ]
    },
    {
      "cell_type": "code",
      "source": [
        "plot_loss(history6)"
      ],
      "metadata": {
        "id": "K2EwKqFva6mV",
        "colab": {
          "base_uri": "https://localhost:8080/",
          "height": 313
        },
        "outputId": "607a43ce-9c60-483a-e8d3-066d6f7a77aa"
      },
      "execution_count": null,
      "outputs": [
        {
          "output_type": "stream",
          "name": "stdout",
          "text": [
            "dict_keys(['loss', 'val_loss'])\n"
          ]
        },
        {
          "output_type": "display_data",
          "data": {
            "text/plain": [
              "<Figure size 432x288 with 1 Axes>"
            ],
            "image/png": "[encoded data removed]"
          },
          "metadata": {
            "needs_background": "light"
          }
        }
      ]
    },
    {
      "cell_type": "code",
      "source": [
        "model7 = tf.keras.Sequential(name='Q1_model6')\n",
        "model7.add(keras.layers.Dense(12, input_shape=(12,), kernel_initializer='normal'))\n",
        "model7.add(keras.layers.Dense(16, activation='relu', kernel_initializer='normal'))\n",
        "model7.add(keras.layers.Dropout(0.2))\n",
        "model7.add(keras.layers.Dense(8, activation='relu', kernel_initializer='normal'))\n",
        "model7.add(keras.layers.Dropout(0.1))\n",
        "model7.add(keras.layers.Dense(1, activation='linear'))\n",
        "\n",
        "model7.compile(loss=['mape'], optimizer=keras.optimizers.Adam(lr=0.001))\n",
        "history7 = model7.fit(xtrain, ytrain, validation_split=0.25, epochs=100, batch_size=128)"
      ],
      "metadata": {
        "id": "W15BDxmTa6jX",
        "colab": {
          "base_uri": "https://localhost:8080/"
        },
        "outputId": "bd9d562a-42b0-4a7e-b697-beca062cee7e"
      },
      "execution_count": null,
      "outputs": [
        {
          "output_type": "stream",
          "name": "stdout",
          "text": [
            "Epoch 1/100\n"
          ]
        },
        {
          "output_type": "stream",
          "name": "stderr",
          "text": [
            "/usr/local/lib/python3.7/dist-packages/keras/optimizer_v2/adam.py:105: UserWarning: The `lr` argument is deprecated, use `learning_rate` instead.\n",
            "  super(Adam, self).__init__(name, **kwargs)\n"
          ]
        },
        {
          "output_type": "stream",
          "name": "stdout",
          "text": [
            "4288/4288 [==============================] - 12s 3ms/step - loss: 88.8898 - val_loss: 83.1025\n",
            "Epoch 2/100\n",
            "4288/4288 [==============================] - 10s 2ms/step - loss: 87.1583 - val_loss: 85.8937\n",
            "Epoch 3/100\n",
            "4288/4288 [==============================] - 10s 2ms/step - loss: 87.4798 - val_loss: 82.8901\n",
            "Epoch 4/100\n",
            "4288/4288 [==============================] - 10s 2ms/step - loss: 86.6423 - val_loss: 82.3583\n",
            "Epoch 5/100\n",
            "4288/4288 [==============================] - 11s 3ms/step - loss: 86.3102 - val_loss: 81.8566\n",
            "Epoch 6/100\n",
            "4288/4288 [==============================] - 10s 2ms/step - loss: 85.5871 - val_loss: 81.1968\n",
            "Epoch 7/100\n",
            "4288/4288 [==============================] - 11s 3ms/step - loss: 85.6241 - val_loss: 80.7470\n",
            "Epoch 8/100\n",
            "4288/4288 [==============================] - 11s 3ms/step - loss: 85.4541 - val_loss: 82.0088\n",
            "Epoch 9/100\n",
            "4288/4288 [==============================] - 10s 2ms/step - loss: 84.7713 - val_loss: 80.6250\n",
            "Epoch 10/100\n",
            "4288/4288 [==============================] - 11s 3ms/step - loss: 84.8320 - val_loss: 82.1804\n",
            "Epoch 11/100\n",
            "4288/4288 [==============================] - 10s 2ms/step - loss: 84.9610 - val_loss: 80.7652\n",
            "Epoch 12/100\n",
            "4288/4288 [==============================] - 11s 3ms/step - loss: 85.9723 - val_loss: 82.5472\n",
            "Epoch 13/100\n",
            "4288/4288 [==============================] - 10s 2ms/step - loss: 84.4815 - val_loss: 81.9282\n",
            "Epoch 14/100\n",
            "4288/4288 [==============================] - 11s 3ms/step - loss: 85.0080 - val_loss: 80.1981\n",
            "Epoch 15/100\n",
            "4288/4288 [==============================] - 11s 3ms/step - loss: 85.8483 - val_loss: 80.9869\n",
            "Epoch 16/100\n",
            "4288/4288 [==============================] - 10s 2ms/step - loss: 85.4805 - val_loss: 82.1524\n",
            "Epoch 17/100\n",
            "4288/4288 [==============================] - 10s 2ms/step - loss: 84.5579 - val_loss: 81.3961\n",
            "Epoch 18/100\n",
            "4288/4288 [==============================] - 11s 3ms/step - loss: 85.0907 - val_loss: 81.0889\n",
            "Epoch 19/100\n",
            "4288/4288 [==============================] - 10s 2ms/step - loss: 84.7730 - val_loss: 81.0324\n",
            "Epoch 20/100\n",
            "4288/4288 [==============================] - 11s 2ms/step - loss: 85.3168 - val_loss: 84.1176\n",
            "Epoch 21/100\n",
            "4288/4288 [==============================] - 11s 3ms/step - loss: 85.1653 - val_loss: 82.2335\n",
            "Epoch 22/100\n",
            "4288/4288 [==============================] - 11s 3ms/step - loss: 85.3078 - val_loss: 82.2593\n",
            "Epoch 23/100\n",
            "4288/4288 [==============================] - 11s 3ms/step - loss: 85.4146 - val_loss: 81.9701\n",
            "Epoch 24/100\n",
            "4288/4288 [==============================] - 10s 2ms/step - loss: 83.9344 - val_loss: 80.9995\n",
            "Epoch 25/100\n",
            "4288/4288 [==============================] - 11s 3ms/step - loss: 85.1943 - val_loss: 80.4182\n",
            "Epoch 26/100\n",
            "4288/4288 [==============================] - 10s 2ms/step - loss: 83.9451 - val_loss: 80.4520\n",
            "Epoch 27/100\n",
            "4288/4288 [==============================] - 10s 2ms/step - loss: 83.3613 - val_loss: 81.0931\n",
            "Epoch 28/100\n",
            "4288/4288 [==============================] - 11s 3ms/step - loss: 85.2841 - val_loss: 80.0849\n",
            "Epoch 29/100\n",
            "4288/4288 [==============================] - 10s 2ms/step - loss: 84.0460 - val_loss: 81.0040\n",
            "Epoch 30/100\n",
            "4288/4288 [==============================] - 11s 3ms/step - loss: 84.1160 - val_loss: 79.6790\n",
            "Epoch 31/100\n",
            "4288/4288 [==============================] - 10s 2ms/step - loss: 83.7680 - val_loss: 81.7822\n",
            "Epoch 32/100\n",
            "4288/4288 [==============================] - 10s 2ms/step - loss: 84.6849 - val_loss: 81.9017\n",
            "Epoch 33/100\n",
            "4288/4288 [==============================] - 11s 3ms/step - loss: 84.1231 - val_loss: 81.1521\n",
            "Epoch 34/100\n",
            "4288/4288 [==============================] - 10s 2ms/step - loss: 83.0404 - val_loss: 79.4645\n",
            "Epoch 35/100\n",
            "4288/4288 [==============================] - 10s 2ms/step - loss: 84.8338 - val_loss: 80.5958\n",
            "Epoch 36/100\n",
            "4288/4288 [==============================] - 11s 3ms/step - loss: 83.7327 - val_loss: 82.5560\n",
            "Epoch 37/100\n",
            "4288/4288 [==============================] - 12s 3ms/step - loss: 84.5649 - val_loss: 80.0790\n",
            "Epoch 38/100\n",
            "4288/4288 [==============================] - 10s 2ms/step - loss: 83.6294 - val_loss: 80.3031\n",
            "Epoch 39/100\n",
            "4288/4288 [==============================] - 11s 3ms/step - loss: 83.0136 - val_loss: 79.2636\n",
            "Epoch 40/100\n",
            "4288/4288 [==============================] - 11s 3ms/step - loss: 84.0891 - val_loss: 79.4641\n",
            "Epoch 41/100\n",
            "4288/4288 [==============================] - 11s 3ms/step - loss: 84.7924 - val_loss: 80.2882\n",
            "Epoch 42/100\n",
            "4288/4288 [==============================] - 11s 3ms/step - loss: 83.2022 - val_loss: 79.5892\n",
            "Epoch 43/100\n",
            "4288/4288 [==============================] - 11s 3ms/step - loss: 84.4456 - val_loss: 82.6857\n",
            "Epoch 44/100\n",
            "4288/4288 [==============================] - 10s 2ms/step - loss: 84.8284 - val_loss: 81.9935\n",
            "Epoch 45/100\n",
            "4288/4288 [==============================] - 11s 3ms/step - loss: 84.1684 - val_loss: 79.8653\n",
            "Epoch 46/100\n",
            "4288/4288 [==============================] - 10s 2ms/step - loss: 84.3769 - val_loss: 81.0131\n",
            "Epoch 47/100\n",
            "4288/4288 [==============================] - 11s 2ms/step - loss: 84.2334 - val_loss: 80.6537\n",
            "Epoch 48/100\n",
            "4288/4288 [==============================] - 11s 3ms/step - loss: 83.8060 - val_loss: 80.6055\n",
            "Epoch 49/100\n",
            "4288/4288 [==============================] - 12s 3ms/step - loss: 84.8526 - val_loss: 80.2497\n",
            "Epoch 50/100\n",
            "4288/4288 [==============================] - 12s 3ms/step - loss: 84.0455 - val_loss: 79.8531\n",
            "Epoch 51/100\n",
            "4288/4288 [==============================] - 11s 2ms/step - loss: 83.9999 - val_loss: 80.0632\n",
            "Epoch 52/100\n",
            "4288/4288 [==============================] - 12s 3ms/step - loss: 83.3603 - val_loss: 79.5107\n",
            "Epoch 53/100\n",
            "4288/4288 [==============================] - 10s 2ms/step - loss: 83.6498 - val_loss: 80.3392\n",
            "Epoch 54/100\n",
            "4288/4288 [==============================] - 12s 3ms/step - loss: 83.4967 - val_loss: 80.7142\n",
            "Epoch 55/100\n",
            "4288/4288 [==============================] - 10s 2ms/step - loss: 84.0379 - val_loss: 82.3199\n",
            "Epoch 56/100\n",
            "4288/4288 [==============================] - 10s 2ms/step - loss: 84.2269 - val_loss: 79.8867\n",
            "Epoch 57/100\n",
            "4288/4288 [==============================] - 10s 2ms/step - loss: 83.6679 - val_loss: 82.4215\n",
            "Epoch 58/100\n",
            "4288/4288 [==============================] - 11s 3ms/step - loss: 83.8805 - val_loss: 81.6423\n",
            "Epoch 59/100\n",
            "4288/4288 [==============================] - 11s 3ms/step - loss: 84.1413 - val_loss: 80.5594\n",
            "Epoch 60/100\n",
            "4288/4288 [==============================] - 11s 3ms/step - loss: 83.9244 - val_loss: 81.5479\n",
            "Epoch 61/100\n",
            "4288/4288 [==============================] - 11s 3ms/step - loss: 83.8864 - val_loss: 79.4388\n",
            "Epoch 62/100\n",
            "4288/4288 [==============================] - 12s 3ms/step - loss: 84.0782 - val_loss: 82.4663\n",
            "Epoch 63/100\n",
            "4288/4288 [==============================] - 11s 2ms/step - loss: 83.8155 - val_loss: 79.8336\n",
            "Epoch 64/100\n",
            "4288/4288 [==============================] - 12s 3ms/step - loss: 83.4654 - val_loss: 79.7441\n",
            "Epoch 65/100\n",
            "4288/4288 [==============================] - 12s 3ms/step - loss: 83.4624 - val_loss: 80.5969\n",
            "Epoch 66/100\n",
            "4288/4288 [==============================] - 12s 3ms/step - loss: 82.9608 - val_loss: 79.1129\n",
            "Epoch 67/100\n",
            "4288/4288 [==============================] - 20s 5ms/step - loss: 83.3467 - val_loss: 80.2649\n",
            "Epoch 68/100\n",
            "4288/4288 [==============================] - 13s 3ms/step - loss: 83.4162 - val_loss: 80.0275\n",
            "Epoch 69/100\n",
            "4288/4288 [==============================] - 12s 3ms/step - loss: 83.3140 - val_loss: 79.4947\n",
            "Epoch 70/100\n",
            "4288/4288 [==============================] - 11s 3ms/step - loss: 83.0583 - val_loss: 79.4155\n",
            "Epoch 71/100\n",
            "4288/4288 [==============================] - 12s 3ms/step - loss: 82.9080 - val_loss: 78.1272\n",
            "Epoch 72/100\n",
            "4288/4288 [==============================] - 10s 2ms/step - loss: 82.1551 - val_loss: 79.3376\n",
            "Epoch 73/100\n",
            "4288/4288 [==============================] - 11s 3ms/step - loss: 83.0322 - val_loss: 79.3341\n",
            "Epoch 74/100\n",
            "4288/4288 [==============================] - 11s 3ms/step - loss: 82.6875 - val_loss: 79.6226\n",
            "Epoch 75/100\n",
            "4288/4288 [==============================] - 11s 2ms/step - loss: 82.2334 - val_loss: 78.5004\n",
            "Epoch 76/100\n",
            "4288/4288 [==============================] - 11s 3ms/step - loss: 82.8762 - val_loss: 78.7111\n",
            "Epoch 77/100\n",
            "4288/4288 [==============================] - 12s 3ms/step - loss: 82.4822 - val_loss: 79.2430\n",
            "Epoch 78/100\n",
            "4288/4288 [==============================] - 11s 3ms/step - loss: 82.3742 - val_loss: 80.2724\n",
            "Epoch 79/100\n",
            "4288/4288 [==============================] - 13s 3ms/step - loss: 81.7241 - val_loss: 80.0176\n",
            "Epoch 80/100\n",
            "4288/4288 [==============================] - 13s 3ms/step - loss: 82.0516 - val_loss: 81.2796\n",
            "Epoch 81/100\n",
            "4288/4288 [==============================] - 11s 3ms/step - loss: 82.3566 - val_loss: 80.2298\n",
            "Epoch 82/100\n",
            "4288/4288 [==============================] - 11s 3ms/step - loss: 82.5581 - val_loss: 79.5536\n",
            "Epoch 83/100\n",
            "4288/4288 [==============================] - 11s 3ms/step - loss: 82.1837 - val_loss: 78.4998\n",
            "Epoch 84/100\n",
            "4288/4288 [==============================] - 12s 3ms/step - loss: 81.9304 - val_loss: 80.0950\n",
            "Epoch 85/100\n",
            "4288/4288 [==============================] - 11s 2ms/step - loss: 82.2820 - val_loss: 79.2690\n",
            "Epoch 86/100\n",
            "4288/4288 [==============================] - 11s 3ms/step - loss: 82.2710 - val_loss: 78.4380\n",
            "Epoch 87/100\n",
            "4288/4288 [==============================] - 11s 3ms/step - loss: 81.9944 - val_loss: 79.2861\n",
            "Epoch 88/100\n",
            "4288/4288 [==============================] - 10s 2ms/step - loss: 82.0010 - val_loss: 79.3763\n",
            "Epoch 89/100\n",
            "4288/4288 [==============================] - 11s 3ms/step - loss: 82.2254 - val_loss: 78.5142\n",
            "Epoch 90/100\n",
            "4288/4288 [==============================] - 12s 3ms/step - loss: 81.9830 - val_loss: 79.1240\n",
            "Epoch 91/100\n",
            "4288/4288 [==============================] - 12s 3ms/step - loss: 82.0701 - val_loss: 78.5939\n",
            "Epoch 92/100\n",
            "4288/4288 [==============================] - 11s 2ms/step - loss: 82.0033 - val_loss: 79.1838\n",
            "Epoch 93/100\n",
            "4288/4288 [==============================] - 12s 3ms/step - loss: 81.9212 - val_loss: 79.6356\n",
            "Epoch 94/100\n",
            "4288/4288 [==============================] - 12s 3ms/step - loss: 81.8535 - val_loss: 79.2672\n",
            "Epoch 95/100\n",
            "4288/4288 [==============================] - 12s 3ms/step - loss: 81.8013 - val_loss: 79.0888\n",
            "Epoch 96/100\n",
            "4288/4288 [==============================] - 11s 3ms/step - loss: 82.0265 - val_loss: 79.8099\n",
            "Epoch 97/100\n",
            "4288/4288 [==============================] - 11s 3ms/step - loss: 81.8483 - val_loss: 79.0145\n",
            "Epoch 98/100\n",
            "4288/4288 [==============================] - 11s 3ms/step - loss: 81.8825 - val_loss: 80.4761\n",
            "Epoch 99/100\n",
            "4288/4288 [==============================] - 12s 3ms/step - loss: 81.7805 - val_loss: 78.4342\n",
            "Epoch 100/100\n",
            "4288/4288 [==============================] - 12s 3ms/step - loss: 81.9509 - val_loss: 80.1165\n"
          ]
        }
      ]
    },
    {
      "cell_type": "code",
      "source": [
        "calculate_error(model7, ytest)"
      ],
      "metadata": {
        "id": "dSmBJn1sa_xL",
        "colab": {
          "base_uri": "https://localhost:8080/"
        },
        "outputId": "0256b125-38b6-4991-ab30-faf5b921ff56"
      },
      "execution_count": null,
      "outputs": [
        {
          "output_type": "stream",
          "name": "stdout",
          "text": [
            "Mean Absolute error 0.39868579787593056 \n",
            " Mean Squared error 0.5783593209313536 \n",
            " Mean absolute percentage error 0.8048689301402403\n"
          ]
        },
        {
          "output_type": "execute_result",
          "data": {
            "text/plain": [
              "(0.39868579787593056, 0.5783593209313536, 0.8048689301402403)"
            ]
          },
          "metadata": {},
          "execution_count": 247
        }
      ]
    },
    {
      "cell_type": "code",
      "source": [
        "plot_loss(history7)"
      ],
      "metadata": {
        "id": "5eNtXsBEa_sC",
        "colab": {
          "base_uri": "https://localhost:8080/",
          "height": 313
        },
        "outputId": "1e952cd0-1a74-49f4-a8c7-cbdf6fdd44dd"
      },
      "execution_count": null,
      "outputs": [
        {
          "output_type": "stream",
          "name": "stdout",
          "text": [
            "dict_keys(['loss', 'val_loss'])\n"
          ]
        },
        {
          "output_type": "display_data",
          "data": {
            "text/plain": [
              "<Figure size 432x288 with 1 Axes>"
            ],
            "image/png": "[encoded data removed]"
          },
          "metadata": {
            "needs_background": "light"
          }
        }
      ]
    },
    {
      "cell_type": "markdown",
      "source": [
        "#more optimizers:"
      ],
      "metadata": {
        "id": "x9YHZoEhbFFa"
      }
    },
    {
      "cell_type": "markdown",
      "source": [
        "1.RMSprop"
      ],
      "metadata": {
        "id": "W3THNTF3cHTA"
      }
    },
    {
      "cell_type": "code",
      "source": [
        "model8 = tf.keras.Sequential()\n",
        "model8.add(keras.layers.Dense(12, input_shape=(12,), kernel_initializer='normal'))\n",
        "model8.add(keras.layers.Dense(16, activation='relu', kernel_initializer='normal'))\n",
        "model8.add(keras.layers.Dense(8, activation='relu', kernel_initializer='normal'))\n",
        "model8.add(keras.layers.Dense(4, activation='relu', kernel_initializer='normal'))\n",
        "model8.add(keras.layers.Dense(1, activation='linear'))\n",
        "\n",
        "model8.compile(loss=['mape'], optimizer=keras.optimizers.RMSprop(lr=0.001))\n",
        "history8 = model8.fit(xtrain, ytrain, epochs=50, validation_split=0.25, batch_size=128)"
      ],
      "metadata": {
        "id": "4m29rrmVbJyj",
        "colab": {
          "base_uri": "https://localhost:8080/"
        },
        "outputId": "c240cbcb-a036-4ec4-e38e-42481b9e96de"
      },
      "execution_count": null,
      "outputs": [
        {
          "output_type": "stream",
          "name": "stdout",
          "text": [
            "Epoch 1/50\n"
          ]
        },
        {
          "output_type": "stream",
          "name": "stderr",
          "text": [
            "/usr/local/lib/python3.7/dist-packages/keras/optimizer_v2/rmsprop.py:130: UserWarning: The `lr` argument is deprecated, use `learning_rate` instead.\n",
            "  super(RMSprop, self).__init__(name, **kwargs)\n"
          ]
        },
        {
          "output_type": "stream",
          "name": "stdout",
          "text": [
            "4288/4288 [==============================] - 12s 3ms/step - loss: 88.9630 - val_loss: 86.7645\n",
            "Epoch 2/50\n",
            "4288/4288 [==============================] - 11s 3ms/step - loss: 86.3072 - val_loss: 82.1173\n",
            "Epoch 3/50\n",
            "4288/4288 [==============================] - 12s 3ms/step - loss: 83.5739 - val_loss: 79.1291\n",
            "Epoch 4/50\n",
            "4288/4288 [==============================] - 12s 3ms/step - loss: 83.2634 - val_loss: 80.0467\n",
            "Epoch 5/50\n",
            "4288/4288 [==============================] - 12s 3ms/step - loss: 82.9326 - val_loss: 79.6894\n",
            "Epoch 6/50\n",
            "4288/4288 [==============================] - 10s 2ms/step - loss: 82.9111 - val_loss: 79.5120\n",
            "Epoch 7/50\n",
            "4288/4288 [==============================] - 11s 2ms/step - loss: 82.6966 - val_loss: 84.1440\n",
            "Epoch 8/50\n",
            "4288/4288 [==============================] - 11s 3ms/step - loss: 82.8685 - val_loss: 79.4478\n",
            "Epoch 9/50\n",
            "4288/4288 [==============================] - 11s 2ms/step - loss: 83.8217 - val_loss: 80.7481\n",
            "Epoch 10/50\n",
            "4288/4288 [==============================] - 12s 3ms/step - loss: 83.9599 - val_loss: 83.9190\n",
            "Epoch 11/50\n",
            "4288/4288 [==============================] - 12s 3ms/step - loss: 82.9416 - val_loss: 79.1854\n",
            "Epoch 12/50\n",
            "4288/4288 [==============================] - 11s 3ms/step - loss: 82.7519 - val_loss: 79.0669\n",
            "Epoch 13/50\n",
            "4288/4288 [==============================] - 12s 3ms/step - loss: 82.8790 - val_loss: 78.7543\n",
            "Epoch 14/50\n",
            "4288/4288 [==============================] - 12s 3ms/step - loss: 82.6226 - val_loss: 80.6119\n",
            "Epoch 15/50\n",
            "4288/4288 [==============================] - 12s 3ms/step - loss: 82.6171 - val_loss: 79.9792\n",
            "Epoch 16/50\n",
            "4288/4288 [==============================] - 11s 3ms/step - loss: 82.0908 - val_loss: 78.9238\n",
            "Epoch 17/50\n",
            "4288/4288 [==============================] - 12s 3ms/step - loss: 82.2676 - val_loss: 79.6535\n",
            "Epoch 18/50\n",
            "4288/4288 [==============================] - 11s 3ms/step - loss: 81.5051 - val_loss: 77.2568\n",
            "Epoch 19/50\n",
            "4288/4288 [==============================] - 12s 3ms/step - loss: 80.7067 - val_loss: 78.2949\n",
            "Epoch 20/50\n",
            "4288/4288 [==============================] - 11s 3ms/step - loss: 80.6334 - val_loss: 79.1732\n",
            "Epoch 21/50\n",
            "4288/4288 [==============================] - 12s 3ms/step - loss: 80.6117 - val_loss: 83.0809\n",
            "Epoch 22/50\n",
            "4288/4288 [==============================] - 11s 3ms/step - loss: 80.6189 - val_loss: 89.7420\n",
            "Epoch 23/50\n",
            "4288/4288 [==============================] - 11s 2ms/step - loss: 82.9226 - val_loss: 80.7770\n",
            "Epoch 24/50\n",
            "4288/4288 [==============================] - 11s 2ms/step - loss: 82.4409 - val_loss: 82.6503\n",
            "Epoch 25/50\n",
            "4288/4288 [==============================] - 12s 3ms/step - loss: 82.0948 - val_loss: 79.1605\n",
            "Epoch 26/50\n",
            "4288/4288 [==============================] - 11s 3ms/step - loss: 81.0210 - val_loss: 78.4444\n",
            "Epoch 27/50\n",
            "4288/4288 [==============================] - 11s 3ms/step - loss: 81.5041 - val_loss: 84.0348\n",
            "Epoch 28/50\n",
            "4288/4288 [==============================] - 12s 3ms/step - loss: 81.1683 - val_loss: 79.1763\n",
            "Epoch 29/50\n",
            "4288/4288 [==============================] - 11s 3ms/step - loss: 80.7275 - val_loss: 77.7134\n",
            "Epoch 30/50\n",
            "4288/4288 [==============================] - 11s 3ms/step - loss: 80.5300 - val_loss: 77.1488\n",
            "Epoch 31/50\n",
            "4288/4288 [==============================] - 11s 3ms/step - loss: 79.5811 - val_loss: 80.8565\n",
            "Epoch 32/50\n",
            "4288/4288 [==============================] - 11s 3ms/step - loss: 79.5524 - val_loss: 78.6042\n",
            "Epoch 33/50\n",
            "4288/4288 [==============================] - 11s 2ms/step - loss: 79.3347 - val_loss: 77.9676\n",
            "Epoch 34/50\n",
            "4288/4288 [==============================] - 11s 3ms/step - loss: 79.1687 - val_loss: 77.7085\n",
            "Epoch 35/50\n",
            "4288/4288 [==============================] - 12s 3ms/step - loss: 79.0872 - val_loss: 77.7330\n",
            "Epoch 36/50\n",
            "4288/4288 [==============================] - 11s 3ms/step - loss: 79.3282 - val_loss: 77.2116\n",
            "Epoch 37/50\n",
            "4288/4288 [==============================] - 11s 3ms/step - loss: 78.9169 - val_loss: 77.4364\n",
            "Epoch 38/50\n",
            "4288/4288 [==============================] - 11s 2ms/step - loss: 79.3210 - val_loss: 79.7691\n",
            "Epoch 39/50\n",
            "4288/4288 [==============================] - 12s 3ms/step - loss: 79.2416 - val_loss: 79.2526\n",
            "Epoch 40/50\n",
            "4288/4288 [==============================] - 12s 3ms/step - loss: 79.9234 - val_loss: 82.7821\n",
            "Epoch 41/50\n",
            "4288/4288 [==============================] - 11s 3ms/step - loss: 79.7550 - val_loss: 79.8937\n",
            "Epoch 42/50\n",
            "4288/4288 [==============================] - 12s 3ms/step - loss: 80.1876 - val_loss: 79.7924\n",
            "Epoch 43/50\n",
            "4288/4288 [==============================] - 12s 3ms/step - loss: 82.6469 - val_loss: 83.4899\n",
            "Epoch 44/50\n",
            "4288/4288 [==============================] - 12s 3ms/step - loss: 82.8282 - val_loss: 81.9409\n",
            "Epoch 45/50\n",
            "4288/4288 [==============================] - 11s 3ms/step - loss: 82.6646 - val_loss: 81.9912\n",
            "Epoch 46/50\n",
            "4288/4288 [==============================] - 11s 3ms/step - loss: 82.2235 - val_loss: 78.1277\n",
            "Epoch 47/50\n",
            "4288/4288 [==============================] - 11s 3ms/step - loss: 82.1756 - val_loss: 79.1015\n",
            "Epoch 48/50\n",
            "4288/4288 [==============================] - 11s 3ms/step - loss: 81.8089 - val_loss: 80.4830\n",
            "Epoch 49/50\n",
            "4288/4288 [==============================] - 11s 3ms/step - loss: 81.9847 - val_loss: 79.2124\n",
            "Epoch 50/50\n",
            "4288/4288 [==============================] - 12s 3ms/step - loss: 82.4376 - val_loss: 78.7818\n"
          ]
        }
      ]
    },
    {
      "cell_type": "code",
      "source": [
        "calculate_error(model8, ytest)"
      ],
      "metadata": {
        "id": "IpZMpBnnbJuD",
        "colab": {
          "base_uri": "https://localhost:8080/"
        },
        "outputId": "771ecafb-3b43-44ca-d2a5-6ce1cdfc7dbd"
      },
      "execution_count": null,
      "outputs": [
        {
          "output_type": "stream",
          "name": "stdout",
          "text": [
            "Mean Absolute error 0.314904106585002 \n",
            " Mean Squared error 0.34382158530274765 \n",
            " Mean absolute percentage error 0.8081256753492223\n"
          ]
        },
        {
          "output_type": "execute_result",
          "data": {
            "text/plain": [
              "(0.314904106585002, 0.34382158530274765, 0.8081256753492223)"
            ]
          },
          "metadata": {},
          "execution_count": 250
        }
      ]
    },
    {
      "cell_type": "code",
      "source": [
        "plot_loss(history8)"
      ],
      "metadata": {
        "id": "NlUXSfQ2bJqu",
        "colab": {
          "base_uri": "https://localhost:8080/",
          "height": 313
        },
        "outputId": "7d0528d1-2602-4d3a-e6d8-76200cf91301"
      },
      "execution_count": null,
      "outputs": [
        {
          "output_type": "stream",
          "name": "stdout",
          "text": [
            "dict_keys(['loss', 'val_loss'])\n"
          ]
        },
        {
          "output_type": "display_data",
          "data": {
            "text/plain": [
              "<Figure size 432x288 with 1 Axes>"
            ],
            "image/png": "[encoded data removed]"
          },
          "metadata": {
            "needs_background": "light"
          }
        }
      ]
    },
    {
      "cell_type": "code",
      "source": [
        "modelf = keras.models.Sequential()\n",
        "modelf.add(keras.layers.Dense(12, input_shape=(12,)))\n",
        "modelf.add(keras.layers.Dense(16, activation='relu', kernel_initializer='normal'))\n",
        "modelf.add(keras.layers.Dense(12, activation='relu', kernel_initializer='normal'))\n",
        "modelf.add(keras.layers.Dense(8, activation='relu', kernel_initializer='normal'))\n",
        "modelf.add(keras.layers.Dense(4, activation='relu', kernel_initializer='normal'))\n",
        "modelf.add(keras.layers.Dense(1, activation='linear'))\n",
        "optimizer = keras.optimizers.RMSprop(lr=0.001)\n",
        "modelf.compile(loss=['mape'], optimizer=optimizer)\n",
        "  "
      ],
      "metadata": {
        "id": "RqiyOIIubJk6",
        "colab": {
          "base_uri": "https://localhost:8080/"
        },
        "outputId": "b5a035d9-8381-4023-f789-ec50b1e8da8b"
      },
      "execution_count": null,
      "outputs": [
        {
          "output_type": "stream",
          "name": "stderr",
          "text": [
            "/usr/local/lib/python3.7/dist-packages/keras/optimizer_v2/rmsprop.py:130: UserWarning: The `lr` argument is deprecated, use `learning_rate` instead.\n",
            "  super(RMSprop, self).__init__(name, **kwargs)\n"
          ]
        }
      ]
    },
    {
      "cell_type": "code",
      "source": [
        "historyf = modelf.fit(xtrain, ytrain, epochs=50, batch_size=128, validation_split=0.25)"
      ],
      "metadata": {
        "id": "EI7I3XW7bJg9",
        "colab": {
          "base_uri": "https://localhost:8080/"
        },
        "outputId": "eaf1c835-37ac-4276-c7d6-73b42a0581ec"
      },
      "execution_count": null,
      "outputs": [
        {
          "output_type": "stream",
          "name": "stdout",
          "text": [
            "Epoch 1/50\n",
            "4288/4288 [==============================] - 14s 3ms/step - loss: 98.8735 - val_loss: 98.8158\n",
            "Epoch 2/50\n",
            "4288/4288 [==============================] - 11s 3ms/step - loss: 98.8759 - val_loss: 98.8353\n",
            "Epoch 3/50\n",
            "4288/4288 [==============================] - 12s 3ms/step - loss: 98.8751 - val_loss: 98.9655\n",
            "Epoch 4/50\n",
            "4288/4288 [==============================] - 11s 3ms/step - loss: 98.8729 - val_loss: 98.8885\n",
            "Epoch 5/50\n",
            "4288/4288 [==============================] - 12s 3ms/step - loss: 98.8750 - val_loss: 98.8339\n",
            "Epoch 6/50\n",
            "4288/4288 [==============================] - 12s 3ms/step - loss: 98.8739 - val_loss: 98.8347\n",
            "Epoch 7/50\n",
            "4288/4288 [==============================] - 11s 3ms/step - loss: 98.8744 - val_loss: 98.8413\n",
            "Epoch 8/50\n",
            "4288/4288 [==============================] - 12s 3ms/step - loss: 98.8750 - val_loss: 98.8713\n",
            "Epoch 9/50\n",
            "4288/4288 [==============================] - 13s 3ms/step - loss: 98.8740 - val_loss: 98.8141\n",
            "Epoch 10/50\n",
            "4288/4288 [==============================] - 12s 3ms/step - loss: 98.8733 - val_loss: 98.7769\n",
            "Epoch 11/50\n",
            "4288/4288 [==============================] - 12s 3ms/step - loss: 98.8751 - val_loss: 98.8459\n",
            "Epoch 12/50\n",
            "4288/4288 [==============================] - 12s 3ms/step - loss: 98.8736 - val_loss: 98.9009\n",
            "Epoch 13/50\n",
            "4288/4288 [==============================] - 16s 4ms/step - loss: 98.8735 - val_loss: 98.8901\n",
            "Epoch 14/50\n",
            "4288/4288 [==============================] - 12s 3ms/step - loss: 98.8741 - val_loss: 99.0068\n",
            "Epoch 15/50\n",
            "4288/4288 [==============================] - 11s 3ms/step - loss: 98.8764 - val_loss: 99.0506\n",
            "Epoch 16/50\n",
            "4288/4288 [==============================] - 12s 3ms/step - loss: 98.8753 - val_loss: 98.8088\n",
            "Epoch 17/50\n",
            "4288/4288 [==============================] - 15s 3ms/step - loss: 98.8747 - val_loss: 99.2951\n",
            "Epoch 18/50\n",
            "4288/4288 [==============================] - 12s 3ms/step - loss: 98.8726 - val_loss: 99.0253\n",
            "Epoch 19/50\n",
            "4288/4288 [==============================] - 12s 3ms/step - loss: 98.8738 - val_loss: 98.8674\n",
            "Epoch 20/50\n",
            "4288/4288 [==============================] - 11s 3ms/step - loss: 98.8733 - val_loss: 99.1022\n",
            "Epoch 21/50\n",
            "4288/4288 [==============================] - 11s 3ms/step - loss: 98.8752 - val_loss: 99.1768\n",
            "Epoch 22/50\n",
            "4288/4288 [==============================] - 12s 3ms/step - loss: 98.8744 - val_loss: 98.8011\n",
            "Epoch 23/50\n",
            "4288/4288 [==============================] - 11s 3ms/step - loss: 98.8739 - val_loss: 99.2388\n",
            "Epoch 24/50\n",
            "4288/4288 [==============================] - 11s 3ms/step - loss: 98.8728 - val_loss: 98.8631\n",
            "Epoch 25/50\n",
            "4288/4288 [==============================] - 12s 3ms/step - loss: 98.8744 - val_loss: 99.1881\n",
            "Epoch 26/50\n",
            "4288/4288 [==============================] - 11s 3ms/step - loss: 98.8747 - val_loss: 98.8087\n",
            "Epoch 27/50\n",
            "4288/4288 [==============================] - 12s 3ms/step - loss: 98.8747 - val_loss: 98.7610\n",
            "Epoch 28/50\n",
            "4288/4288 [==============================] - 12s 3ms/step - loss: 98.8736 - val_loss: 98.9201\n",
            "Epoch 29/50\n",
            "4288/4288 [==============================] - 12s 3ms/step - loss: 98.8746 - val_loss: 98.9705\n",
            "Epoch 30/50\n",
            "4288/4288 [==============================] - 11s 3ms/step - loss: 98.8747 - val_loss: 98.9764\n",
            "Epoch 31/50\n",
            "4288/4288 [==============================] - 12s 3ms/step - loss: 98.8739 - val_loss: 99.3534\n",
            "Epoch 32/50\n",
            "4288/4288 [==============================] - 12s 3ms/step - loss: 98.8764 - val_loss: 98.9492\n",
            "Epoch 33/50\n",
            "4288/4288 [==============================] - 12s 3ms/step - loss: 98.8755 - val_loss: 99.1715\n",
            "Epoch 34/50\n",
            "4288/4288 [==============================] - 12s 3ms/step - loss: 98.8734 - val_loss: 99.0242\n",
            "Epoch 35/50\n",
            "4288/4288 [==============================] - 11s 3ms/step - loss: 98.8749 - val_loss: 98.8734\n",
            "Epoch 36/50\n",
            "4288/4288 [==============================] - 12s 3ms/step - loss: 98.8736 - val_loss: 99.4868\n",
            "Epoch 37/50\n",
            "4288/4288 [==============================] - 12s 3ms/step - loss: 98.8752 - val_loss: 98.8689\n",
            "Epoch 38/50\n",
            "4288/4288 [==============================] - 11s 3ms/step - loss: 98.8737 - val_loss: 98.8239\n",
            "Epoch 39/50\n",
            "4288/4288 [==============================] - 12s 3ms/step - loss: 98.8740 - val_loss: 98.9510\n",
            "Epoch 40/50\n",
            "4288/4288 [==============================] - 12s 3ms/step - loss: 98.8739 - val_loss: 98.9016\n",
            "Epoch 41/50\n",
            "4288/4288 [==============================] - 11s 3ms/step - loss: 98.8732 - val_loss: 98.8435\n",
            "Epoch 42/50\n",
            "4288/4288 [==============================] - 12s 3ms/step - loss: 98.8746 - val_loss: 98.9700\n",
            "Epoch 43/50\n",
            "4288/4288 [==============================] - 11s 3ms/step - loss: 98.8733 - val_loss: 98.7506\n",
            "Epoch 44/50\n",
            "4288/4288 [==============================] - 11s 3ms/step - loss: 98.8727 - val_loss: 98.9775\n",
            "Epoch 45/50\n",
            "4288/4288 [==============================] - 11s 3ms/step - loss: 98.8751 - val_loss: 99.0493\n",
            "Epoch 46/50\n",
            "4288/4288 [==============================] - 11s 3ms/step - loss: 98.8732 - val_loss: 99.2410\n",
            "Epoch 47/50\n",
            "4288/4288 [==============================] - 12s 3ms/step - loss: 98.8743 - val_loss: 98.8256\n",
            "Epoch 48/50\n",
            "4288/4288 [==============================] - 11s 3ms/step - loss: 98.8735 - val_loss: 98.7777\n",
            "Epoch 49/50\n",
            "4288/4288 [==============================] - 11s 3ms/step - loss: 98.8739 - val_loss: 98.8929\n",
            "Epoch 50/50\n",
            "4288/4288 [==============================] - 12s 3ms/step - loss: 98.8749 - val_loss: 99.5548\n"
          ]
        }
      ]
    },
    {
      "cell_type": "markdown",
      "source": [
        "2.SGD"
      ],
      "metadata": {
        "id": "pgfkkkxwcL-l"
      }
    },
    {
      "cell_type": "code",
      "source": [
        "model9 = keras.models.Sequential()\n",
        "model9.add(keras.layers.Dense(12, input_shape=(12,)))\n",
        "model9.add(keras.layers.Dense(16, activation='relu', kernel_initializer='normal'))\n",
        "model9.add(keras.layers.Dense(12, activation='relu', kernel_initializer='normal'))\n",
        "model9.add(keras.layers.Dense(8, activation='relu', kernel_initializer='normal'))\n",
        "model9.add(keras.layers.Dense(4, activation='relu', kernel_initializer='normal'))\n",
        "model9.add(keras.layers.Dense(1, activation='linear'))\n",
        "model9.compile(loss=['mape'], optimizer=keras.optimizers.SGD(lr=0.001))"
      ],
      "metadata": {
        "id": "vE8GbQjwbI-W",
        "colab": {
          "base_uri": "https://localhost:8080/"
        },
        "outputId": "60d4be89-2b67-4b13-d3e1-22e35562e57d"
      },
      "execution_count": null,
      "outputs": [
        {
          "output_type": "stream",
          "name": "stderr",
          "text": [
            "/usr/local/lib/python3.7/dist-packages/keras/optimizer_v2/gradient_descent.py:102: UserWarning: The `lr` argument is deprecated, use `learning_rate` instead.\n",
            "  super(SGD, self).__init__(name, **kwargs)\n"
          ]
        }
      ]
    },
    {
      "cell_type": "code",
      "source": [
        "history9 = model9.fit(xtrain, ytrain, epochs=50, batch_size=128, validation_split=0.25, shuffle=True)"
      ],
      "metadata": {
        "id": "37ishxiCe_sp",
        "colab": {
          "base_uri": "https://localhost:8080/"
        },
        "outputId": "eb43d7a8-8f27-4770-fad0-77b49d71f386"
      },
      "execution_count": null,
      "outputs": [
        {
          "output_type": "stream",
          "name": "stdout",
          "text": [
            "Epoch 1/50\n",
            "4288/4288 [==============================] - 13s 3ms/step - loss: 241.0502 - val_loss: 394.5087\n",
            "Epoch 2/50\n",
            "4288/4288 [==============================] - 11s 3ms/step - loss: 240.2315 - val_loss: 113.0532\n",
            "Epoch 3/50\n",
            "4288/4288 [==============================] - 10s 2ms/step - loss: 241.1143 - val_loss: 336.8488\n",
            "Epoch 4/50\n",
            "4288/4288 [==============================] - 10s 2ms/step - loss: 239.8948 - val_loss: 101.6484\n",
            "Epoch 5/50\n",
            "4288/4288 [==============================] - 11s 3ms/step - loss: 240.6165 - val_loss: 121.8579\n",
            "Epoch 6/50\n",
            "4288/4288 [==============================] - 11s 2ms/step - loss: 239.9169 - val_loss: 333.2682\n",
            "Epoch 7/50\n",
            "4288/4288 [==============================] - 10s 2ms/step - loss: 240.4420 - val_loss: 292.9426\n",
            "Epoch 8/50\n",
            "4288/4288 [==============================] - 11s 3ms/step - loss: 238.9080 - val_loss: 369.0178\n",
            "Epoch 9/50\n",
            "4288/4288 [==============================] - 11s 3ms/step - loss: 240.0726 - val_loss: 211.2673\n",
            "Epoch 10/50\n",
            "4288/4288 [==============================] - 11s 3ms/step - loss: 242.1588 - val_loss: 797.3373\n",
            "Epoch 11/50\n",
            "4288/4288 [==============================] - 10s 2ms/step - loss: 242.2642 - val_loss: 146.3336\n",
            "Epoch 12/50\n",
            "4288/4288 [==============================] - 11s 2ms/step - loss: 240.5735 - val_loss: 883.3337\n",
            "Epoch 13/50\n",
            "4288/4288 [==============================] - 11s 3ms/step - loss: 240.2883 - val_loss: 1626.5438\n",
            "Epoch 14/50\n",
            "4288/4288 [==============================] - 11s 3ms/step - loss: 241.7155 - val_loss: 797.5634\n",
            "Epoch 15/50\n",
            "4288/4288 [==============================] - 10s 2ms/step - loss: 241.4855 - val_loss: 136.5518\n",
            "Epoch 16/50\n",
            "4288/4288 [==============================] - 11s 2ms/step - loss: 241.4445 - val_loss: 114.7976\n",
            "Epoch 17/50\n",
            "4288/4288 [==============================] - 11s 2ms/step - loss: 240.7485 - val_loss: 240.5150\n",
            "Epoch 18/50\n",
            "4288/4288 [==============================] - 11s 2ms/step - loss: 241.3885 - val_loss: 174.2720\n",
            "Epoch 19/50\n",
            "4288/4288 [==============================] - 11s 2ms/step - loss: 240.4463 - val_loss: 186.6812\n",
            "Epoch 20/50\n",
            "4288/4288 [==============================] - 10s 2ms/step - loss: 239.7919 - val_loss: 880.6575\n",
            "Epoch 21/50\n",
            "4288/4288 [==============================] - 10s 2ms/step - loss: 241.3068 - val_loss: 101.4464\n",
            "Epoch 22/50\n",
            "4288/4288 [==============================] - 11s 2ms/step - loss: 237.5425 - val_loss: 269.5955\n",
            "Epoch 23/50\n",
            "4288/4288 [==============================] - 12s 3ms/step - loss: 240.7555 - val_loss: 207.8424\n",
            "Epoch 24/50\n",
            "4288/4288 [==============================] - 11s 2ms/step - loss: 241.9123 - val_loss: 227.6174\n",
            "Epoch 25/50\n",
            "4288/4288 [==============================] - 11s 3ms/step - loss: 241.3683 - val_loss: 233.9805\n",
            "Epoch 26/50\n",
            "4288/4288 [==============================] - 13s 3ms/step - loss: 241.1967 - val_loss: 213.2582\n",
            "Epoch 27/50\n",
            "4288/4288 [==============================] - 11s 3ms/step - loss: 241.3162 - val_loss: 243.3741\n",
            "Epoch 28/50\n",
            "4288/4288 [==============================] - 11s 2ms/step - loss: 241.0692 - val_loss: 176.4347\n",
            "Epoch 29/50\n",
            "4288/4288 [==============================] - 10s 2ms/step - loss: 240.3114 - val_loss: 898.2084\n",
            "Epoch 30/50\n",
            "4288/4288 [==============================] - 11s 2ms/step - loss: 242.8855 - val_loss: 153.1020\n",
            "Epoch 31/50\n",
            "4288/4288 [==============================] - 11s 2ms/step - loss: 239.4918 - val_loss: 99.8017\n",
            "Epoch 32/50\n",
            "4288/4288 [==============================] - 11s 2ms/step - loss: 240.7996 - val_loss: 104.1900\n",
            "Epoch 33/50\n",
            "4288/4288 [==============================] - 11s 2ms/step - loss: 240.1943 - val_loss: 194.4081\n",
            "Epoch 34/50\n",
            "4288/4288 [==============================] - 11s 2ms/step - loss: 240.9958 - val_loss: 971.5688\n",
            "Epoch 35/50\n",
            "4288/4288 [==============================] - 10s 2ms/step - loss: 239.8554 - val_loss: 105.2882\n",
            "Epoch 36/50\n",
            "4288/4288 [==============================] - 11s 3ms/step - loss: 241.7850 - val_loss: 131.5919\n",
            "Epoch 37/50\n",
            "4288/4288 [==============================] - 11s 3ms/step - loss: 239.9946 - val_loss: 1696.4459\n",
            "Epoch 38/50\n",
            "4288/4288 [==============================] - 11s 3ms/step - loss: 241.8639 - val_loss: 609.9287\n",
            "Epoch 39/50\n",
            "4288/4288 [==============================] - 11s 2ms/step - loss: 238.9484 - val_loss: 292.5266\n",
            "Epoch 40/50\n",
            "4288/4288 [==============================] - 10s 2ms/step - loss: 241.4741 - val_loss: 161.0825\n",
            "Epoch 41/50\n",
            "4288/4288 [==============================] - 11s 2ms/step - loss: 242.4883 - val_loss: 926.6637\n",
            "Epoch 42/50\n",
            "4288/4288 [==============================] - 11s 3ms/step - loss: 240.8671 - val_loss: 1025.7451\n",
            "Epoch 43/50\n",
            "4288/4288 [==============================] - 10s 2ms/step - loss: 240.5244 - val_loss: 191.0216\n",
            "Epoch 44/50\n",
            "4288/4288 [==============================] - 11s 2ms/step - loss: 239.6783 - val_loss: 102.6089\n",
            "Epoch 45/50\n",
            "4288/4288 [==============================] - 10s 2ms/step - loss: 240.1262 - val_loss: 159.4367\n",
            "Epoch 46/50\n",
            "4288/4288 [==============================] - 11s 3ms/step - loss: 239.5383 - val_loss: 195.7374\n",
            "Epoch 47/50\n",
            "4288/4288 [==============================] - 12s 3ms/step - loss: 241.5219 - val_loss: 108.2599\n",
            "Epoch 48/50\n",
            "4288/4288 [==============================] - 11s 3ms/step - loss: 240.8062 - val_loss: 180.1680\n",
            "Epoch 49/50\n",
            "4288/4288 [==============================] - 10s 2ms/step - loss: 239.8017 - val_loss: 100.8440\n",
            "Epoch 50/50\n",
            "4288/4288 [==============================] - 11s 3ms/step - loss: 241.5849 - val_loss: 218.3414\n"
          ]
        }
      ]
    },
    {
      "cell_type": "code",
      "source": [
        "calculate_error(model9, ytest)"
      ],
      "metadata": {
        "id": "F09Cbu1RfCWK",
        "colab": {
          "base_uri": "https://localhost:8080/"
        },
        "outputId": "d388eb9d-7d22-422d-a643-710d61309428"
      },
      "execution_count": null,
      "outputs": [
        {
          "output_type": "stream",
          "name": "stdout",
          "text": [
            "Mean Absolute error 0.6153267770616914 \n",
            " Mean Squared error 0.981948188912607 \n",
            " Mean absolute percentage error 0.9996979670179065\n"
          ]
        },
        {
          "output_type": "execute_result",
          "data": {
            "text/plain": [
              "(0.6153267770616914, 0.981948188912607, 0.9996979670179065)"
            ]
          },
          "metadata": {},
          "execution_count": 255
        }
      ]
    },
    {
      "cell_type": "code",
      "source": [
        "plot_loss(history9)"
      ],
      "metadata": {
        "id": "dQVhhPaEfCTm",
        "colab": {
          "base_uri": "https://localhost:8080/",
          "height": 313
        },
        "outputId": "40569064-6918-4e8a-8129-37f0e97e9a11"
      },
      "execution_count": null,
      "outputs": [
        {
          "output_type": "stream",
          "name": "stdout",
          "text": [
            "dict_keys(['loss', 'val_loss'])\n"
          ]
        },
        {
          "output_type": "display_data",
          "data": {
            "text/plain": [
              "<Figure size 432x288 with 1 Axes>"
            ],
            "image/png": "[encoded data removed]"
          },
          "metadata": {
            "needs_background": "light"
          }
        }
      ]
    },
    {
      "cell_type": "code",
      "source": [
        "def best_model(optimizer=keras.optimizers.Adam(), activation='relu'):\n",
        "  modell = keras.Sequential()\n",
        "  modell.add(keras.layers.Dense(12, input_shape=(12,)))\n",
        "  modell.add(keras.layers.Dense(16, activation=activation))\n",
        "  modell.add(keras.layers.Dense(8, activation=activation))\n",
        "  modell.add(keras.layers.Dense(4, activation=activation))\n",
        "  modell.add(keras.layers.Dense(1, activation='linear'))\n",
        "  modell.compile(optimizer=optimizer, loss=['mape'])\n",
        "  return modell"
      ],
      "metadata": {
        "id": "1rn15hVpfCJa"
      },
      "execution_count": null,
      "outputs": []
    },
    {
      "cell_type": "code",
      "source": [
        "keras_gg = keras.wrappers.scikit_learn.KerasRegressor(best_model)\n",
        "params = {'optimizer':[keras.optimizers.Adam(), keras.optimizers.RMSprop()], 'activation':['relu', 'sigmoid']}\n",
        "rnd2 = RandomizedSearchCV(keras_gg, params, n_iter=5,\n",
        "cv=3)\n",
        "rnd2.fit(xtrain, ytrain, epochs=10,\n",
        "validation_data=(xtest, ytest),\n",
        "callbacks=[keras.callbacks.EarlyStopping(patience=10, monitor='val_loss')])"
      ],
      "metadata": {
        "id": "hk04bRdEfCG-"
      },
      "execution_count": null,
      "outputs": []
    },
    {
      "cell_type": "code",
      "source": [
        "rnd2.best_params_"
      ],
      "metadata": {
        "id": "MBOKMi7WfCDK"
      },
      "execution_count": null,
      "outputs": []
    },
    {
      "cell_type": "code",
      "source": [
        "new = rnd2.best_estimator_.model\n",
        "new.summary()"
      ],
      "metadata": {
        "id": "yCpa6fSCfOq_"
      },
      "execution_count": null,
      "outputs": []
    },
    {
      "cell_type": "code",
      "source": [
        "history_new = new.fit(xtrain, ytrain, epochs=100, validation_split=0.2, batch_size=128)"
      ],
      "metadata": {
        "id": "p3HfW4VofOnr"
      },
      "execution_count": null,
      "outputs": []
    },
    {
      "cell_type": "code",
      "source": [
        "calculate_error(new, ytest)"
      ],
      "metadata": {
        "id": "K8MZfeSBfOjt"
      },
      "execution_count": null,
      "outputs": []
    },
    {
      "cell_type": "code",
      "source": [
        "plot_loss(history_new)"
      ],
      "metadata": {
        "id": "57OtpqJyfU-L"
      },
      "execution_count": null,
      "outputs": []
    },
    {
      "cell_type": "code",
      "source": [
        "test.head()"
      ],
      "metadata": {
        "id": "6RJJGoqRfU6g",
        "colab": {
          "base_uri": "https://localhost:8080/",
          "height": 357
        },
        "outputId": "5a747c12-c959-4b0b-f6e6-41d54f19ef21"
      },
      "execution_count": null,
      "outputs": [
        {
          "output_type": "execute_result",
          "data": {
            "text/plain": [
              "                            key           pickup_datetime  pickup_longitude  \\\n",
              "0 2015-01-27 13:08:24.000000200 2015-01-27 13:08:24+00:00        -73.973320   \n",
              "1 2015-01-27 13:08:24.000000300 2015-01-27 13:08:24+00:00        -73.986862   \n",
              "2 2011-10-08 11:53:44.000000200 2011-10-08 11:53:44+00:00        -73.982524   \n",
              "3 2012-12-01 21:12:12.000000200 2012-12-01 21:12:12+00:00        -73.981160   \n",
              "4 2012-12-01 21:12:12.000000300 2012-12-01 21:12:12+00:00        -73.966046   \n",
              "\n",
              "   pickup_latitude  dropoff_longitude  dropoff_latitude  passenger_count  \\\n",
              "0        40.763805         -73.981430         40.743835                1   \n",
              "1        40.719383         -73.998886         40.739201                1   \n",
              "2        40.751260         -73.979654         40.746139                1   \n",
              "3        40.767807         -73.990448         40.751635                1   \n",
              "4        40.789775         -73.988565         40.744427                1   \n",
              "\n",
              "   hour  day_of_week  day_of_month  week  month  year  H_Distance  \n",
              "0    13            1            27     5      1  2015    2.323260  \n",
              "1    13            1            27     5      1  2015    2.425353  \n",
              "2    11            5             8    40     10  2011    0.618628  \n",
              "3    21            5             1    48     12  2012    1.961033  \n",
              "4    21            5             1    48     12  2012    5.387301  "
            ],
            "text/html": [
              "\n",
              "  <div id=\"df-54d5d8c5-ff8f-4b8a-95a2-8e374f48e5e4\">\n",
              "    <div class=\"colab-df-container\">\n",
              "      <div>\n",
              "<style scoped>\n",
              "    .dataframe tbody tr th:only-of-type {\n",
              "        vertical-align: middle;\n",
              "    }\n",
              "\n",
              "    .dataframe tbody tr th {\n",
              "        vertical-align: top;\n",
              "    }\n",
              "\n",
              "    .dataframe thead th {\n",
              "        text-align: right;\n",
              "    }\n",
              "</style>\n",
              "<table border=\"1\" class=\"dataframe\">\n",
              "  <thead>\n",
              "    <tr style=\"text-align: right;\">\n",
              "      <th></th>\n",
              "      <th>key</th>\n",
              "      <th>pickup_datetime</th>\n",
              "      <th>pickup_longitude</th>\n",
              "      <th>pickup_latitude</th>\n",
              "      <th>dropoff_longitude</th>\n",
              "      <th>dropoff_latitude</th>\n",
              "      <th>passenger_count</th>\n",
              "      <th>hour</th>\n",
              "      <th>day_of_week</th>\n",
              "      <th>day_of_month</th>\n",
              "      <th>week</th>\n",
              "      <th>month</th>\n",
              "      <th>year</th>\n",
              "      <th>H_Distance</th>\n",
              "    </tr>\n",
              "  </thead>\n",
              "  <tbody>\n",
              "    <tr>\n",
              "      <th>0</th>\n",
              "      <td>2015-01-27 13:08:24.000000200</td>\n",
              "      <td>2015-01-27 13:08:24+00:00</td>\n",
              "      <td>-73.973320</td>\n",
              "      <td>40.763805</td>\n",
              "      <td>-73.981430</td>\n",
              "      <td>40.743835</td>\n",
              "      <td>1</td>\n",
              "      <td>13</td>\n",
              "      <td>1</td>\n",
              "      <td>27</td>\n",
              "      <td>5</td>\n",
              "      <td>1</td>\n",
              "      <td>2015</td>\n",
              "      <td>2.323260</td>\n",
              "    </tr>\n",
              "    <tr>\n",
              "      <th>1</th>\n",
              "      <td>2015-01-27 13:08:24.000000300</td>\n",
              "      <td>2015-01-27 13:08:24+00:00</td>\n",
              "      <td>-73.986862</td>\n",
              "      <td>40.719383</td>\n",
              "      <td>-73.998886</td>\n",
              "      <td>40.739201</td>\n",
              "      <td>1</td>\n",
              "      <td>13</td>\n",
              "      <td>1</td>\n",
              "      <td>27</td>\n",
              "      <td>5</td>\n",
              "      <td>1</td>\n",
              "      <td>2015</td>\n",
              "      <td>2.425353</td>\n",
              "    </tr>\n",
              "    <tr>\n",
              "      <th>2</th>\n",
              "      <td>2011-10-08 11:53:44.000000200</td>\n",
              "      <td>2011-10-08 11:53:44+00:00</td>\n",
              "      <td>-73.982524</td>\n",
              "      <td>40.751260</td>\n",
              "      <td>-73.979654</td>\n",
              "      <td>40.746139</td>\n",
              "      <td>1</td>\n",
              "      <td>11</td>\n",
              "      <td>5</td>\n",
              "      <td>8</td>\n",
              "      <td>40</td>\n",
              "      <td>10</td>\n",
              "      <td>2011</td>\n",
              "      <td>0.618628</td>\n",
              "    </tr>\n",
              "    <tr>\n",
              "      <th>3</th>\n",
              "      <td>2012-12-01 21:12:12.000000200</td>\n",
              "      <td>2012-12-01 21:12:12+00:00</td>\n",
              "      <td>-73.981160</td>\n",
              "      <td>40.767807</td>\n",
              "      <td>-73.990448</td>\n",
              "      <td>40.751635</td>\n",
              "      <td>1</td>\n",
              "      <td>21</td>\n",
              "      <td>5</td>\n",
              "      <td>1</td>\n",
              "      <td>48</td>\n",
              "      <td>12</td>\n",
              "      <td>2012</td>\n",
              "      <td>1.961033</td>\n",
              "    </tr>\n",
              "    <tr>\n",
              "      <th>4</th>\n",
              "      <td>2012-12-01 21:12:12.000000300</td>\n",
              "      <td>2012-12-01 21:12:12+00:00</td>\n",
              "      <td>-73.966046</td>\n",
              "      <td>40.789775</td>\n",
              "      <td>-73.988565</td>\n",
              "      <td>40.744427</td>\n",
              "      <td>1</td>\n",
              "      <td>21</td>\n",
              "      <td>5</td>\n",
              "      <td>1</td>\n",
              "      <td>48</td>\n",
              "      <td>12</td>\n",
              "      <td>2012</td>\n",
              "      <td>5.387301</td>\n",
              "    </tr>\n",
              "  </tbody>\n",
              "</table>\n",
              "</div>\n",
              "      <button class=\"colab-df-convert\" onclick=\"convertToInteractive('df-54d5d8c5-ff8f-4b8a-95a2-8e374f48e5e4')\"\n",
              "              title=\"Convert this dataframe to an interactive table.\"\n",
              "              style=\"display:none;\">\n",
              "        \n",
              "  <svg xmlns=\"http://www.w3.org/2000/svg\" height=\"24px\"viewBox=\"0 0 24 24\"\n",
              "       width=\"24px\">\n",
              "    <path d=\"M0 0h24v24H0V0z\" fill=\"none\"/>\n",
              "    <path d=\"M18.56 5.44l.94 2.06.94-2.06 2.06-.94-2.06-.94-.94-2.06-.94 2.06-2.06.94zm-11 1L8.5 8.5l.94-2.06 2.06-.94-2.06-.94L8.5 2.5l-.94 2.06-2.06.94zm10 10l.94 2.06.94-2.06 2.06-.94-2.06-.94-.94-2.06-.94 2.06-2.06.94z\"/><path d=\"M17.41 7.96l-1.37-1.37c-.4-.4-.92-.59-1.43-.59-.52 0-1.04.2-1.43.59L10.3 9.45l-7.72 7.72c-.78.78-.78 2.05 0 2.83L4 21.41c.39.39.9.59 1.41.59.51 0 1.02-.2 1.41-.59l7.78-7.78 2.81-2.81c.8-.78.8-2.07 0-2.86zM5.41 20L4 18.59l7.72-7.72 1.47 1.35L5.41 20z\"/>\n",
              "  </svg>\n",
              "      </button>\n",
              "      \n",
              "  <style>\n",
              "    .colab-df-container {\n",
              "      display:flex;\n",
              "      flex-wrap:wrap;\n",
              "      gap: 12px;\n",
              "    }\n",
              "\n",
              "    .colab-df-convert {\n",
              "      background-color: #E8F0FE;\n",
              "      border: none;\n",
              "      border-radius: 50%;\n",
              "      cursor: pointer;\n",
              "      display: none;\n",
              "      fill: #1967D2;\n",
              "      height: 32px;\n",
              "      padding: 0 0 0 0;\n",
              "      width: 32px;\n",
              "    }\n",
              "\n",
              "    .colab-df-convert:hover {\n",
              "      background-color: #E2EBFA;\n",
              "      box-shadow: 0px 1px 2px rgba(60, 64, 67, 0.3), 0px 1px 3px 1px rgba(60, 64, 67, 0.15);\n",
              "      fill: #174EA6;\n",
              "    }\n",
              "\n",
              "    [theme=dark] .colab-df-convert {\n",
              "      background-color: #3B4455;\n",
              "      fill: #D2E3FC;\n",
              "    }\n",
              "\n",
              "    [theme=dark] .colab-df-convert:hover {\n",
              "      background-color: #434B5C;\n",
              "      box-shadow: 0px 1px 3px 1px rgba(0, 0, 0, 0.15);\n",
              "      filter: drop-shadow(0px 1px 2px rgba(0, 0, 0, 0.3));\n",
              "      fill: #FFFFFF;\n",
              "    }\n",
              "  </style>\n",
              "\n",
              "      <script>\n",
              "        const buttonEl =\n",
              "          document.querySelector('#df-54d5d8c5-ff8f-4b8a-95a2-8e374f48e5e4 button.colab-df-convert');\n",
              "        buttonEl.style.display =\n",
              "          google.colab.kernel.accessAllowed ? 'block' : 'none';\n",
              "\n",
              "        async function convertToInteractive(key) {\n",
              "          const element = document.querySelector('#df-54d5d8c5-ff8f-4b8a-95a2-8e374f48e5e4');\n",
              "          const dataTable =\n",
              "            await google.colab.kernel.invokeFunction('convertToInteractive',\n",
              "                                                     [key], {});\n",
              "          if (!dataTable) return;\n",
              "\n",
              "          const docLinkHtml = 'Like what you see? Visit the ' +\n",
              "            '<a target=\"_blank\" href=https://colab.research.google.com/notebooks/data_table.ipynb>data table notebook</a>'\n",
              "            + ' to learn more about interactive tables.';\n",
              "          element.innerHTML = '';\n",
              "          dataTable['output_type'] = 'display_data';\n",
              "          await google.colab.output.renderOutput(dataTable, element);\n",
              "          const docLink = document.createElement('div');\n",
              "          docLink.innerHTML = docLinkHtml;\n",
              "          element.appendChild(docLink);\n",
              "        }\n",
              "      </script>\n",
              "    </div>\n",
              "  </div>\n",
              "  "
            ]
          },
          "metadata": {},
          "execution_count": 266
        }
      ]
    },
    {
      "cell_type": "code",
      "source": [
        "\n",
        "test.shape()"
      ],
      "metadata": {
        "id": "vIeHeeVWfU3S"
      },
      "execution_count": null,
      "outputs": []
    },
    {
      "cell_type": "code",
      "source": [
        "test_predic = new.predict(test)"
      ],
      "metadata": {
        "id": "eULnJJ_-fUzp"
      },
      "execution_count": null,
      "outputs": []
    },
    {
      "cell_type": "code",
      "source": [
        "print(test_predic)"
      ],
      "metadata": {
        "id": "zXL8EdKif1QB"
      },
      "execution_count": null,
      "outputs": []
    },
    {
      "cell_type": "code",
      "source": [
        "original_test = scalery.inverse_transform(test_predic)\n",
        "original_test"
      ],
      "metadata": {
        "id": "OeQhsGVlf1LJ"
      },
      "execution_count": null,
      "outputs": []
    },
    {
      "cell_type": "code",
      "source": [
        "test['fare_amount'] = original_test.flatten().tolist()\n",
        "test.head()"
      ],
      "metadata": {
        "id": "G-4q4VUVf1Go"
      },
      "execution_count": null,
      "outputs": []
    }
  ]
}